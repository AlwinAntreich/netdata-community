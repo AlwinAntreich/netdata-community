{
 "metadata": {
  "language_info": {
   "codemirror_mode": {
    "name": "ipython",
    "version": 3
   },
   "file_extension": ".py",
   "mimetype": "text/x-python",
   "name": "python",
   "nbconvert_exporter": "python",
   "pygments_lexer": "ipython3",
   "version": "3.8.1-final"
  },
  "orig_nbformat": 2,
  "kernelspec": {
   "name": "python3",
   "display_name": "Python 3.8.1 64-bit ('venv')",
   "metadata": {
    "interpreter": {
     "hash": "f898777614c9e76283339cd3ad97bf2702d60cb6d5263ff41e85acecd6462b41"
    }
   }
  }
 },
 "nbformat": 4,
 "nbformat_minor": 2,
 "cells": [
  {
   "source": [
    "# Metrics Heatmap"
   ],
   "cell_type": "markdown",
   "metadata": {}
  },
  {
   "source": [
    "<a href=\"https://colab.research.google.com/github/netdata/netdata-community/blob/main/netdata-agent-api/netdata-pandas/metrics_heatmap.ipynb\" target=\"_blank\"><img src=\"https://colab.research.google.com/assets/colab-badge.svg\" alt=\"Open In Colab\"/></a>"
   ],
   "cell_type": "markdown",
   "metadata": {}
  },
  {
   "source": [
    "In this notebook we will use the [netdata-pandas](https://github.com/netdata/netdata-pandas) Python package to pull some data from some demo Netdata servers and make some pretty looking heatmaps, because we all love a good heatmap don't we. \n",
    "\n",
    "**Note**: you can click the \"Open in Colab\" button above to open this notebook in [Google Colab](https://colab.research.google.com/notebooks/intro.ipynb#recent=true) where you can just get going with it without having to set up python enviornments or any messy stuff like that."
   ],
   "cell_type": "markdown",
   "metadata": {}
  },
  {
   "cell_type": "code",
   "execution_count": 1,
   "metadata": {},
   "outputs": [],
   "source": [
    "# if you need to, uncomment below to install netdata-pandas and seaborn packages\n",
    "#!pip install plotly==4.14.1 netdata-pandas==0.0.33 scikit-learn==0.23.2"
   ]
  },
  {
   "cell_type": "code",
   "execution_count": 2,
   "metadata": {},
   "outputs": [],
   "source": [
    "import numpy as np\n",
    "import pandas as pd\n",
    "from netdata_pandas.data import get_data\n",
    "import plotly.express as px\n",
    "from sklearn.cluster import KMeans, AgglomerativeClustering"
   ]
  },
  {
   "source": [
    "Lets pull some data for the last 30 minutes."
   ],
   "cell_type": "markdown",
   "metadata": {}
  },
  {
   "cell_type": "code",
   "execution_count": 3,
   "metadata": {},
   "outputs": [],
   "source": [
    "# inputs\n",
    "hosts = ['london.my-netdata.io']\n",
    "charts_regex = 'system.*'\n",
    "before = 0\n",
    "after = -60*30\n",
    "resample_freq = '30s'"
   ]
  },
  {
   "cell_type": "code",
   "execution_count": 4,
   "metadata": {},
   "outputs": [
    {
     "output_type": "stream",
     "name": "stdout",
     "text": [
      "(1800, 72)\n"
     ]
    },
    {
     "output_type": "execute_result",
     "data": {
      "text/plain": [
       "                     system.active_processes|active  system.cpu|guest  \\\n",
       "time_idx                                                                \n",
       "2020-12-17 21:55:00                           210.0               0.0   \n",
       "2020-12-17 21:55:01                           210.0               0.0   \n",
       "2020-12-17 21:55:02                           210.0               0.0   \n",
       "2020-12-17 21:55:03                           210.0               0.0   \n",
       "2020-12-17 21:55:04                           210.0               0.0   \n",
       "\n",
       "                     system.cpu|guest_nice  system.cpu|iowait  system.cpu|irq  \\\n",
       "time_idx                                                                        \n",
       "2020-12-17 21:55:00                    0.0                0.0             0.0   \n",
       "2020-12-17 21:55:01                    0.0                0.0             0.0   \n",
       "2020-12-17 21:55:02                    0.0                0.0             0.0   \n",
       "2020-12-17 21:55:03                    0.0                0.0             0.0   \n",
       "2020-12-17 21:55:04                    0.0                0.0             0.0   \n",
       "\n",
       "                     system.cpu|nice  system.cpu|softirq  system.cpu|steal  \\\n",
       "time_idx                                                                     \n",
       "2020-12-17 21:55:00              0.0            0.000000          0.000000   \n",
       "2020-12-17 21:55:01              0.0            0.000000          0.746269   \n",
       "2020-12-17 21:55:02              0.0            0.246305          3.201970   \n",
       "2020-12-17 21:55:03              0.0            0.249377          1.246883   \n",
       "2020-12-17 21:55:04              0.0            0.000000          2.948403   \n",
       "\n",
       "                     system.cpu|system  system.cpu|user  ...  \\\n",
       "time_idx                                                 ...   \n",
       "2020-12-17 21:55:00           1.007557         0.755668  ...   \n",
       "2020-12-17 21:55:01           0.995025         1.990050  ...   \n",
       "2020-12-17 21:55:02           1.970443         0.985222  ...   \n",
       "2020-12-17 21:55:03           0.997506         0.997506  ...   \n",
       "2020-12-17 21:55:04           1.228501         0.491401  ...   \n",
       "\n",
       "                     system.softirqs|RCU  system.softirqs|SCHED  \\\n",
       "time_idx                                                          \n",
       "2020-12-17 21:55:00            121.13332              111.50723   \n",
       "2020-12-17 21:55:01            121.63017              116.31840   \n",
       "2020-12-17 21:55:02            145.14163              126.40951   \n",
       "2020-12-17 21:55:03            113.24100              103.32201   \n",
       "2020-12-17 21:55:04             94.56372               92.56660   \n",
       "\n",
       "                     system.softirqs|TASKLET  system.softirqs|TIMER  \\\n",
       "time_idx                                                              \n",
       "2020-12-17 21:55:00                 30.80371              157.56646   \n",
       "2020-12-17 21:55:01                 35.65587              166.67364   \n",
       "2020-12-17 21:55:02                 24.51585              174.24960   \n",
       "2020-12-17 21:55:03                 24.06558              140.32398   \n",
       "2020-12-17 21:55:04                 31.32625              127.20239   \n",
       "\n",
       "                     system.softnet_stat|dropped  \\\n",
       "time_idx                                           \n",
       "2020-12-17 21:55:00                          0.0   \n",
       "2020-12-17 21:55:01                          0.0   \n",
       "2020-12-17 21:55:02                          0.0   \n",
       "2020-12-17 21:55:03                          0.0   \n",
       "2020-12-17 21:55:04                          0.0   \n",
       "\n",
       "                     system.softnet_stat|flow_limit_count  \\\n",
       "time_idx                                                    \n",
       "2020-12-17 21:55:00                                   0.0   \n",
       "2020-12-17 21:55:01                                   0.0   \n",
       "2020-12-17 21:55:02                                   0.0   \n",
       "2020-12-17 21:55:03                                   0.0   \n",
       "2020-12-17 21:55:04                                   0.0   \n",
       "\n",
       "                     system.softnet_stat|processed  \\\n",
       "time_idx                                             \n",
       "2020-12-17 21:55:00                       89.31269   \n",
       "2020-12-17 21:55:01                      102.66124   \n",
       "2020-12-17 21:55:02                       65.57535   \n",
       "2020-12-17 21:55:03                       68.19300   \n",
       "2020-12-17 21:55:04                      100.12846   \n",
       "\n",
       "                     system.softnet_stat|received_rps  \\\n",
       "time_idx                                                \n",
       "2020-12-17 21:55:00                               0.0   \n",
       "2020-12-17 21:55:01                               0.0   \n",
       "2020-12-17 21:55:02                               0.0   \n",
       "2020-12-17 21:55:03                               0.0   \n",
       "2020-12-17 21:55:04                               0.0   \n",
       "\n",
       "                     system.softnet_stat|squeezed  system.uptime|uptime  \n",
       "time_idx                                                                 \n",
       "2020-12-17 21:55:00                           0.0            67378100.0  \n",
       "2020-12-17 21:55:01                           0.0            67378110.0  \n",
       "2020-12-17 21:55:02                           0.0            67378110.0  \n",
       "2020-12-17 21:55:03                           0.0            67378110.0  \n",
       "2020-12-17 21:55:04                           0.0            67378110.0  \n",
       "\n",
       "[5 rows x 72 columns]"
      ],
      "text/html": "<div>\n<style scoped>\n    .dataframe tbody tr th:only-of-type {\n        vertical-align: middle;\n    }\n\n    .dataframe tbody tr th {\n        vertical-align: top;\n    }\n\n    .dataframe thead th {\n        text-align: right;\n    }\n</style>\n<table border=\"1\" class=\"dataframe\">\n  <thead>\n    <tr style=\"text-align: right;\">\n      <th></th>\n      <th>system.active_processes|active</th>\n      <th>system.cpu|guest</th>\n      <th>system.cpu|guest_nice</th>\n      <th>system.cpu|iowait</th>\n      <th>system.cpu|irq</th>\n      <th>system.cpu|nice</th>\n      <th>system.cpu|softirq</th>\n      <th>system.cpu|steal</th>\n      <th>system.cpu|system</th>\n      <th>system.cpu|user</th>\n      <th>...</th>\n      <th>system.softirqs|RCU</th>\n      <th>system.softirqs|SCHED</th>\n      <th>system.softirqs|TASKLET</th>\n      <th>system.softirqs|TIMER</th>\n      <th>system.softnet_stat|dropped</th>\n      <th>system.softnet_stat|flow_limit_count</th>\n      <th>system.softnet_stat|processed</th>\n      <th>system.softnet_stat|received_rps</th>\n      <th>system.softnet_stat|squeezed</th>\n      <th>system.uptime|uptime</th>\n    </tr>\n    <tr>\n      <th>time_idx</th>\n      <th></th>\n      <th></th>\n      <th></th>\n      <th></th>\n      <th></th>\n      <th></th>\n      <th></th>\n      <th></th>\n      <th></th>\n      <th></th>\n      <th></th>\n      <th></th>\n      <th></th>\n      <th></th>\n      <th></th>\n      <th></th>\n      <th></th>\n      <th></th>\n      <th></th>\n      <th></th>\n      <th></th>\n    </tr>\n  </thead>\n  <tbody>\n    <tr>\n      <th>2020-12-17 21:55:00</th>\n      <td>210.0</td>\n      <td>0.0</td>\n      <td>0.0</td>\n      <td>0.0</td>\n      <td>0.0</td>\n      <td>0.0</td>\n      <td>0.000000</td>\n      <td>0.000000</td>\n      <td>1.007557</td>\n      <td>0.755668</td>\n      <td>...</td>\n      <td>121.13332</td>\n      <td>111.50723</td>\n      <td>30.80371</td>\n      <td>157.56646</td>\n      <td>0.0</td>\n      <td>0.0</td>\n      <td>89.31269</td>\n      <td>0.0</td>\n      <td>0.0</td>\n      <td>67378100.0</td>\n    </tr>\n    <tr>\n      <th>2020-12-17 21:55:01</th>\n      <td>210.0</td>\n      <td>0.0</td>\n      <td>0.0</td>\n      <td>0.0</td>\n      <td>0.0</td>\n      <td>0.0</td>\n      <td>0.000000</td>\n      <td>0.746269</td>\n      <td>0.995025</td>\n      <td>1.990050</td>\n      <td>...</td>\n      <td>121.63017</td>\n      <td>116.31840</td>\n      <td>35.65587</td>\n      <td>166.67364</td>\n      <td>0.0</td>\n      <td>0.0</td>\n      <td>102.66124</td>\n      <td>0.0</td>\n      <td>0.0</td>\n      <td>67378110.0</td>\n    </tr>\n    <tr>\n      <th>2020-12-17 21:55:02</th>\n      <td>210.0</td>\n      <td>0.0</td>\n      <td>0.0</td>\n      <td>0.0</td>\n      <td>0.0</td>\n      <td>0.0</td>\n      <td>0.246305</td>\n      <td>3.201970</td>\n      <td>1.970443</td>\n      <td>0.985222</td>\n      <td>...</td>\n      <td>145.14163</td>\n      <td>126.40951</td>\n      <td>24.51585</td>\n      <td>174.24960</td>\n      <td>0.0</td>\n      <td>0.0</td>\n      <td>65.57535</td>\n      <td>0.0</td>\n      <td>0.0</td>\n      <td>67378110.0</td>\n    </tr>\n    <tr>\n      <th>2020-12-17 21:55:03</th>\n      <td>210.0</td>\n      <td>0.0</td>\n      <td>0.0</td>\n      <td>0.0</td>\n      <td>0.0</td>\n      <td>0.0</td>\n      <td>0.249377</td>\n      <td>1.246883</td>\n      <td>0.997506</td>\n      <td>0.997506</td>\n      <td>...</td>\n      <td>113.24100</td>\n      <td>103.32201</td>\n      <td>24.06558</td>\n      <td>140.32398</td>\n      <td>0.0</td>\n      <td>0.0</td>\n      <td>68.19300</td>\n      <td>0.0</td>\n      <td>0.0</td>\n      <td>67378110.0</td>\n    </tr>\n    <tr>\n      <th>2020-12-17 21:55:04</th>\n      <td>210.0</td>\n      <td>0.0</td>\n      <td>0.0</td>\n      <td>0.0</td>\n      <td>0.0</td>\n      <td>0.0</td>\n      <td>0.000000</td>\n      <td>2.948403</td>\n      <td>1.228501</td>\n      <td>0.491401</td>\n      <td>...</td>\n      <td>94.56372</td>\n      <td>92.56660</td>\n      <td>31.32625</td>\n      <td>127.20239</td>\n      <td>0.0</td>\n      <td>0.0</td>\n      <td>100.12846</td>\n      <td>0.0</td>\n      <td>0.0</td>\n      <td>67378110.0</td>\n    </tr>\n  </tbody>\n</table>\n<p>5 rows × 72 columns</p>\n</div>"
     },
     "metadata": {},
     "execution_count": 4
    }
   ],
   "source": [
    "# get the data\n",
    "df_raw = get_data(hosts=hosts, charts_regex=charts_regex, after=after, before=before, index_as_datetime=True)\n",
    "print(df_raw.shape)\n",
    "df_raw.head()"
   ]
  },
  {
   "source": [
    "## Heatmaps!"
   ],
   "cell_type": "markdown",
   "metadata": {}
  },
  {
   "cell_type": "code",
   "execution_count": 5,
   "metadata": {},
   "outputs": [
    {
     "output_type": "stream",
     "name": "stdout",
     "text": [
      "(60, 47)\n"
     ]
    },
    {
     "output_type": "execute_result",
     "data": {
      "text/plain": [
       "                     system.interrupts|qxl_11  system.cpu|steal  \\\n",
       "time_idx                                                          \n",
       "2020-12-17 21:55:00                  0.000000          0.222574   \n",
       "2020-12-17 21:55:30                  1.000000          0.087554   \n",
       "2020-12-17 21:56:00                  0.673989          0.378078   \n",
       "2020-12-17 21:56:30                  0.326011          0.396085   \n",
       "2020-12-17 21:57:00                  1.000000          0.687260   \n",
       "2020-12-17 21:57:30                  0.000000          0.029581   \n",
       "2020-12-17 21:58:00                  1.000000          0.076275   \n",
       "2020-12-17 21:58:30                  0.673375          0.234837   \n",
       "2020-12-17 21:59:00                  0.326625          0.147947   \n",
       "2020-12-17 21:59:30                  1.000000          0.058828   \n",
       "\n",
       "                     system.entropy|entropy  system.ctxt|switches  \\\n",
       "time_idx                                                            \n",
       "2020-12-17 21:55:00                0.983504              0.807816   \n",
       "2020-12-17 21:55:30                0.084234              0.867975   \n",
       "2020-12-17 21:56:00                0.198540              0.550063   \n",
       "2020-12-17 21:56:30                0.307299              0.564800   \n",
       "2020-12-17 21:57:00                0.415182              0.323184   \n",
       "2020-12-17 21:57:30                0.521168              0.930842   \n",
       "2020-12-17 21:58:00                0.635182              0.717451   \n",
       "2020-12-17 21:58:30                0.754745              0.711628   \n",
       "2020-12-17 21:59:00                0.868613              0.878319   \n",
       "2020-12-17 21:59:30                0.985109              0.814631   \n",
       "\n",
       "                     system.uptime|uptime  system.ram|cached  \\\n",
       "time_idx                                                       \n",
       "2020-12-17 21:55:00              0.000000           0.000000   \n",
       "2020-12-17 21:55:30              0.016949           0.011443   \n",
       "2020-12-17 21:56:00              0.033898           0.041257   \n",
       "2020-12-17 21:56:30              0.050847           0.053775   \n",
       "2020-12-17 21:57:00              0.067797           0.072130   \n",
       "2020-12-17 21:57:30              0.084746           0.089725   \n",
       "2020-12-17 21:58:00              0.101695           0.105070   \n",
       "2020-12-17 21:58:30              0.118644           0.123458   \n",
       "2020-12-17 21:59:00              0.135593           0.135513   \n",
       "2020-12-17 21:59:30              0.152542           0.150792   \n",
       "\n",
       "                     system.interrupts|TLB  system.intr|interrupts  \\\n",
       "time_idx                                                             \n",
       "2020-12-17 21:55:00               0.666969                0.756294   \n",
       "2020-12-17 21:55:30               0.847968                0.826571   \n",
       "2020-12-17 21:56:00               0.380655                0.466751   \n",
       "2020-12-17 21:56:30               0.387496                0.521437   \n",
       "2020-12-17 21:57:00               0.329303                0.335555   \n",
       "2020-12-17 21:57:30               0.864195                0.867495   \n",
       "2020-12-17 21:58:00               0.505091                0.677252   \n",
       "2020-12-17 21:58:30               0.476352                0.711761   \n",
       "2020-12-17 21:59:00               0.651264                0.922187   \n",
       "2020-12-17 21:59:30               0.714177                0.703213   \n",
       "\n",
       "                     system.interrupts|RES  system.idlejitter|average  ...  \\\n",
       "time_idx                                                               ...   \n",
       "2020-12-17 21:55:00               0.730444                   0.172490  ...   \n",
       "2020-12-17 21:55:30               0.815922                   0.121355  ...   \n",
       "2020-12-17 21:56:00               0.479479                   0.413721  ...   \n",
       "2020-12-17 21:56:30               0.444300                   0.349800  ...   \n",
       "2020-12-17 21:57:00               0.264216                   0.586346  ...   \n",
       "2020-12-17 21:57:30               0.846815                   0.065381  ...   \n",
       "2020-12-17 21:58:00               0.631775                   0.093603  ...   \n",
       "2020-12-17 21:58:30               0.535099                   0.271709  ...   \n",
       "2020-12-17 21:59:00               0.665861                   0.166107  ...   \n",
       "2020-12-17 21:59:30               0.778257                   0.097164  ...   \n",
       "\n",
       "                     system.net|received  system.softirqs|TIMER  \\\n",
       "time_idx                                                          \n",
       "2020-12-17 21:55:00             0.340323               0.264969   \n",
       "2020-12-17 21:55:30             0.464811               0.375521   \n",
       "2020-12-17 21:56:00             0.237395               0.190924   \n",
       "2020-12-17 21:56:30             0.259510               0.328464   \n",
       "2020-12-17 21:57:00             0.315733               0.430230   \n",
       "2020-12-17 21:57:30             0.161651               0.157091   \n",
       "2020-12-17 21:58:00             0.284549               0.113713   \n",
       "2020-12-17 21:58:30             0.340436               0.338715   \n",
       "2020-12-17 21:59:00             0.251623               0.255279   \n",
       "2020-12-17 21:59:30             0.079362               0.099253   \n",
       "\n",
       "                     system.softnet_stat|processed  system.softirqs|NET_RX  \\\n",
       "time_idx                                                                     \n",
       "2020-12-17 21:55:00                       0.271254                0.305197   \n",
       "2020-12-17 21:55:30                       0.333994                0.387389   \n",
       "2020-12-17 21:56:00                       0.148356                0.198073   \n",
       "2020-12-17 21:56:30                       0.228352                0.249885   \n",
       "2020-12-17 21:57:00                       0.341456                0.262346   \n",
       "2020-12-17 21:57:30                       0.125202                0.148650   \n",
       "2020-12-17 21:58:00                       0.256175                0.228951   \n",
       "2020-12-17 21:58:30                       0.300076                0.259544   \n",
       "2020-12-17 21:59:00                       0.234432                0.242105   \n",
       "2020-12-17 21:59:30                       0.064254                0.063047   \n",
       "\n",
       "                     system.cpu|softirq  system.softirqs|TASKLET  \\\n",
       "time_idx                                                           \n",
       "2020-12-17 21:55:00            0.353530                 0.250110   \n",
       "2020-12-17 21:55:30            0.407064                 0.312999   \n",
       "2020-12-17 21:56:00            0.400833                 0.158191   \n",
       "2020-12-17 21:56:30            0.153454                 0.241310   \n",
       "2020-12-17 21:57:00            0.399676                 0.233902   \n",
       "2020-12-17 21:57:30            0.104740                 0.123046   \n",
       "2020-12-17 21:58:00            0.305172                 0.221009   \n",
       "2020-12-17 21:58:30            0.303536                 0.268532   \n",
       "2020-12-17 21:59:00            0.306825                 0.240432   \n",
       "2020-12-17 21:59:30            0.306805                 0.058326   \n",
       "\n",
       "                     system.interrupts|virtio0-input.0_25  \\\n",
       "time_idx                                                    \n",
       "2020-12-17 21:55:00                              0.224691   \n",
       "2020-12-17 21:55:30                              0.297184   \n",
       "2020-12-17 21:56:00                              0.161296   \n",
       "2020-12-17 21:56:30                              0.224634   \n",
       "2020-12-17 21:57:00                              0.187124   \n",
       "2020-12-17 21:57:30                              0.120252   \n",
       "2020-12-17 21:58:00                              0.175892   \n",
       "2020-12-17 21:58:30                              0.209690   \n",
       "2020-12-17 21:59:00                              0.205119   \n",
       "2020-12-17 21:59:30                              0.056520   \n",
       "\n",
       "                     system.softnet_stat|squeezed  system.ipv6|sent  \\\n",
       "time_idx                                                              \n",
       "2020-12-17 21:55:00                           0.0               1.0   \n",
       "2020-12-17 21:55:30                           0.0               1.0   \n",
       "2020-12-17 21:56:00                           0.4               1.0   \n",
       "2020-12-17 21:56:30                           0.0               1.0   \n",
       "2020-12-17 21:57:00                           0.2               1.0   \n",
       "2020-12-17 21:57:30                           0.0               1.0   \n",
       "2020-12-17 21:58:00                           0.0               1.0   \n",
       "2020-12-17 21:58:30                           0.0               1.0   \n",
       "2020-12-17 21:59:00                           0.0               1.0   \n",
       "2020-12-17 21:59:30                           0.0               1.0   \n",
       "\n",
       "                     system.interrupts|virtio0-output.0_26  \n",
       "time_idx                                                    \n",
       "2020-12-17 21:55:00                                    0.0  \n",
       "2020-12-17 21:55:30                                    0.0  \n",
       "2020-12-17 21:56:00                                    0.0  \n",
       "2020-12-17 21:56:30                                    0.0  \n",
       "2020-12-17 21:57:00                                    0.0  \n",
       "2020-12-17 21:57:30                                    0.0  \n",
       "2020-12-17 21:58:00                                    0.0  \n",
       "2020-12-17 21:58:30                                    0.0  \n",
       "2020-12-17 21:59:00                                    0.0  \n",
       "2020-12-17 21:59:30                                    0.0  \n",
       "\n",
       "[10 rows x 47 columns]"
      ],
      "text/html": "<div>\n<style scoped>\n    .dataframe tbody tr th:only-of-type {\n        vertical-align: middle;\n    }\n\n    .dataframe tbody tr th {\n        vertical-align: top;\n    }\n\n    .dataframe thead th {\n        text-align: right;\n    }\n</style>\n<table border=\"1\" class=\"dataframe\">\n  <thead>\n    <tr style=\"text-align: right;\">\n      <th></th>\n      <th>system.interrupts|qxl_11</th>\n      <th>system.cpu|steal</th>\n      <th>system.entropy|entropy</th>\n      <th>system.ctxt|switches</th>\n      <th>system.uptime|uptime</th>\n      <th>system.ram|cached</th>\n      <th>system.interrupts|TLB</th>\n      <th>system.intr|interrupts</th>\n      <th>system.interrupts|RES</th>\n      <th>system.idlejitter|average</th>\n      <th>...</th>\n      <th>system.net|received</th>\n      <th>system.softirqs|TIMER</th>\n      <th>system.softnet_stat|processed</th>\n      <th>system.softirqs|NET_RX</th>\n      <th>system.cpu|softirq</th>\n      <th>system.softirqs|TASKLET</th>\n      <th>system.interrupts|virtio0-input.0_25</th>\n      <th>system.softnet_stat|squeezed</th>\n      <th>system.ipv6|sent</th>\n      <th>system.interrupts|virtio0-output.0_26</th>\n    </tr>\n    <tr>\n      <th>time_idx</th>\n      <th></th>\n      <th></th>\n      <th></th>\n      <th></th>\n      <th></th>\n      <th></th>\n      <th></th>\n      <th></th>\n      <th></th>\n      <th></th>\n      <th></th>\n      <th></th>\n      <th></th>\n      <th></th>\n      <th></th>\n      <th></th>\n      <th></th>\n      <th></th>\n      <th></th>\n      <th></th>\n      <th></th>\n    </tr>\n  </thead>\n  <tbody>\n    <tr>\n      <th>2020-12-17 21:55:00</th>\n      <td>0.000000</td>\n      <td>0.222574</td>\n      <td>0.983504</td>\n      <td>0.807816</td>\n      <td>0.000000</td>\n      <td>0.000000</td>\n      <td>0.666969</td>\n      <td>0.756294</td>\n      <td>0.730444</td>\n      <td>0.172490</td>\n      <td>...</td>\n      <td>0.340323</td>\n      <td>0.264969</td>\n      <td>0.271254</td>\n      <td>0.305197</td>\n      <td>0.353530</td>\n      <td>0.250110</td>\n      <td>0.224691</td>\n      <td>0.0</td>\n      <td>1.0</td>\n      <td>0.0</td>\n    </tr>\n    <tr>\n      <th>2020-12-17 21:55:30</th>\n      <td>1.000000</td>\n      <td>0.087554</td>\n      <td>0.084234</td>\n      <td>0.867975</td>\n      <td>0.016949</td>\n      <td>0.011443</td>\n      <td>0.847968</td>\n      <td>0.826571</td>\n      <td>0.815922</td>\n      <td>0.121355</td>\n      <td>...</td>\n      <td>0.464811</td>\n      <td>0.375521</td>\n      <td>0.333994</td>\n      <td>0.387389</td>\n      <td>0.407064</td>\n      <td>0.312999</td>\n      <td>0.297184</td>\n      <td>0.0</td>\n      <td>1.0</td>\n      <td>0.0</td>\n    </tr>\n    <tr>\n      <th>2020-12-17 21:56:00</th>\n      <td>0.673989</td>\n      <td>0.378078</td>\n      <td>0.198540</td>\n      <td>0.550063</td>\n      <td>0.033898</td>\n      <td>0.041257</td>\n      <td>0.380655</td>\n      <td>0.466751</td>\n      <td>0.479479</td>\n      <td>0.413721</td>\n      <td>...</td>\n      <td>0.237395</td>\n      <td>0.190924</td>\n      <td>0.148356</td>\n      <td>0.198073</td>\n      <td>0.400833</td>\n      <td>0.158191</td>\n      <td>0.161296</td>\n      <td>0.4</td>\n      <td>1.0</td>\n      <td>0.0</td>\n    </tr>\n    <tr>\n      <th>2020-12-17 21:56:30</th>\n      <td>0.326011</td>\n      <td>0.396085</td>\n      <td>0.307299</td>\n      <td>0.564800</td>\n      <td>0.050847</td>\n      <td>0.053775</td>\n      <td>0.387496</td>\n      <td>0.521437</td>\n      <td>0.444300</td>\n      <td>0.349800</td>\n      <td>...</td>\n      <td>0.259510</td>\n      <td>0.328464</td>\n      <td>0.228352</td>\n      <td>0.249885</td>\n      <td>0.153454</td>\n      <td>0.241310</td>\n      <td>0.224634</td>\n      <td>0.0</td>\n      <td>1.0</td>\n      <td>0.0</td>\n    </tr>\n    <tr>\n      <th>2020-12-17 21:57:00</th>\n      <td>1.000000</td>\n      <td>0.687260</td>\n      <td>0.415182</td>\n      <td>0.323184</td>\n      <td>0.067797</td>\n      <td>0.072130</td>\n      <td>0.329303</td>\n      <td>0.335555</td>\n      <td>0.264216</td>\n      <td>0.586346</td>\n      <td>...</td>\n      <td>0.315733</td>\n      <td>0.430230</td>\n      <td>0.341456</td>\n      <td>0.262346</td>\n      <td>0.399676</td>\n      <td>0.233902</td>\n      <td>0.187124</td>\n      <td>0.2</td>\n      <td>1.0</td>\n      <td>0.0</td>\n    </tr>\n    <tr>\n      <th>2020-12-17 21:57:30</th>\n      <td>0.000000</td>\n      <td>0.029581</td>\n      <td>0.521168</td>\n      <td>0.930842</td>\n      <td>0.084746</td>\n      <td>0.089725</td>\n      <td>0.864195</td>\n      <td>0.867495</td>\n      <td>0.846815</td>\n      <td>0.065381</td>\n      <td>...</td>\n      <td>0.161651</td>\n      <td>0.157091</td>\n      <td>0.125202</td>\n      <td>0.148650</td>\n      <td>0.104740</td>\n      <td>0.123046</td>\n      <td>0.120252</td>\n      <td>0.0</td>\n      <td>1.0</td>\n      <td>0.0</td>\n    </tr>\n    <tr>\n      <th>2020-12-17 21:58:00</th>\n      <td>1.000000</td>\n      <td>0.076275</td>\n      <td>0.635182</td>\n      <td>0.717451</td>\n      <td>0.101695</td>\n      <td>0.105070</td>\n      <td>0.505091</td>\n      <td>0.677252</td>\n      <td>0.631775</td>\n      <td>0.093603</td>\n      <td>...</td>\n      <td>0.284549</td>\n      <td>0.113713</td>\n      <td>0.256175</td>\n      <td>0.228951</td>\n      <td>0.305172</td>\n      <td>0.221009</td>\n      <td>0.175892</td>\n      <td>0.0</td>\n      <td>1.0</td>\n      <td>0.0</td>\n    </tr>\n    <tr>\n      <th>2020-12-17 21:58:30</th>\n      <td>0.673375</td>\n      <td>0.234837</td>\n      <td>0.754745</td>\n      <td>0.711628</td>\n      <td>0.118644</td>\n      <td>0.123458</td>\n      <td>0.476352</td>\n      <td>0.711761</td>\n      <td>0.535099</td>\n      <td>0.271709</td>\n      <td>...</td>\n      <td>0.340436</td>\n      <td>0.338715</td>\n      <td>0.300076</td>\n      <td>0.259544</td>\n      <td>0.303536</td>\n      <td>0.268532</td>\n      <td>0.209690</td>\n      <td>0.0</td>\n      <td>1.0</td>\n      <td>0.0</td>\n    </tr>\n    <tr>\n      <th>2020-12-17 21:59:00</th>\n      <td>0.326625</td>\n      <td>0.147947</td>\n      <td>0.868613</td>\n      <td>0.878319</td>\n      <td>0.135593</td>\n      <td>0.135513</td>\n      <td>0.651264</td>\n      <td>0.922187</td>\n      <td>0.665861</td>\n      <td>0.166107</td>\n      <td>...</td>\n      <td>0.251623</td>\n      <td>0.255279</td>\n      <td>0.234432</td>\n      <td>0.242105</td>\n      <td>0.306825</td>\n      <td>0.240432</td>\n      <td>0.205119</td>\n      <td>0.0</td>\n      <td>1.0</td>\n      <td>0.0</td>\n    </tr>\n    <tr>\n      <th>2020-12-17 21:59:30</th>\n      <td>1.000000</td>\n      <td>0.058828</td>\n      <td>0.985109</td>\n      <td>0.814631</td>\n      <td>0.152542</td>\n      <td>0.150792</td>\n      <td>0.714177</td>\n      <td>0.703213</td>\n      <td>0.778257</td>\n      <td>0.097164</td>\n      <td>...</td>\n      <td>0.079362</td>\n      <td>0.099253</td>\n      <td>0.064254</td>\n      <td>0.063047</td>\n      <td>0.306805</td>\n      <td>0.058326</td>\n      <td>0.056520</td>\n      <td>0.0</td>\n      <td>1.0</td>\n      <td>0.0</td>\n    </tr>\n  </tbody>\n</table>\n<p>10 rows × 47 columns</p>\n</div>"
     },
     "metadata": {},
     "execution_count": 5
    }
   ],
   "source": [
    "# lets resample to 10 sec frequency\n",
    "df = df_raw.resample(resample_freq).mean()\n",
    "\n",
    "# lets min-max normalize our data so metrics can be compared on a heatmap\n",
    "df=(df-df.min())/(df.max()-df.min())\n",
    "\n",
    "# drop na cols\n",
    "df = df.dropna(how='all', axis=1)\n",
    "\n",
    "# lets sort cols by their std to try make heatmap prettier\n",
    "df = df[df.std().sort_values(ascending=False).index]\n",
    "\n",
    "print(df.shape)\n",
    "df.head(10)"
   ]
  },
  {
   "cell_type": "code",
   "execution_count": 6,
   "metadata": {},
   "outputs": [],
   "source": [
    "# lets cluster the columns to show similar metrics next to each other on the heatmap\n",
    "#clustering = KMeans(n_clusters=int(round(len(df.columns)*0.2,0))).fit(df.fillna(0).transpose().values)\n",
    "clustering = AgglomerativeClustering(n_clusters=int(round(len(df.columns)*0.2,0))).fit(df.fillna(0).transpose().values)\n",
    "\n",
    "# get order of cols from the cluster labels\n",
    "cols_sorted = pd.DataFrame(\n",
    "    zip(df.columns, clustering.labels_), \n",
    "    columns=['metric', 'cluster']\n",
    "    ).sort_values('cluster')['metric'].values.tolist()\n",
    "\n",
    "# re-order cols\n",
    "df = df[cols_sorted]"
   ]
  },
  {
   "cell_type": "code",
   "execution_count": 7,
   "metadata": {},
   "outputs": [
    {
     "output_type": "display_data",
     "data": {
      "image/svg+xml": "<svg class=\"main-svg\" xmlns=\"http://www.w3.org/2000/svg\" xmlns:xlink=\"http://www.w3.org/1999/xlink\" width=\"700\" height=\"450\" style=\"\" viewBox=\"0 0 700 450\"><rect x=\"0\" y=\"0\" width=\"700\" height=\"450\" style=\"fill: rgb(255, 255, 255); fill-opacity: 1;\"/><defs id=\"defs-c3d52c\"><g class=\"clips\"><clipPath id=\"clipc3d52cxyplot\" class=\"plotclip\"><rect width=\"368\" height=\"310\"/></clipPath><clipPath class=\"axesclip\" id=\"clipc3d52cx\"><rect x=\"243\" y=\"0\" width=\"368\" height=\"450\"/></clipPath><clipPath class=\"axesclip\" id=\"clipc3d52cy\"><rect x=\"0\" y=\"60\" width=\"700\" height=\"310\"/></clipPath><clipPath class=\"axesclip\" id=\"clipc3d52cxy\"><rect x=\"243\" y=\"60\" width=\"368\" height=\"310\"/></clipPath></g><g class=\"gradients\"><linearGradient x1=\"0\" x2=\"0\" y1=\"1\" y2=\"0\" id=\"gc3d52c-cbcoloraxis\"><stop offset=\"0%\" stop-color=\"rgb(13, 8, 135)\" stop-opacity=\"1\"/><stop offset=\"11.11111111111111%\" stop-color=\"rgb(70, 3, 159)\" stop-opacity=\"1\"/><stop offset=\"22.22222222222222%\" stop-color=\"rgb(114, 1, 168)\" stop-opacity=\"1\"/><stop offset=\"33.33333333333333%\" stop-color=\"rgb(156, 23, 158)\" stop-opacity=\"1\"/><stop offset=\"44.44444444444444%\" stop-color=\"rgb(189, 55, 134)\" stop-opacity=\"1\"/><stop offset=\"55.55555555555556%\" stop-color=\"rgb(216, 87, 107)\" stop-opacity=\"1\"/><stop offset=\"66.66666666666666%\" stop-color=\"rgb(237, 121, 83)\" stop-opacity=\"1\"/><stop offset=\"77.77777777777779%\" stop-color=\"rgb(251, 159, 58)\" stop-opacity=\"1\"/><stop offset=\"88.88888888888889%\" stop-color=\"rgb(253, 202, 38)\" stop-opacity=\"1\"/><stop offset=\"100%\" stop-color=\"rgb(240, 249, 33)\" stop-opacity=\"1\"/></linearGradient></g></defs><g class=\"bglayer\"><rect class=\"bg\" x=\"243\" y=\"60\" width=\"368\" height=\"310\" style=\"fill: rgb(229, 236, 246); fill-opacity: 1; stroke-width: 0;\"/></g><g class=\"layer-below\"><g class=\"imagelayer\"/><g class=\"shapelayer\"/></g><g class=\"cartesianlayer\"><g class=\"subplot xy\"><g class=\"layer-subplot\"><g class=\"shapelayer\"/><g class=\"imagelayer\"/></g><g class=\"gridlayer\"><g class=\"x\"><path class=\"xgrid crisp\" transform=\"translate(307.4,0)\" d=\"M0,60v310\" style=\"stroke: rgb(255, 255, 255); stroke-opacity: 1; stroke-width: 1px;\"/><path class=\"xgrid crisp\" transform=\"translate(430.07,0)\" d=\"M0,60v310\" style=\"stroke: rgb(255, 255, 255); stroke-opacity: 1; stroke-width: 1px;\"/><path class=\"xgrid crisp\" transform=\"translate(552.73,0)\" d=\"M0,60v310\" style=\"stroke: rgb(255, 255, 255); stroke-opacity: 1; stroke-width: 1px;\"/></g><g class=\"y\"><path class=\"ygrid crisp\" transform=\"translate(0,360.11)\" d=\"M243,0h368\" style=\"stroke: rgb(255, 255, 255); stroke-opacity: 1; stroke-width: 1px;\"/><path class=\"ygrid crisp\" transform=\"translate(0,340.32)\" d=\"M243,0h368\" style=\"stroke: rgb(255, 255, 255); stroke-opacity: 1; stroke-width: 1px;\"/><path class=\"ygrid crisp\" transform=\"translate(0,320.53)\" d=\"M243,0h368\" style=\"stroke: rgb(255, 255, 255); stroke-opacity: 1; stroke-width: 1px;\"/><path class=\"ygrid crisp\" transform=\"translate(0,300.74)\" d=\"M243,0h368\" style=\"stroke: rgb(255, 255, 255); stroke-opacity: 1; stroke-width: 1px;\"/><path class=\"ygrid crisp\" transform=\"translate(0,280.96000000000004)\" d=\"M243,0h368\" style=\"stroke: rgb(255, 255, 255); stroke-opacity: 1; stroke-width: 1px;\"/><path class=\"ygrid crisp\" transform=\"translate(0,261.16999999999996)\" d=\"M243,0h368\" style=\"stroke: rgb(255, 255, 255); stroke-opacity: 1; stroke-width: 1px;\"/><path class=\"ygrid crisp\" transform=\"translate(0,241.38)\" d=\"M243,0h368\" style=\"stroke: rgb(255, 255, 255); stroke-opacity: 1; stroke-width: 1px;\"/><path class=\"ygrid crisp\" transform=\"translate(0,221.6)\" d=\"M243,0h368\" style=\"stroke: rgb(255, 255, 255); stroke-opacity: 1; stroke-width: 1px;\"/><path class=\"ygrid crisp\" transform=\"translate(0,201.81)\" d=\"M243,0h368\" style=\"stroke: rgb(255, 255, 255); stroke-opacity: 1; stroke-width: 1px;\"/><path class=\"ygrid crisp\" transform=\"translate(0,182.01999999999998)\" d=\"M243,0h368\" style=\"stroke: rgb(255, 255, 255); stroke-opacity: 1; stroke-width: 1px;\"/><path class=\"ygrid crisp\" transform=\"translate(0,162.23000000000002)\" d=\"M243,0h368\" style=\"stroke: rgb(255, 255, 255); stroke-opacity: 1; stroke-width: 1px;\"/><path class=\"ygrid crisp\" transform=\"translate(0,142.45)\" d=\"M243,0h368\" style=\"stroke: rgb(255, 255, 255); stroke-opacity: 1; stroke-width: 1px;\"/><path class=\"ygrid crisp\" transform=\"translate(0,122.66)\" d=\"M243,0h368\" style=\"stroke: rgb(255, 255, 255); stroke-opacity: 1; stroke-width: 1px;\"/><path class=\"ygrid crisp\" transform=\"translate(0,102.87)\" d=\"M243,0h368\" style=\"stroke: rgb(255, 255, 255); stroke-opacity: 1; stroke-width: 1px;\"/><path class=\"ygrid crisp\" transform=\"translate(0,83.09)\" d=\"M243,0h368\" style=\"stroke: rgb(255, 255, 255); stroke-opacity: 1; stroke-width: 1px;\"/><path class=\"ygrid crisp\" transform=\"translate(0,63.3)\" d=\"M243,0h368\" style=\"stroke: rgb(255, 255, 255); stroke-opacity: 1; stroke-width: 1px;\"/></g></g><g class=\"zerolinelayer\"/><path class=\"xlines-below\"/><path class=\"ylines-below\"/><g class=\"overlines-below\"/><g class=\"xaxislayer-below\"/><g class=\"yaxislayer-below\"/><g class=\"overaxes-below\"/><g class=\"plot\" transform=\"translate(243,60)\" clip-path=\"url('#clipc3d52cxyplot')\"><g class=\"heatmaplayer mlayer\"><g class=\"hm\"><image xmlns=\"http://www.w3.org/2000/svg\" preserveAspectRatio=\"none\" height=\"310\" width=\"368\" x=\"0\" y=\"0\" xlink:href=\"data:image/png;base64,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\" style=\"opacity: 1;\"/></g></g></g><g class=\"overplot\"/><path class=\"xlines-above crisp\" d=\"M0,0\" style=\"fill: none;\"/><path class=\"ylines-above crisp\" d=\"M0,0\" style=\"fill: none;\"/><g class=\"overlines-above\"/><g class=\"xaxislayer-above\"><g class=\"xtick\"><text text-anchor=\"middle\" x=\"0\" y=\"383\" transform=\"translate(307.4,0)\" style=\"font-family: 'Open Sans', verdana, arial, sans-serif; font-size: 12px; fill: rgb(42, 63, 95); fill-opacity: 1; white-space: pre;\"><tspan class=\"line\" dy=\"0em\" x=\"0\" y=\"383\">22:00</tspan><tspan class=\"line\" dy=\"1.3em\" x=\"0\" y=\"383\">Dec 17, 2020</tspan></text></g><g class=\"xtick\"><text text-anchor=\"middle\" x=\"0\" y=\"383\" transform=\"translate(430.07,0)\" style=\"font-family: 'Open Sans', verdana, arial, sans-serif; font-size: 12px; fill: rgb(42, 63, 95); fill-opacity: 1; white-space: pre;\">22:10</text></g><g class=\"xtick\"><text text-anchor=\"middle\" x=\"0\" y=\"383\" transform=\"translate(552.73,0)\" style=\"font-family: 'Open Sans', verdana, arial, sans-serif; font-size: 12px; fill: rgb(42, 63, 95); fill-opacity: 1; white-space: pre;\">22:20</text></g></g><g class=\"yaxislayer-above\"><g class=\"ytick\"><text text-anchor=\"end\" x=\"242\" y=\"4.199999999999999\" transform=\"translate(0,360.11)\" style=\"font-family: 'Open Sans', verdana, arial, sans-serif; font-size: 12px; fill: rgb(42, 63, 95); fill-opacity: 1; white-space: pre;\">system.ram|used</text></g><g class=\"ytick\"><text text-anchor=\"end\" x=\"242\" y=\"4.199999999999999\" transform=\"translate(0,340.32)\" style=\"font-family: 'Open Sans', verdana, arial, sans-serif; font-size: 12px; fill: rgb(42, 63, 95); fill-opacity: 1; white-space: pre;\">system.interrupts|qxl_11</text></g><g class=\"ytick\"><text text-anchor=\"end\" x=\"242\" y=\"4.199999999999999\" transform=\"translate(0,320.53)\" style=\"font-family: 'Open Sans', verdana, arial, sans-serif; font-size: 12px; fill: rgb(42, 63, 95); fill-opacity: 1; white-space: pre;\">system.interrupts|virtio0-output.0_26</text></g><g class=\"ytick\"><text text-anchor=\"end\" x=\"242\" y=\"4.199999999999999\" transform=\"translate(0,300.74)\" style=\"font-family: 'Open Sans', verdana, arial, sans-serif; font-size: 12px; fill: rgb(42, 63, 95); fill-opacity: 1; white-space: pre;\">system.intr|interrupts</text></g><g class=\"ytick\"><text text-anchor=\"end\" x=\"242\" y=\"4.199999999999999\" transform=\"translate(0,280.96000000000004)\" style=\"font-family: 'Open Sans', verdana, arial, sans-serif; font-size: 12px; fill: rgb(42, 63, 95); fill-opacity: 1; white-space: pre;\">system.interrupts|RES</text></g><g class=\"ytick\"><text text-anchor=\"end\" x=\"242\" y=\"4.199999999999999\" transform=\"translate(0,261.16999999999996)\" style=\"font-family: 'Open Sans', verdana, arial, sans-serif; font-size: 12px; fill: rgb(42, 63, 95); fill-opacity: 1; white-space: pre;\">system.idlejitter|average</text></g><g class=\"ytick\"><text text-anchor=\"end\" x=\"242\" y=\"4.199999999999999\" transform=\"translate(0,241.38)\" style=\"font-family: 'Open Sans', verdana, arial, sans-serif; font-size: 12px; fill: rgb(42, 63, 95); fill-opacity: 1; white-space: pre;\">system.active_processes|active</text></g><g class=\"ytick\"><text text-anchor=\"end\" x=\"242\" y=\"4.199999999999999\" transform=\"translate(0,221.6)\" style=\"font-family: 'Open Sans', verdana, arial, sans-serif; font-size: 12px; fill: rgb(42, 63, 95); fill-opacity: 1; white-space: pre;\">system.entropy|entropy</text></g><g class=\"ytick\"><text text-anchor=\"end\" x=\"242\" y=\"4.199999999999999\" transform=\"translate(0,201.81)\" style=\"font-family: 'Open Sans', verdana, arial, sans-serif; font-size: 12px; fill: rgb(42, 63, 95); fill-opacity: 1; white-space: pre;\">system.uptime|uptime</text></g><g class=\"ytick\"><text text-anchor=\"end\" x=\"242\" y=\"4.199999999999999\" transform=\"translate(0,182.01999999999998)\" style=\"font-family: 'Open Sans', verdana, arial, sans-serif; font-size: 12px; fill: rgb(42, 63, 95); fill-opacity: 1; white-space: pre;\">system.softirqs|TIMER</text></g><g class=\"ytick\"><text text-anchor=\"end\" x=\"242\" y=\"4.199999999999999\" transform=\"translate(0,162.23000000000002)\" style=\"font-family: 'Open Sans', verdana, arial, sans-serif; font-size: 12px; fill: rgb(42, 63, 95); fill-opacity: 1; white-space: pre;\">system.interrupts|virtio2-req.0_32</text></g><g class=\"ytick\"><text text-anchor=\"end\" x=\"242\" y=\"4.199999999999999\" transform=\"translate(0,142.45)\" style=\"font-family: 'Open Sans', verdana, arial, sans-serif; font-size: 12px; fill: rgb(42, 63, 95); fill-opacity: 1; white-space: pre;\">system.softirqs|RCU</text></g><g class=\"ytick\"><text text-anchor=\"end\" x=\"242\" y=\"4.199999999999999\" transform=\"translate(0,122.66)\" style=\"font-family: 'Open Sans', verdana, arial, sans-serif; font-size: 12px; fill: rgb(42, 63, 95); fill-opacity: 1; white-space: pre;\">system.ip|received</text></g><g class=\"ytick\"><text text-anchor=\"end\" x=\"242\" y=\"4.199999999999999\" transform=\"translate(0,102.87)\" style=\"font-family: 'Open Sans', verdana, arial, sans-serif; font-size: 12px; fill: rgb(42, 63, 95); fill-opacity: 1; white-space: pre;\">system.cpu|iowait</text></g><g class=\"ytick\"><text text-anchor=\"end\" x=\"242\" y=\"4.199999999999999\" transform=\"translate(0,83.09)\" style=\"font-family: 'Open Sans', verdana, arial, sans-serif; font-size: 12px; fill: rgb(42, 63, 95); fill-opacity: 1; white-space: pre;\">system.ipv6|sent</text></g><g class=\"ytick\"><text text-anchor=\"end\" x=\"242\" y=\"4.199999999999999\" transform=\"translate(0,63.3)\" style=\"font-family: 'Open Sans', verdana, arial, sans-serif; font-size: 12px; fill: rgb(42, 63, 95); fill-opacity: 1; white-space: pre;\">system.net|sent</text></g></g><g class=\"overaxes-above\"/></g></g><g class=\"polarlayer\"/><g class=\"ternarylayer\"/><g class=\"geolayer\"/><g class=\"funnelarealayer\"/><g class=\"pielayer\"/><g class=\"treemaplayer\"/><g class=\"sunburstlayer\"/><g class=\"glimages\"/><defs id=\"topdefs-c3d52c\"><g class=\"clips\"/></defs><g class=\"layer-above\"><g class=\"imagelayer\"/><g class=\"shapelayer\"/></g><g class=\"infolayer\"><g class=\"cbcoloraxis colorbar\" transform=\"translate(243,60)\"><rect class=\"cbbg\" x=\"375\" y=\"0\" width=\"70.015625\" height=\"310\" style=\"fill: rgb(0, 0, 0); fill-opacity: 0; stroke: rgb(68, 68, 68); stroke-opacity: 1; stroke-width: 0;\"/><g class=\"cbfills\" transform=\"translate(0,10)\"><rect class=\"cbfill\" x=\"385\" width=\"30\" y=\"0\" height=\"290\" style=\"fill: url('#gc3d52c-cbcoloraxis');\"/></g><g class=\"cblines\" transform=\"translate(0,10)\"/><g class=\"cbaxis crisp\" transform=\"translate(0,-60)\"><g class=\"ycbcoloraxistick\"><text text-anchor=\"start\" x=\"417.9\" y=\"4.199999999999999\" transform=\"translate(0,360)\" style=\"font-family: 'Open Sans', verdana, arial, sans-serif; font-size: 12px; fill: rgb(42, 63, 95); fill-opacity: 1; white-space: pre;\">0</text></g><g class=\"ycbcoloraxistick\"><text text-anchor=\"start\" x=\"417.9\" y=\"4.199999999999999\" transform=\"translate(0,302)\" style=\"font-family: 'Open Sans', verdana, arial, sans-serif; font-size: 12px; fill: rgb(42, 63, 95); fill-opacity: 1; white-space: pre;\">0.2</text></g><g class=\"ycbcoloraxistick\"><text text-anchor=\"start\" x=\"417.9\" y=\"4.199999999999999\" transform=\"translate(0,244)\" style=\"font-family: 'Open Sans', verdana, arial, sans-serif; font-size: 12px; fill: rgb(42, 63, 95); fill-opacity: 1; white-space: pre;\">0.4</text></g><g class=\"ycbcoloraxistick\"><text text-anchor=\"start\" x=\"417.9\" y=\"4.199999999999999\" transform=\"translate(0,186)\" style=\"font-family: 'Open Sans', verdana, arial, sans-serif; font-size: 12px; fill: rgb(42, 63, 95); fill-opacity: 1; white-space: pre;\">0.6</text></g><g class=\"ycbcoloraxistick\"><text text-anchor=\"start\" x=\"417.9\" y=\"4.199999999999999\" transform=\"translate(0,127.99999999999999)\" style=\"font-family: 'Open Sans', verdana, arial, sans-serif; font-size: 12px; fill: rgb(42, 63, 95); fill-opacity: 1; white-space: pre;\">0.8</text></g><g class=\"ycbcoloraxistick\"><text text-anchor=\"start\" x=\"417.9\" y=\"4.199999999999999\" transform=\"translate(0,69.99999999999999)\" style=\"font-family: 'Open Sans', verdana, arial, sans-serif; font-size: 12px; fill: rgb(42, 63, 95); fill-opacity: 1; white-space: pre;\">1</text></g></g><g class=\"cbtitleunshift\" transform=\"translate(-243,-60)\"><g class=\"cbtitle\"/></g><rect class=\"cboutline\" x=\"385\" y=\"10\" width=\"30\" height=\"290\" style=\"stroke: rgb(68, 68, 68); stroke-opacity: 1; fill: none; stroke-width: 0;\"/></g><g class=\"g-gtitle\"/><g class=\"g-xtitle\"><text class=\"xtitle\" x=\"427\" y=\"426.409375\" text-anchor=\"middle\" style=\"font-family: 'Open Sans', verdana, arial, sans-serif; font-size: 14px; fill: rgb(42, 63, 95); opacity: 1; font-weight: normal; white-space: pre;\">time_idx</text></g><g class=\"g-ytitle\"/></g></svg>"
     },
     "metadata": {}
    }
   ],
   "source": [
    "# now plot our heatmap\n",
    "fig = px.imshow(df.transpose())\n",
    "fig.update_layout(\n",
    "    autosize=False,\n",
    "    width=1000,\n",
    "    height=1200)\n",
    "# fig.show() # for interactive\n",
    "fig.show(\"svg\") # static svg so can be displayed on github, best use above line"
   ]
  },
  {
   "cell_type": "code",
   "execution_count": 7,
   "metadata": {},
   "outputs": [],
   "source": [
    " \n"
   ]
  },
  {
   "cell_type": "code",
   "execution_count": null,
   "metadata": {},
   "outputs": [],
   "source": []
  },
  {
   "cell_type": "code",
   "execution_count": null,
   "metadata": {},
   "outputs": [],
   "source": []
  }
 ]
}