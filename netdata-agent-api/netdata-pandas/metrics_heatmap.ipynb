{
 "metadata": {
  "language_info": {
   "codemirror_mode": {
    "name": "ipython",
    "version": 3
   },
   "file_extension": ".py",
   "mimetype": "text/x-python",
   "name": "python",
   "nbconvert_exporter": "python",
   "pygments_lexer": "ipython3",
   "version": "3.8.1-final"
  },
  "orig_nbformat": 2,
  "kernelspec": {
   "name": "python3",
   "display_name": "Python 3.8.1 64-bit ('venv')",
   "metadata": {
    "interpreter": {
     "hash": "f898777614c9e76283339cd3ad97bf2702d60cb6d5263ff41e85acecd6462b41"
    }
   }
  }
 },
 "nbformat": 4,
 "nbformat_minor": 2,
 "cells": [
  {
   "source": [
    "# Metrics Heatmap"
   ],
   "cell_type": "markdown",
   "metadata": {}
  },
  {
   "source": [
    "<a href=\"https://colab.research.google.com/github/netdata/netdata-community/blob/main/netdata-agent-api/netdata-pandas/metrics_heatmap.ipynb\" target=\"_blank\"><img src=\"https://colab.research.google.com/assets/colab-badge.svg\" alt=\"Open In Colab\"/></a>"
   ],
   "cell_type": "markdown",
   "metadata": {}
  },
  {
   "source": [
    "In this notebook we will use the [netdata-pandas](https://github.com/netdata/netdata-pandas) Python package to pull some data from some demo Netdata servers and make some pretty looking heatmaps, because we all love a good heatmap don't we. \n",
    "\n",
    "**Note**: you can click the \"Open in Colab\" button above to open this notebook in [Google Colab](https://colab.research.google.com/notebooks/intro.ipynb#recent=true) where you can just get going with it without having to set up python enviornments or any messy stuff like that."
   ],
   "cell_type": "markdown",
   "metadata": {}
  },
  {
   "cell_type": "code",
   "execution_count": 1,
   "metadata": {},
   "outputs": [],
   "source": [
    "# if you need to, uncomment below to install netdata-pandas and seaborn packages\n",
    "#!pip install plotly==4.14.1 netdata-pandas==0.0.33"
   ]
  },
  {
   "cell_type": "code",
   "execution_count": 2,
   "metadata": {},
   "outputs": [],
   "source": [
    "import numpy as np\n",
    "import pandas as pd\n",
    "from netdata_pandas.data import get_data\n",
    "import plotly.express as px"
   ]
  },
  {
   "source": [
    "Lets pull some data for the last 15 minutes."
   ],
   "cell_type": "markdown",
   "metadata": {}
  },
  {
   "cell_type": "code",
   "execution_count": 3,
   "metadata": {},
   "outputs": [],
   "source": [
    "# inputs\n",
    "hosts = ['london.my-netdata.io']\n",
    "charts_regex = 'system.*'\n",
    "before = 0\n",
    "after = -60*15\n",
    "resample_freq = '10s'"
   ]
  },
  {
   "cell_type": "code",
   "execution_count": 4,
   "metadata": {},
   "outputs": [
    {
     "output_type": "stream",
     "name": "stdout",
     "text": [
      "(900, 72)\n"
     ]
    },
    {
     "output_type": "execute_result",
     "data": {
      "text/plain": [
       "                     system.active_processes|active  system.cpu|guest  \\\n",
       "time_idx                                                                \n",
       "2020-12-17 21:06:25                           210.0               0.0   \n",
       "2020-12-17 21:06:26                           210.0               0.0   \n",
       "2020-12-17 21:06:27                           210.0               0.0   \n",
       "2020-12-17 21:06:28                           210.0               0.0   \n",
       "2020-12-17 21:06:29                           210.0               0.0   \n",
       "\n",
       "                     system.cpu|guest_nice  system.cpu|iowait  system.cpu|irq  \\\n",
       "time_idx                                                                        \n",
       "2020-12-17 21:06:25                    0.0                0.0             0.0   \n",
       "2020-12-17 21:06:26                    0.0                0.0             0.0   \n",
       "2020-12-17 21:06:27                    0.0                0.0             0.0   \n",
       "2020-12-17 21:06:28                    0.0                0.0             0.0   \n",
       "2020-12-17 21:06:29                    0.0                0.0             0.0   \n",
       "\n",
       "                     system.cpu|nice  system.cpu|softirq  system.cpu|steal  \\\n",
       "time_idx                                                                     \n",
       "2020-12-17 21:06:25              0.0            0.252525          0.000000   \n",
       "2020-12-17 21:06:26              0.0            0.000000          0.501253   \n",
       "2020-12-17 21:06:27              0.0            0.000000          0.000000   \n",
       "2020-12-17 21:06:28              0.0            0.249377          0.249377   \n",
       "2020-12-17 21:06:29              0.0            0.000000          0.000000   \n",
       "\n",
       "                     system.cpu|system  system.cpu|user  ...  \\\n",
       "time_idx                                                 ...   \n",
       "2020-12-17 21:06:25           0.757576         0.757576  ...   \n",
       "2020-12-17 21:06:26           1.503759         1.002506  ...   \n",
       "2020-12-17 21:06:27           1.017812         1.526718  ...   \n",
       "2020-12-17 21:06:28           1.246883         0.997506  ...   \n",
       "2020-12-17 21:06:29           1.259446         0.503778  ...   \n",
       "\n",
       "                     system.softirqs|RCU  system.softirqs|SCHED  \\\n",
       "time_idx                                                          \n",
       "2020-12-17 21:06:25            101.58501               98.31029   \n",
       "2020-12-17 21:06:26            101.62620               98.93034   \n",
       "2020-12-17 21:06:27             93.26719               96.67964   \n",
       "2020-12-17 21:06:28             93.68675              102.70726   \n",
       "2020-12-17 21:06:29             97.68111               93.53471   \n",
       "\n",
       "                     system.softirqs|TASKLET  system.softirqs|TIMER  \\\n",
       "time_idx                                                              \n",
       "2020-12-17 21:06:25                 54.22580              136.64120   \n",
       "2020-12-17 21:06:26                 56.95733              136.29142   \n",
       "2020-12-17 21:06:27                 57.36006              131.30436   \n",
       "2020-12-17 21:06:28                 56.29991              135.03062   \n",
       "2020-12-17 21:06:29                 49.60379              126.20384   \n",
       "\n",
       "                     system.softnet_stat|dropped  \\\n",
       "time_idx                                           \n",
       "2020-12-17 21:06:25                          0.0   \n",
       "2020-12-17 21:06:26                          0.0   \n",
       "2020-12-17 21:06:27                          0.0   \n",
       "2020-12-17 21:06:28                          0.0   \n",
       "2020-12-17 21:06:29                          0.0   \n",
       "\n",
       "                     system.softnet_stat|flow_limit_count  \\\n",
       "time_idx                                                    \n",
       "2020-12-17 21:06:25                                   0.0   \n",
       "2020-12-17 21:06:26                                   0.0   \n",
       "2020-12-17 21:06:27                                   0.0   \n",
       "2020-12-17 21:06:28                                   0.0   \n",
       "2020-12-17 21:06:29                                   0.0   \n",
       "\n",
       "                     system.softnet_stat|processed  \\\n",
       "time_idx                                             \n",
       "2020-12-17 21:06:25                      131.20632   \n",
       "2020-12-17 21:06:26                      140.58509   \n",
       "2020-12-17 21:06:27                      128.94207   \n",
       "2020-12-17 21:06:28                      135.73494   \n",
       "2020-12-17 21:06:29                      121.82022   \n",
       "\n",
       "                     system.softnet_stat|received_rps  \\\n",
       "time_idx                                                \n",
       "2020-12-17 21:06:25                               0.0   \n",
       "2020-12-17 21:06:26                               0.0   \n",
       "2020-12-17 21:06:27                               0.0   \n",
       "2020-12-17 21:06:28                               0.0   \n",
       "2020-12-17 21:06:29                               0.0   \n",
       "\n",
       "                     system.softnet_stat|squeezed  system.uptime|uptime  \n",
       "time_idx                                                                 \n",
       "2020-12-17 21:06:25                           0.0            67375190.0  \n",
       "2020-12-17 21:06:26                           0.0            67375190.0  \n",
       "2020-12-17 21:06:27                           0.0            67375190.0  \n",
       "2020-12-17 21:06:28                           0.0            67375190.0  \n",
       "2020-12-17 21:06:29                           0.0            67375190.0  \n",
       "\n",
       "[5 rows x 72 columns]"
      ],
      "text/html": "<div>\n<style scoped>\n    .dataframe tbody tr th:only-of-type {\n        vertical-align: middle;\n    }\n\n    .dataframe tbody tr th {\n        vertical-align: top;\n    }\n\n    .dataframe thead th {\n        text-align: right;\n    }\n</style>\n<table border=\"1\" class=\"dataframe\">\n  <thead>\n    <tr style=\"text-align: right;\">\n      <th></th>\n      <th>system.active_processes|active</th>\n      <th>system.cpu|guest</th>\n      <th>system.cpu|guest_nice</th>\n      <th>system.cpu|iowait</th>\n      <th>system.cpu|irq</th>\n      <th>system.cpu|nice</th>\n      <th>system.cpu|softirq</th>\n      <th>system.cpu|steal</th>\n      <th>system.cpu|system</th>\n      <th>system.cpu|user</th>\n      <th>...</th>\n      <th>system.softirqs|RCU</th>\n      <th>system.softirqs|SCHED</th>\n      <th>system.softirqs|TASKLET</th>\n      <th>system.softirqs|TIMER</th>\n      <th>system.softnet_stat|dropped</th>\n      <th>system.softnet_stat|flow_limit_count</th>\n      <th>system.softnet_stat|processed</th>\n      <th>system.softnet_stat|received_rps</th>\n      <th>system.softnet_stat|squeezed</th>\n      <th>system.uptime|uptime</th>\n    </tr>\n    <tr>\n      <th>time_idx</th>\n      <th></th>\n      <th></th>\n      <th></th>\n      <th></th>\n      <th></th>\n      <th></th>\n      <th></th>\n      <th></th>\n      <th></th>\n      <th></th>\n      <th></th>\n      <th></th>\n      <th></th>\n      <th></th>\n      <th></th>\n      <th></th>\n      <th></th>\n      <th></th>\n      <th></th>\n      <th></th>\n      <th></th>\n    </tr>\n  </thead>\n  <tbody>\n    <tr>\n      <th>2020-12-17 21:06:25</th>\n      <td>210.0</td>\n      <td>0.0</td>\n      <td>0.0</td>\n      <td>0.0</td>\n      <td>0.0</td>\n      <td>0.0</td>\n      <td>0.252525</td>\n      <td>0.000000</td>\n      <td>0.757576</td>\n      <td>0.757576</td>\n      <td>...</td>\n      <td>101.58501</td>\n      <td>98.31029</td>\n      <td>54.22580</td>\n      <td>136.64120</td>\n      <td>0.0</td>\n      <td>0.0</td>\n      <td>131.20632</td>\n      <td>0.0</td>\n      <td>0.0</td>\n      <td>67375190.0</td>\n    </tr>\n    <tr>\n      <th>2020-12-17 21:06:26</th>\n      <td>210.0</td>\n      <td>0.0</td>\n      <td>0.0</td>\n      <td>0.0</td>\n      <td>0.0</td>\n      <td>0.0</td>\n      <td>0.000000</td>\n      <td>0.501253</td>\n      <td>1.503759</td>\n      <td>1.002506</td>\n      <td>...</td>\n      <td>101.62620</td>\n      <td>98.93034</td>\n      <td>56.95733</td>\n      <td>136.29142</td>\n      <td>0.0</td>\n      <td>0.0</td>\n      <td>140.58509</td>\n      <td>0.0</td>\n      <td>0.0</td>\n      <td>67375190.0</td>\n    </tr>\n    <tr>\n      <th>2020-12-17 21:06:27</th>\n      <td>210.0</td>\n      <td>0.0</td>\n      <td>0.0</td>\n      <td>0.0</td>\n      <td>0.0</td>\n      <td>0.0</td>\n      <td>0.000000</td>\n      <td>0.000000</td>\n      <td>1.017812</td>\n      <td>1.526718</td>\n      <td>...</td>\n      <td>93.26719</td>\n      <td>96.67964</td>\n      <td>57.36006</td>\n      <td>131.30436</td>\n      <td>0.0</td>\n      <td>0.0</td>\n      <td>128.94207</td>\n      <td>0.0</td>\n      <td>0.0</td>\n      <td>67375190.0</td>\n    </tr>\n    <tr>\n      <th>2020-12-17 21:06:28</th>\n      <td>210.0</td>\n      <td>0.0</td>\n      <td>0.0</td>\n      <td>0.0</td>\n      <td>0.0</td>\n      <td>0.0</td>\n      <td>0.249377</td>\n      <td>0.249377</td>\n      <td>1.246883</td>\n      <td>0.997506</td>\n      <td>...</td>\n      <td>93.68675</td>\n      <td>102.70726</td>\n      <td>56.29991</td>\n      <td>135.03062</td>\n      <td>0.0</td>\n      <td>0.0</td>\n      <td>135.73494</td>\n      <td>0.0</td>\n      <td>0.0</td>\n      <td>67375190.0</td>\n    </tr>\n    <tr>\n      <th>2020-12-17 21:06:29</th>\n      <td>210.0</td>\n      <td>0.0</td>\n      <td>0.0</td>\n      <td>0.0</td>\n      <td>0.0</td>\n      <td>0.0</td>\n      <td>0.000000</td>\n      <td>0.000000</td>\n      <td>1.259446</td>\n      <td>0.503778</td>\n      <td>...</td>\n      <td>97.68111</td>\n      <td>93.53471</td>\n      <td>49.60379</td>\n      <td>126.20384</td>\n      <td>0.0</td>\n      <td>0.0</td>\n      <td>121.82022</td>\n      <td>0.0</td>\n      <td>0.0</td>\n      <td>67375190.0</td>\n    </tr>\n  </tbody>\n</table>\n<p>5 rows × 72 columns</p>\n</div>"
     },
     "metadata": {},
     "execution_count": 4
    }
   ],
   "source": [
    "# get the data\n",
    "df_raw = get_data(hosts=hosts, charts_regex=charts_regex, after=after, before=before, index_as_datetime=True)\n",
    "print(df_raw.shape)\n",
    "df_raw.head()"
   ]
  },
  {
   "source": [
    "## Heatmaps!"
   ],
   "cell_type": "markdown",
   "metadata": {}
  },
  {
   "cell_type": "code",
   "execution_count": 5,
   "metadata": {},
   "outputs": [
    {
     "output_type": "stream",
     "name": "stdout",
     "text": [
      "(91, 47)\n"
     ]
    },
    {
     "output_type": "execute_result",
     "data": {
      "text/plain": [
       "                     system.interrupts|qxl_11  system.ipv6|received  \\\n",
       "time_idx                                                              \n",
       "2020-12-17 21:06:20                  0.001192              0.072829   \n",
       "2020-12-17 21:06:30                  1.000000              0.453148   \n",
       "2020-12-17 21:06:40                  0.257551              0.249658   \n",
       "2020-12-17 21:06:50                  1.000000              0.060834   \n",
       "2020-12-17 21:07:00                  0.257551              0.235572   \n",
       "2020-12-17 21:07:10                  1.000000              0.768965   \n",
       "2020-12-17 21:07:20                  0.756480              0.745078   \n",
       "2020-12-17 21:07:30                  0.501071              0.946457   \n",
       "2020-12-17 21:07:40                  0.757736              0.726131   \n",
       "2020-12-17 21:07:50                  0.499815              0.720541   \n",
       "\n",
       "                     system.load|load15  system.cpu|steal  \\\n",
       "time_idx                                                    \n",
       "2020-12-17 21:06:20              1.0000          0.000000   \n",
       "2020-12-17 21:06:30              1.0000          0.017955   \n",
       "2020-12-17 21:06:40              1.0000          0.300060   \n",
       "2020-12-17 21:06:50              0.8750          0.176879   \n",
       "2020-12-17 21:07:00              0.8750          0.377636   \n",
       "2020-12-17 21:07:10              0.8750          0.285593   \n",
       "2020-12-17 21:07:20              0.8750          0.048982   \n",
       "2020-12-17 21:07:30              0.8125          0.093429   \n",
       "2020-12-17 21:07:40              0.7500          0.026885   \n",
       "2020-12-17 21:07:50              0.7500          0.009039   \n",
       "\n",
       "                     system.uptime|uptime  system.processes|blocked  \\\n",
       "time_idx                                                              \n",
       "2020-12-17 21:06:20              0.000000                       1.0   \n",
       "2020-12-17 21:06:30              0.010022                       1.0   \n",
       "2020-12-17 21:06:40              0.021158                       1.0   \n",
       "2020-12-17 21:06:50              0.032294                       1.0   \n",
       "2020-12-17 21:07:00              0.043430                       1.0   \n",
       "2020-12-17 21:07:10              0.054566                       1.0   \n",
       "2020-12-17 21:07:20              0.065702                       1.0   \n",
       "2020-12-17 21:07:30              0.076837                       1.0   \n",
       "2020-12-17 21:07:40              0.087973                       1.0   \n",
       "2020-12-17 21:07:50              0.099109                       1.0   \n",
       "\n",
       "                     system.load|load5  system.ram|free  \\\n",
       "time_idx                                                  \n",
       "2020-12-17 21:06:20           0.850000         0.620024   \n",
       "2020-12-17 21:06:30           0.850000         0.592610   \n",
       "2020-12-17 21:06:40           0.825000         0.541783   \n",
       "2020-12-17 21:06:50           0.800000         0.689130   \n",
       "2020-12-17 21:07:00           0.750000         0.606676   \n",
       "2020-12-17 21:07:10           0.725000         0.535534   \n",
       "2020-12-17 21:07:20           0.700000         0.591820   \n",
       "2020-12-17 21:07:30           0.650000         0.570777   \n",
       "2020-12-17 21:07:40           0.622191         0.646654   \n",
       "2020-12-17 21:07:50           0.600000         0.624826   \n",
       "\n",
       "                     system.entropy|entropy  system.ram|cached  ...  \\\n",
       "time_idx                                                        ...   \n",
       "2020-12-17 21:06:20                0.114339           0.000000  ...   \n",
       "2020-12-17 21:06:30                0.139665           0.005770  ...   \n",
       "2020-12-17 21:06:40                0.173929           0.013837  ...   \n",
       "2020-12-17 21:06:50                0.209311           0.017310  ...   \n",
       "2020-12-17 21:07:00                0.242831           0.019981  ...   \n",
       "2020-12-17 21:07:10                0.278585           0.029811  ...   \n",
       "2020-12-17 21:07:20                0.310615           0.031520  ...   \n",
       "2020-12-17 21:07:30                0.347858           0.042472  ...   \n",
       "2020-12-17 21:07:40                0.383985           0.055508  ...   \n",
       "2020-12-17 21:07:50                0.416760           0.066567  ...   \n",
       "\n",
       "                     system.softnet_stat|processed  system.softirqs|TASKLET  \\\n",
       "time_idx                                                                      \n",
       "2020-12-17 21:06:20                       0.141811                 0.200634   \n",
       "2020-12-17 21:06:30                       0.105967                 0.140606   \n",
       "2020-12-17 21:06:40                       0.128881                 0.151170   \n",
       "2020-12-17 21:06:50                       0.159526                 0.190992   \n",
       "2020-12-17 21:07:00                       0.000000                 0.000000   \n",
       "2020-12-17 21:07:10                       0.184436                 0.234488   \n",
       "2020-12-17 21:07:20                       0.200303                 0.252358   \n",
       "2020-12-17 21:07:30                       0.355900                 0.408960   \n",
       "2020-12-17 21:07:40                       0.264359                 0.290781   \n",
       "2020-12-17 21:07:50                       0.382755                 0.421806   \n",
       "\n",
       "                     system.interrupts|virtio0-input.0_25  \\\n",
       "time_idx                                                    \n",
       "2020-12-17 21:06:20                              0.203873   \n",
       "2020-12-17 21:06:30                              0.143416   \n",
       "2020-12-17 21:06:40                              0.154186   \n",
       "2020-12-17 21:06:50                              0.191280   \n",
       "2020-12-17 21:07:00                              0.000000   \n",
       "2020-12-17 21:07:10                              0.241604   \n",
       "2020-12-17 21:07:20                              0.259745   \n",
       "2020-12-17 21:07:30                              0.402229   \n",
       "2020-12-17 21:07:40                              0.287131   \n",
       "2020-12-17 21:07:50                              0.423602   \n",
       "\n",
       "                     system.interrupts|virtio2-req.0_32  system.io|out  \\\n",
       "time_idx                                                                 \n",
       "2020-12-17 21:06:20                            0.118731       0.947777   \n",
       "2020-12-17 21:06:30                            0.206858       0.903694   \n",
       "2020-12-17 21:06:40                            0.149299       0.851659   \n",
       "2020-12-17 21:06:50                            0.206895       0.903670   \n",
       "2020-12-17 21:07:00                            0.383102       0.870445   \n",
       "2020-12-17 21:07:10                            0.088136       0.867776   \n",
       "2020-12-17 21:07:20                            0.294985       0.903694   \n",
       "2020-12-17 21:07:30                            0.206858       0.881653   \n",
       "2020-12-17 21:07:40                            0.294985       0.749405   \n",
       "2020-12-17 21:07:50                            0.118731       0.936756   \n",
       "\n",
       "                     system.pgpgio|out  system.ram|buffers  \\\n",
       "time_idx                                                     \n",
       "2020-12-17 21:06:20           0.947617                 1.0   \n",
       "2020-12-17 21:06:30           0.903542                 0.0   \n",
       "2020-12-17 21:06:40           0.851403                 0.0   \n",
       "2020-12-17 21:06:50           0.903518                 0.0   \n",
       "2020-12-17 21:07:00           0.870264                 0.0   \n",
       "2020-12-17 21:07:10           0.867775                 0.0   \n",
       "2020-12-17 21:07:20           0.903542                 0.0   \n",
       "2020-12-17 21:07:30           0.881504                 0.0   \n",
       "2020-12-17 21:07:40           0.749278                 0.0   \n",
       "2020-12-17 21:07:50           0.936598                 0.0   \n",
       "\n",
       "                     system.forks|started  \\\n",
       "time_idx                                    \n",
       "2020-12-17 21:06:20              0.019121   \n",
       "2020-12-17 21:06:30              0.009503   \n",
       "2020-12-17 21:06:40              0.009542   \n",
       "2020-12-17 21:06:50              0.047676   \n",
       "2020-12-17 21:07:00              0.009521   \n",
       "2020-12-17 21:07:10              0.009516   \n",
       "2020-12-17 21:07:20              0.009492   \n",
       "2020-12-17 21:07:30              0.104932   \n",
       "2020-12-17 21:07:40              0.009524   \n",
       "2020-12-17 21:07:50              0.009530   \n",
       "\n",
       "                     system.interrupts|virtio0-output.0_26  \\\n",
       "time_idx                                                     \n",
       "2020-12-17 21:06:20                                    0.0   \n",
       "2020-12-17 21:06:30                                    0.0   \n",
       "2020-12-17 21:06:40                                    0.0   \n",
       "2020-12-17 21:06:50                                    0.0   \n",
       "2020-12-17 21:07:00                                    0.0   \n",
       "2020-12-17 21:07:10                                    0.0   \n",
       "2020-12-17 21:07:20                                    0.0   \n",
       "2020-12-17 21:07:30                                    0.0   \n",
       "2020-12-17 21:07:40                                    0.0   \n",
       "2020-12-17 21:07:50                                    0.0   \n",
       "\n",
       "                     system.active_processes|active  \n",
       "time_idx                                             \n",
       "2020-12-17 21:06:20                        0.538462  \n",
       "2020-12-17 21:06:30                        0.538462  \n",
       "2020-12-17 21:06:40                        0.538462  \n",
       "2020-12-17 21:06:50                        0.538462  \n",
       "2020-12-17 21:07:00                        0.538462  \n",
       "2020-12-17 21:07:10                        0.538462  \n",
       "2020-12-17 21:07:20                        0.538462  \n",
       "2020-12-17 21:07:30                        0.538462  \n",
       "2020-12-17 21:07:40                        0.538462  \n",
       "2020-12-17 21:07:50                        0.538462  \n",
       "\n",
       "[10 rows x 47 columns]"
      ],
      "text/html": "<div>\n<style scoped>\n    .dataframe tbody tr th:only-of-type {\n        vertical-align: middle;\n    }\n\n    .dataframe tbody tr th {\n        vertical-align: top;\n    }\n\n    .dataframe thead th {\n        text-align: right;\n    }\n</style>\n<table border=\"1\" class=\"dataframe\">\n  <thead>\n    <tr style=\"text-align: right;\">\n      <th></th>\n      <th>system.interrupts|qxl_11</th>\n      <th>system.ipv6|received</th>\n      <th>system.load|load15</th>\n      <th>system.cpu|steal</th>\n      <th>system.uptime|uptime</th>\n      <th>system.processes|blocked</th>\n      <th>system.load|load5</th>\n      <th>system.ram|free</th>\n      <th>system.entropy|entropy</th>\n      <th>system.ram|cached</th>\n      <th>...</th>\n      <th>system.softnet_stat|processed</th>\n      <th>system.softirqs|TASKLET</th>\n      <th>system.interrupts|virtio0-input.0_25</th>\n      <th>system.interrupts|virtio2-req.0_32</th>\n      <th>system.io|out</th>\n      <th>system.pgpgio|out</th>\n      <th>system.ram|buffers</th>\n      <th>system.forks|started</th>\n      <th>system.interrupts|virtio0-output.0_26</th>\n      <th>system.active_processes|active</th>\n    </tr>\n    <tr>\n      <th>time_idx</th>\n      <th></th>\n      <th></th>\n      <th></th>\n      <th></th>\n      <th></th>\n      <th></th>\n      <th></th>\n      <th></th>\n      <th></th>\n      <th></th>\n      <th></th>\n      <th></th>\n      <th></th>\n      <th></th>\n      <th></th>\n      <th></th>\n      <th></th>\n      <th></th>\n      <th></th>\n      <th></th>\n      <th></th>\n    </tr>\n  </thead>\n  <tbody>\n    <tr>\n      <th>2020-12-17 21:06:20</th>\n      <td>0.001192</td>\n      <td>0.072829</td>\n      <td>1.0000</td>\n      <td>0.000000</td>\n      <td>0.000000</td>\n      <td>1.0</td>\n      <td>0.850000</td>\n      <td>0.620024</td>\n      <td>0.114339</td>\n      <td>0.000000</td>\n      <td>...</td>\n      <td>0.141811</td>\n      <td>0.200634</td>\n      <td>0.203873</td>\n      <td>0.118731</td>\n      <td>0.947777</td>\n      <td>0.947617</td>\n      <td>1.0</td>\n      <td>0.019121</td>\n      <td>0.0</td>\n      <td>0.538462</td>\n    </tr>\n    <tr>\n      <th>2020-12-17 21:06:30</th>\n      <td>1.000000</td>\n      <td>0.453148</td>\n      <td>1.0000</td>\n      <td>0.017955</td>\n      <td>0.010022</td>\n      <td>1.0</td>\n      <td>0.850000</td>\n      <td>0.592610</td>\n      <td>0.139665</td>\n      <td>0.005770</td>\n      <td>...</td>\n      <td>0.105967</td>\n      <td>0.140606</td>\n      <td>0.143416</td>\n      <td>0.206858</td>\n      <td>0.903694</td>\n      <td>0.903542</td>\n      <td>0.0</td>\n      <td>0.009503</td>\n      <td>0.0</td>\n      <td>0.538462</td>\n    </tr>\n    <tr>\n      <th>2020-12-17 21:06:40</th>\n      <td>0.257551</td>\n      <td>0.249658</td>\n      <td>1.0000</td>\n      <td>0.300060</td>\n      <td>0.021158</td>\n      <td>1.0</td>\n      <td>0.825000</td>\n      <td>0.541783</td>\n      <td>0.173929</td>\n      <td>0.013837</td>\n      <td>...</td>\n      <td>0.128881</td>\n      <td>0.151170</td>\n      <td>0.154186</td>\n      <td>0.149299</td>\n      <td>0.851659</td>\n      <td>0.851403</td>\n      <td>0.0</td>\n      <td>0.009542</td>\n      <td>0.0</td>\n      <td>0.538462</td>\n    </tr>\n    <tr>\n      <th>2020-12-17 21:06:50</th>\n      <td>1.000000</td>\n      <td>0.060834</td>\n      <td>0.8750</td>\n      <td>0.176879</td>\n      <td>0.032294</td>\n      <td>1.0</td>\n      <td>0.800000</td>\n      <td>0.689130</td>\n      <td>0.209311</td>\n      <td>0.017310</td>\n      <td>...</td>\n      <td>0.159526</td>\n      <td>0.190992</td>\n      <td>0.191280</td>\n      <td>0.206895</td>\n      <td>0.903670</td>\n      <td>0.903518</td>\n      <td>0.0</td>\n      <td>0.047676</td>\n      <td>0.0</td>\n      <td>0.538462</td>\n    </tr>\n    <tr>\n      <th>2020-12-17 21:07:00</th>\n      <td>0.257551</td>\n      <td>0.235572</td>\n      <td>0.8750</td>\n      <td>0.377636</td>\n      <td>0.043430</td>\n      <td>1.0</td>\n      <td>0.750000</td>\n      <td>0.606676</td>\n      <td>0.242831</td>\n      <td>0.019981</td>\n      <td>...</td>\n      <td>0.000000</td>\n      <td>0.000000</td>\n      <td>0.000000</td>\n      <td>0.383102</td>\n      <td>0.870445</td>\n      <td>0.870264</td>\n      <td>0.0</td>\n      <td>0.009521</td>\n      <td>0.0</td>\n      <td>0.538462</td>\n    </tr>\n    <tr>\n      <th>2020-12-17 21:07:10</th>\n      <td>1.000000</td>\n      <td>0.768965</td>\n      <td>0.8750</td>\n      <td>0.285593</td>\n      <td>0.054566</td>\n      <td>1.0</td>\n      <td>0.725000</td>\n      <td>0.535534</td>\n      <td>0.278585</td>\n      <td>0.029811</td>\n      <td>...</td>\n      <td>0.184436</td>\n      <td>0.234488</td>\n      <td>0.241604</td>\n      <td>0.088136</td>\n      <td>0.867776</td>\n      <td>0.867775</td>\n      <td>0.0</td>\n      <td>0.009516</td>\n      <td>0.0</td>\n      <td>0.538462</td>\n    </tr>\n    <tr>\n      <th>2020-12-17 21:07:20</th>\n      <td>0.756480</td>\n      <td>0.745078</td>\n      <td>0.8750</td>\n      <td>0.048982</td>\n      <td>0.065702</td>\n      <td>1.0</td>\n      <td>0.700000</td>\n      <td>0.591820</td>\n      <td>0.310615</td>\n      <td>0.031520</td>\n      <td>...</td>\n      <td>0.200303</td>\n      <td>0.252358</td>\n      <td>0.259745</td>\n      <td>0.294985</td>\n      <td>0.903694</td>\n      <td>0.903542</td>\n      <td>0.0</td>\n      <td>0.009492</td>\n      <td>0.0</td>\n      <td>0.538462</td>\n    </tr>\n    <tr>\n      <th>2020-12-17 21:07:30</th>\n      <td>0.501071</td>\n      <td>0.946457</td>\n      <td>0.8125</td>\n      <td>0.093429</td>\n      <td>0.076837</td>\n      <td>1.0</td>\n      <td>0.650000</td>\n      <td>0.570777</td>\n      <td>0.347858</td>\n      <td>0.042472</td>\n      <td>...</td>\n      <td>0.355900</td>\n      <td>0.408960</td>\n      <td>0.402229</td>\n      <td>0.206858</td>\n      <td>0.881653</td>\n      <td>0.881504</td>\n      <td>0.0</td>\n      <td>0.104932</td>\n      <td>0.0</td>\n      <td>0.538462</td>\n    </tr>\n    <tr>\n      <th>2020-12-17 21:07:40</th>\n      <td>0.757736</td>\n      <td>0.726131</td>\n      <td>0.7500</td>\n      <td>0.026885</td>\n      <td>0.087973</td>\n      <td>1.0</td>\n      <td>0.622191</td>\n      <td>0.646654</td>\n      <td>0.383985</td>\n      <td>0.055508</td>\n      <td>...</td>\n      <td>0.264359</td>\n      <td>0.290781</td>\n      <td>0.287131</td>\n      <td>0.294985</td>\n      <td>0.749405</td>\n      <td>0.749278</td>\n      <td>0.0</td>\n      <td>0.009524</td>\n      <td>0.0</td>\n      <td>0.538462</td>\n    </tr>\n    <tr>\n      <th>2020-12-17 21:07:50</th>\n      <td>0.499815</td>\n      <td>0.720541</td>\n      <td>0.7500</td>\n      <td>0.009039</td>\n      <td>0.099109</td>\n      <td>1.0</td>\n      <td>0.600000</td>\n      <td>0.624826</td>\n      <td>0.416760</td>\n      <td>0.066567</td>\n      <td>...</td>\n      <td>0.382755</td>\n      <td>0.421806</td>\n      <td>0.423602</td>\n      <td>0.118731</td>\n      <td>0.936756</td>\n      <td>0.936598</td>\n      <td>0.0</td>\n      <td>0.009530</td>\n      <td>0.0</td>\n      <td>0.538462</td>\n    </tr>\n  </tbody>\n</table>\n<p>10 rows × 47 columns</p>\n</div>"
     },
     "metadata": {},
     "execution_count": 5
    }
   ],
   "source": [
    "# lets resample to 5 sec frequency\n",
    "df = df_raw.resample(resample_freq).mean()\n",
    "\n",
    "# lets min-max normalize our data so metrics can be compared on a heatmap\n",
    "df=(df-df.min())/(df.max()-df.min())\n",
    "\n",
    "# drop na cols\n",
    "df = df.dropna(how='all', axis=1)\n",
    "\n",
    "# lets sort cols by their std to try make heatmap prettier\n",
    "df = df[df.std().sort_values(ascending=False).index]\n",
    "\n",
    "print(df.shape)\n",
    "df.head(10)"
   ]
  },
  {
   "cell_type": "code",
   "execution_count": 6,
   "metadata": {},
   "outputs": [
    {
     "output_type": "display_data",
     "data": {
      "image/svg+xml": "<svg class=\"main-svg\" xmlns=\"http://www.w3.org/2000/svg\" xmlns:xlink=\"http://www.w3.org/1999/xlink\" width=\"700\" height=\"450\" style=\"\" viewBox=\"0 0 700 450\"><rect x=\"0\" y=\"0\" width=\"700\" height=\"450\" style=\"fill: rgb(255, 255, 255); fill-opacity: 1;\"/><defs id=\"defs-548133\"><g class=\"clips\"><clipPath id=\"clip548133xyplot\" class=\"plotclip\"><rect width=\"368\" height=\"310\"/></clipPath><clipPath class=\"axesclip\" id=\"clip548133x\"><rect x=\"243\" y=\"0\" width=\"368\" height=\"450\"/></clipPath><clipPath class=\"axesclip\" id=\"clip548133y\"><rect x=\"0\" y=\"60\" width=\"700\" height=\"310\"/></clipPath><clipPath class=\"axesclip\" id=\"clip548133xy\"><rect x=\"243\" y=\"60\" width=\"368\" height=\"310\"/></clipPath></g><g class=\"gradients\"><linearGradient x1=\"0\" x2=\"0\" y1=\"1\" y2=\"0\" id=\"g548133-cbcoloraxis\"><stop offset=\"0%\" stop-color=\"rgb(13, 8, 135)\" stop-opacity=\"1\"/><stop offset=\"11.11111111111111%\" stop-color=\"rgb(70, 3, 159)\" stop-opacity=\"1\"/><stop offset=\"22.22222222222222%\" stop-color=\"rgb(114, 1, 168)\" stop-opacity=\"1\"/><stop offset=\"33.33333333333333%\" stop-color=\"rgb(156, 23, 158)\" stop-opacity=\"1\"/><stop offset=\"44.44444444444444%\" stop-color=\"rgb(189, 55, 134)\" stop-opacity=\"1\"/><stop offset=\"55.55555555555556%\" stop-color=\"rgb(216, 87, 107)\" stop-opacity=\"1\"/><stop offset=\"66.66666666666666%\" stop-color=\"rgb(237, 121, 83)\" stop-opacity=\"1\"/><stop offset=\"77.77777777777779%\" stop-color=\"rgb(251, 159, 58)\" stop-opacity=\"1\"/><stop offset=\"88.88888888888889%\" stop-color=\"rgb(253, 202, 38)\" stop-opacity=\"1\"/><stop offset=\"100%\" stop-color=\"rgb(240, 249, 33)\" stop-opacity=\"1\"/></linearGradient></g></defs><g class=\"bglayer\"><rect class=\"bg\" x=\"243\" y=\"60\" width=\"368\" height=\"310\" style=\"fill: rgb(229, 236, 246); fill-opacity: 1; stroke-width: 0;\"/></g><g class=\"layer-below\"><g class=\"imagelayer\"/><g class=\"shapelayer\"/></g><g class=\"cartesianlayer\"><g class=\"subplot xy\"><g class=\"layer-subplot\"><g class=\"shapelayer\"/><g class=\"imagelayer\"/></g><g class=\"gridlayer\"><g class=\"x\"><path class=\"xgrid crisp\" transform=\"translate(333.99,0)\" d=\"M0,60v310\" style=\"stroke: rgb(255, 255, 255); stroke-opacity: 1; stroke-width: 1px;\"/><path class=\"xgrid crisp\" transform=\"translate(455.31,0)\" d=\"M0,60v310\" style=\"stroke: rgb(255, 255, 255); stroke-opacity: 1; stroke-width: 1px;\"/><path class=\"xgrid crisp\" transform=\"translate(576.63,0)\" d=\"M0,60v310\" style=\"stroke: rgb(255, 255, 255); stroke-opacity: 1; stroke-width: 1px;\"/></g><g class=\"y\"><path class=\"ygrid crisp\" transform=\"translate(0,360.11)\" d=\"M243,0h368\" style=\"stroke: rgb(255, 255, 255); stroke-opacity: 1; stroke-width: 1px;\"/><path class=\"ygrid crisp\" transform=\"translate(0,340.32)\" d=\"M243,0h368\" style=\"stroke: rgb(255, 255, 255); stroke-opacity: 1; stroke-width: 1px;\"/><path class=\"ygrid crisp\" transform=\"translate(0,320.53)\" d=\"M243,0h368\" style=\"stroke: rgb(255, 255, 255); stroke-opacity: 1; stroke-width: 1px;\"/><path class=\"ygrid crisp\" transform=\"translate(0,300.74)\" d=\"M243,0h368\" style=\"stroke: rgb(255, 255, 255); stroke-opacity: 1; stroke-width: 1px;\"/><path class=\"ygrid crisp\" transform=\"translate(0,280.96000000000004)\" d=\"M243,0h368\" style=\"stroke: rgb(255, 255, 255); stroke-opacity: 1; stroke-width: 1px;\"/><path class=\"ygrid crisp\" transform=\"translate(0,261.16999999999996)\" d=\"M243,0h368\" style=\"stroke: rgb(255, 255, 255); stroke-opacity: 1; stroke-width: 1px;\"/><path class=\"ygrid crisp\" transform=\"translate(0,241.38)\" d=\"M243,0h368\" style=\"stroke: rgb(255, 255, 255); stroke-opacity: 1; stroke-width: 1px;\"/><path class=\"ygrid crisp\" transform=\"translate(0,221.6)\" d=\"M243,0h368\" style=\"stroke: rgb(255, 255, 255); stroke-opacity: 1; stroke-width: 1px;\"/><path class=\"ygrid crisp\" transform=\"translate(0,201.81)\" d=\"M243,0h368\" style=\"stroke: rgb(255, 255, 255); stroke-opacity: 1; stroke-width: 1px;\"/><path class=\"ygrid crisp\" transform=\"translate(0,182.01999999999998)\" d=\"M243,0h368\" style=\"stroke: rgb(255, 255, 255); stroke-opacity: 1; stroke-width: 1px;\"/><path class=\"ygrid crisp\" transform=\"translate(0,162.23000000000002)\" d=\"M243,0h368\" style=\"stroke: rgb(255, 255, 255); stroke-opacity: 1; stroke-width: 1px;\"/><path class=\"ygrid crisp\" transform=\"translate(0,142.45)\" d=\"M243,0h368\" style=\"stroke: rgb(255, 255, 255); stroke-opacity: 1; stroke-width: 1px;\"/><path class=\"ygrid crisp\" transform=\"translate(0,122.66)\" d=\"M243,0h368\" style=\"stroke: rgb(255, 255, 255); stroke-opacity: 1; stroke-width: 1px;\"/><path class=\"ygrid crisp\" transform=\"translate(0,102.87)\" d=\"M243,0h368\" style=\"stroke: rgb(255, 255, 255); stroke-opacity: 1; stroke-width: 1px;\"/><path class=\"ygrid crisp\" transform=\"translate(0,83.09)\" d=\"M243,0h368\" style=\"stroke: rgb(255, 255, 255); stroke-opacity: 1; stroke-width: 1px;\"/><path class=\"ygrid crisp\" transform=\"translate(0,63.3)\" d=\"M243,0h368\" style=\"stroke: rgb(255, 255, 255); stroke-opacity: 1; stroke-width: 1px;\"/></g></g><g class=\"zerolinelayer\"/><path class=\"xlines-below\"/><path class=\"ylines-below\"/><g class=\"overlines-below\"/><g class=\"xaxislayer-below\"/><g class=\"yaxislayer-below\"/><g class=\"overaxes-below\"/><g class=\"plot\" transform=\"translate(243,60)\" clip-path=\"url('#clip548133xyplot')\"><g class=\"heatmaplayer mlayer\"><g class=\"hm\"><image xmlns=\"http://www.w3.org/2000/svg\" preserveAspectRatio=\"none\" height=\"310\" width=\"368\" x=\"0\" y=\"0\" xlink:href=\"data:image/png;base64,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\" style=\"opacity: 1;\"/></g></g></g><g class=\"overplot\"/><path class=\"xlines-above crisp\" d=\"M0,0\" style=\"fill: none;\"/><path class=\"ylines-above crisp\" d=\"M0,0\" style=\"fill: none;\"/><g class=\"overlines-above\"/><g class=\"xaxislayer-above\"><g class=\"xtick\"><text text-anchor=\"middle\" x=\"0\" y=\"383\" transform=\"translate(333.99,0)\" style=\"font-family: 'Open Sans', verdana, arial, sans-serif; font-size: 12px; fill: rgb(42, 63, 95); fill-opacity: 1; white-space: pre;\"><tspan class=\"line\" dy=\"0em\" x=\"0\" y=\"383\">21:10</tspan><tspan class=\"line\" dy=\"1.3em\" x=\"0\" y=\"383\">Dec 17, 2020</tspan></text></g><g class=\"xtick\"><text text-anchor=\"middle\" x=\"0\" y=\"383\" transform=\"translate(455.31,0)\" style=\"font-family: 'Open Sans', verdana, arial, sans-serif; font-size: 12px; fill: rgb(42, 63, 95); fill-opacity: 1; white-space: pre;\">21:15</text></g><g class=\"xtick\"><text text-anchor=\"middle\" x=\"0\" y=\"383\" transform=\"translate(576.63,0)\" style=\"font-family: 'Open Sans', verdana, arial, sans-serif; font-size: 12px; fill: rgb(42, 63, 95); fill-opacity: 1; white-space: pre;\">21:20</text></g></g><g class=\"yaxislayer-above\"><g class=\"ytick\"><text text-anchor=\"end\" x=\"242\" y=\"4.199999999999999\" transform=\"translate(0,360.11)\" style=\"font-family: 'Open Sans', verdana, arial, sans-serif; font-size: 12px; fill: rgb(42, 63, 95); fill-opacity: 1; white-space: pre;\">system.interrupts|virtio0-output.0_26</text></g><g class=\"ytick\"><text text-anchor=\"end\" x=\"242\" y=\"4.199999999999999\" transform=\"translate(0,340.32)\" style=\"font-family: 'Open Sans', verdana, arial, sans-serif; font-size: 12px; fill: rgb(42, 63, 95); fill-opacity: 1; white-space: pre;\">system.pgpgio|out</text></g><g class=\"ytick\"><text text-anchor=\"end\" x=\"242\" y=\"4.199999999999999\" transform=\"translate(0,320.53)\" style=\"font-family: 'Open Sans', verdana, arial, sans-serif; font-size: 12px; fill: rgb(42, 63, 95); fill-opacity: 1; white-space: pre;\">system.interrupts|virtio0-input.0_25</text></g><g class=\"ytick\"><text text-anchor=\"end\" x=\"242\" y=\"4.199999999999999\" transform=\"translate(0,300.74)\" style=\"font-family: 'Open Sans', verdana, arial, sans-serif; font-size: 12px; fill: rgb(42, 63, 95); fill-opacity: 1; white-space: pre;\">system.softirqs|NET_RX</text></g><g class=\"ytick\"><text text-anchor=\"end\" x=\"242\" y=\"4.199999999999999\" transform=\"translate(0,280.96000000000004)\" style=\"font-family: 'Open Sans', verdana, arial, sans-serif; font-size: 12px; fill: rgb(42, 63, 95); fill-opacity: 1; white-space: pre;\">system.cpu|softirq</text></g><g class=\"ytick\"><text text-anchor=\"end\" x=\"242\" y=\"4.199999999999999\" transform=\"translate(0,261.16999999999996)\" style=\"font-family: 'Open Sans', verdana, arial, sans-serif; font-size: 12px; fill: rgb(42, 63, 95); fill-opacity: 1; white-space: pre;\">system.processes|running</text></g><g class=\"ytick\"><text text-anchor=\"end\" x=\"242\" y=\"4.199999999999999\" transform=\"translate(0,241.38)\" style=\"font-family: 'Open Sans', verdana, arial, sans-serif; font-size: 12px; fill: rgb(42, 63, 95); fill-opacity: 1; white-space: pre;\">system.softirqs|SCHED</text></g><g class=\"ytick\"><text text-anchor=\"end\" x=\"242\" y=\"4.199999999999999\" transform=\"translate(0,221.6)\" style=\"font-family: 'Open Sans', verdana, arial, sans-serif; font-size: 12px; fill: rgb(42, 63, 95); fill-opacity: 1; white-space: pre;\">system.interrupts|RES</text></g><g class=\"ytick\"><text text-anchor=\"end\" x=\"242\" y=\"4.199999999999999\" transform=\"translate(0,201.81)\" style=\"font-family: 'Open Sans', verdana, arial, sans-serif; font-size: 12px; fill: rgb(42, 63, 95); fill-opacity: 1; white-space: pre;\">system.cpu|user</text></g><g class=\"ytick\"><text text-anchor=\"end\" x=\"242\" y=\"4.199999999999999\" transform=\"translate(0,182.01999999999998)\" style=\"font-family: 'Open Sans', verdana, arial, sans-serif; font-size: 12px; fill: rgb(42, 63, 95); fill-opacity: 1; white-space: pre;\">system.net|sent</text></g><g class=\"ytick\"><text text-anchor=\"end\" x=\"242\" y=\"4.199999999999999\" transform=\"translate(0,162.23000000000002)\" style=\"font-family: 'Open Sans', verdana, arial, sans-serif; font-size: 12px; fill: rgb(42, 63, 95); fill-opacity: 1; white-space: pre;\">system.idlejitter|max</text></g><g class=\"ytick\"><text text-anchor=\"end\" x=\"242\" y=\"4.199999999999999\" transform=\"translate(0,142.45)\" style=\"font-family: 'Open Sans', verdana, arial, sans-serif; font-size: 12px; fill: rgb(42, 63, 95); fill-opacity: 1; white-space: pre;\">system.idlejitter|average</text></g><g class=\"ytick\"><text text-anchor=\"end\" x=\"242\" y=\"4.199999999999999\" transform=\"translate(0,122.66)\" style=\"font-family: 'Open Sans', verdana, arial, sans-serif; font-size: 12px; fill: rgb(42, 63, 95); fill-opacity: 1; white-space: pre;\">system.ram|cached</text></g><g class=\"ytick\"><text text-anchor=\"end\" x=\"242\" y=\"4.199999999999999\" transform=\"translate(0,102.87)\" style=\"font-family: 'Open Sans', verdana, arial, sans-serif; font-size: 12px; fill: rgb(42, 63, 95); fill-opacity: 1; white-space: pre;\">system.load|load5</text></g><g class=\"ytick\"><text text-anchor=\"end\" x=\"242\" y=\"4.199999999999999\" transform=\"translate(0,83.09)\" style=\"font-family: 'Open Sans', verdana, arial, sans-serif; font-size: 12px; fill: rgb(42, 63, 95); fill-opacity: 1; white-space: pre;\">system.cpu|steal</text></g><g class=\"ytick\"><text text-anchor=\"end\" x=\"242\" y=\"4.199999999999999\" transform=\"translate(0,63.3)\" style=\"font-family: 'Open Sans', verdana, arial, sans-serif; font-size: 12px; fill: rgb(42, 63, 95); fill-opacity: 1; white-space: pre;\">system.interrupts|qxl_11</text></g></g><g class=\"overaxes-above\"/></g></g><g class=\"polarlayer\"/><g class=\"ternarylayer\"/><g class=\"geolayer\"/><g class=\"funnelarealayer\"/><g class=\"pielayer\"/><g class=\"treemaplayer\"/><g class=\"sunburstlayer\"/><g class=\"glimages\"/><defs id=\"topdefs-548133\"><g class=\"clips\"/></defs><g class=\"layer-above\"><g class=\"imagelayer\"/><g class=\"shapelayer\"/></g><g class=\"infolayer\"><g class=\"cbcoloraxis colorbar\" transform=\"translate(243,60)\"><rect class=\"cbbg\" x=\"375\" y=\"0\" width=\"70.015625\" height=\"310\" style=\"fill: rgb(0, 0, 0); fill-opacity: 0; stroke: rgb(68, 68, 68); stroke-opacity: 1; stroke-width: 0;\"/><g class=\"cbfills\" transform=\"translate(0,10)\"><rect class=\"cbfill\" x=\"385\" width=\"30\" y=\"0\" height=\"290\" style=\"fill: url('#g548133-cbcoloraxis');\"/></g><g class=\"cblines\" transform=\"translate(0,10)\"/><g class=\"cbaxis crisp\" transform=\"translate(0,-60)\"><g class=\"ycbcoloraxistick\"><text text-anchor=\"start\" x=\"417.9\" y=\"4.199999999999999\" transform=\"translate(0,360)\" style=\"font-family: 'Open Sans', verdana, arial, sans-serif; font-size: 12px; fill: rgb(42, 63, 95); fill-opacity: 1; white-space: pre;\">0</text></g><g class=\"ycbcoloraxistick\"><text text-anchor=\"start\" x=\"417.9\" y=\"4.199999999999999\" transform=\"translate(0,302)\" style=\"font-family: 'Open Sans', verdana, arial, sans-serif; font-size: 12px; fill: rgb(42, 63, 95); fill-opacity: 1; white-space: pre;\">0.2</text></g><g class=\"ycbcoloraxistick\"><text text-anchor=\"start\" x=\"417.9\" y=\"4.199999999999999\" transform=\"translate(0,244)\" style=\"font-family: 'Open Sans', verdana, arial, sans-serif; font-size: 12px; fill: rgb(42, 63, 95); fill-opacity: 1; white-space: pre;\">0.4</text></g><g class=\"ycbcoloraxistick\"><text text-anchor=\"start\" x=\"417.9\" y=\"4.199999999999999\" transform=\"translate(0,186)\" style=\"font-family: 'Open Sans', verdana, arial, sans-serif; font-size: 12px; fill: rgb(42, 63, 95); fill-opacity: 1; white-space: pre;\">0.6</text></g><g class=\"ycbcoloraxistick\"><text text-anchor=\"start\" x=\"417.9\" y=\"4.199999999999999\" transform=\"translate(0,127.99999999999999)\" style=\"font-family: 'Open Sans', verdana, arial, sans-serif; font-size: 12px; fill: rgb(42, 63, 95); fill-opacity: 1; white-space: pre;\">0.8</text></g><g class=\"ycbcoloraxistick\"><text text-anchor=\"start\" x=\"417.9\" y=\"4.199999999999999\" transform=\"translate(0,69.99999999999999)\" style=\"font-family: 'Open Sans', verdana, arial, sans-serif; font-size: 12px; fill: rgb(42, 63, 95); fill-opacity: 1; white-space: pre;\">1</text></g></g><g class=\"cbtitleunshift\" transform=\"translate(-243,-60)\"><g class=\"cbtitle\"/></g><rect class=\"cboutline\" x=\"385\" y=\"10\" width=\"30\" height=\"290\" style=\"stroke: rgb(68, 68, 68); stroke-opacity: 1; fill: none; stroke-width: 0;\"/></g><g class=\"g-gtitle\"/><g class=\"g-xtitle\"><text class=\"xtitle\" x=\"427\" y=\"426.409375\" text-anchor=\"middle\" style=\"font-family: 'Open Sans', verdana, arial, sans-serif; font-size: 14px; fill: rgb(42, 63, 95); opacity: 1; font-weight: normal; white-space: pre;\">time_idx</text></g><g class=\"g-ytitle\"/></g></svg>"
     },
     "metadata": {}
    }
   ],
   "source": [
    "fig = px.imshow(df.transpose())\n",
    "fig.update_layout(\n",
    "    autosize=False,\n",
    "    width=1000,\n",
    "    height=1200)\n",
    "# fig.show() # for interactive\n",
    "fig.show(\"svg\") # static svg so can be displayed on github, best use above line"
   ]
  },
  {
   "cell_type": "code",
   "execution_count": null,
   "metadata": {},
   "outputs": [],
   "source": []
  },
  {
   "cell_type": "code",
   "execution_count": null,
   "metadata": {},
   "outputs": [],
   "source": []
  },
  {
   "cell_type": "code",
   "execution_count": null,
   "metadata": {},
   "outputs": [],
   "source": []
  }
 ]
}