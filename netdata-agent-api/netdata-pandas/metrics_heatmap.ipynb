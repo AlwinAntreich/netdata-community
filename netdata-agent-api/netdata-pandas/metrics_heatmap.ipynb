{
 "metadata": {
  "language_info": {
   "codemirror_mode": {
    "name": "ipython",
    "version": 3
   },
   "file_extension": ".py",
   "mimetype": "text/x-python",
   "name": "python",
   "nbconvert_exporter": "python",
   "pygments_lexer": "ipython3",
   "version": "3.8.1-final"
  },
  "orig_nbformat": 2,
  "kernelspec": {
   "name": "python3",
   "display_name": "Python 3.8.1 64-bit ('venv')",
   "metadata": {
    "interpreter": {
     "hash": "f898777614c9e76283339cd3ad97bf2702d60cb6d5263ff41e85acecd6462b41"
    }
   }
  }
 },
 "nbformat": 4,
 "nbformat_minor": 2,
 "cells": [
  {
   "source": [
    "# Metrics Heatmap"
   ],
   "cell_type": "markdown",
   "metadata": {}
  },
  {
   "source": [
    "<a href=\"https://colab.research.google.com/github/netdata/netdata-community/blob/main/netdata-agent-api/netdata-pandas/metrics_heatmap.ipynb\" target=\"_blank\"><img src=\"https://colab.research.google.com/assets/colab-badge.svg\" alt=\"Open In Colab\"/></a>"
   ],
   "cell_type": "markdown",
   "metadata": {}
  },
  {
   "source": [
    "In this notebook we will use the [netdata-pandas](https://github.com/netdata/netdata-pandas) Python package to pull some data from some demo Netdata servers and make some pretty looking heatmaps, because we all love a good heatmap don't we. \n",
    "\n",
    "**Note**: you can click the \"Open in Colab\" button above to open this notebook in [Google Colab](https://colab.research.google.com/notebooks/intro.ipynb#recent=true) where you can just get going with it without having to set up python enviornments or any messy stuff like that."
   ],
   "cell_type": "markdown",
   "metadata": {}
  },
  {
   "cell_type": "code",
   "execution_count": 1,
   "metadata": {},
   "outputs": [],
   "source": [
    "# if you need to, uncomment below to install netdata-pandas and seaborn packages\n",
    "#!pip install plotly==4.14.1 netdata-pandas==0.0.33 scikit-learn==0.23.2"
   ]
  },
  {
   "cell_type": "code",
   "execution_count": 2,
   "metadata": {},
   "outputs": [],
   "source": [
    "import numpy as np\n",
    "import pandas as pd\n",
    "from netdata_pandas.data import get_data\n",
    "import plotly.express as px\n",
    "from sklearn.cluster import KMeans, AgglomerativeClustering"
   ]
  },
  {
   "source": [
    "Lets pull some data for the last 15 minutes."
   ],
   "cell_type": "markdown",
   "metadata": {}
  },
  {
   "cell_type": "code",
   "execution_count": 3,
   "metadata": {},
   "outputs": [],
   "source": [
    "# inputs\n",
    "hosts = ['london.my-netdata.io']\n",
    "charts_regex = 'system.*'\n",
    "before = 0\n",
    "after = -60*15\n",
    "resample_freq = '10s'"
   ]
  },
  {
   "cell_type": "code",
   "execution_count": 4,
   "metadata": {},
   "outputs": [
    {
     "output_type": "stream",
     "name": "stdout",
     "text": [
      "(901, 72)\n"
     ]
    },
    {
     "output_type": "execute_result",
     "data": {
      "text/plain": [
       "                     system.active_processes|active  system.cpu|guest  \\\n",
       "time_idx                                                                \n",
       "2020-12-17 22:07:18                             NaN               NaN   \n",
       "2020-12-17 22:07:19                           210.0               0.0   \n",
       "2020-12-17 22:07:20                           210.0               0.0   \n",
       "2020-12-17 22:07:21                           210.0               0.0   \n",
       "2020-12-17 22:07:22                           210.0               0.0   \n",
       "\n",
       "                     system.cpu|guest_nice  system.cpu|iowait  system.cpu|irq  \\\n",
       "time_idx                                                                        \n",
       "2020-12-17 22:07:18                    NaN                NaN             NaN   \n",
       "2020-12-17 22:07:19                    0.0                0.0             0.0   \n",
       "2020-12-17 22:07:20                    0.0                0.0             0.0   \n",
       "2020-12-17 22:07:21                    0.0                0.0             0.0   \n",
       "2020-12-17 22:07:22                    0.0                0.0             0.0   \n",
       "\n",
       "                     system.cpu|nice  system.cpu|softirq  system.cpu|steal  \\\n",
       "time_idx                                                                     \n",
       "2020-12-17 22:07:18              NaN                 NaN               NaN   \n",
       "2020-12-17 22:07:19              0.0            0.000000          2.948403   \n",
       "2020-12-17 22:07:20              0.0            0.000000          4.187192   \n",
       "2020-12-17 22:07:21              0.0            0.240964          4.578313   \n",
       "2020-12-17 22:07:22              0.0            0.000000          5.528846   \n",
       "\n",
       "                     system.cpu|system  system.cpu|user  ...  \\\n",
       "time_idx                                                 ...   \n",
       "2020-12-17 22:07:18                NaN              NaN  ...   \n",
       "2020-12-17 22:07:19           1.228501         0.491401  ...   \n",
       "2020-12-17 22:07:20           1.231527         0.492611  ...   \n",
       "2020-12-17 22:07:21           1.686747         0.963855  ...   \n",
       "2020-12-17 22:07:22           1.923077         0.961538  ...   \n",
       "\n",
       "                     system.softirqs|RCU  system.softirqs|SCHED  \\\n",
       "time_idx                                                          \n",
       "2020-12-17 22:07:18                  NaN                    NaN   \n",
       "2020-12-17 22:07:19            102.84023               97.19177   \n",
       "2020-12-17 22:07:20             87.77395               80.74703   \n",
       "2020-12-17 22:07:21             89.84490               89.91068   \n",
       "2020-12-17 22:07:22            129.03425              121.01417   \n",
       "\n",
       "                     system.softirqs|TASKLET  system.softirqs|TIMER  \\\n",
       "time_idx                                                              \n",
       "2020-12-17 22:07:18                      NaN                    NaN   \n",
       "2020-12-17 22:07:19                18.223810              129.84048   \n",
       "2020-12-17 22:07:20                10.683926              110.78337   \n",
       "2020-12-17 22:07:21                19.429600              122.99334   \n",
       "2020-12-17 22:07:22                31.174260              170.10780   \n",
       "\n",
       "                     system.softnet_stat|dropped  \\\n",
       "time_idx                                           \n",
       "2020-12-17 22:07:18                          NaN   \n",
       "2020-12-17 22:07:19                          0.0   \n",
       "2020-12-17 22:07:20                          0.0   \n",
       "2020-12-17 22:07:21                          0.0   \n",
       "2020-12-17 22:07:22                          0.0   \n",
       "\n",
       "                     system.softnet_stat|flow_limit_count  \\\n",
       "time_idx                                                    \n",
       "2020-12-17 22:07:18                                   NaN   \n",
       "2020-12-17 22:07:19                                   0.0   \n",
       "2020-12-17 22:07:20                                   0.0   \n",
       "2020-12-17 22:07:21                                   0.0   \n",
       "2020-12-17 22:07:22                                   0.0   \n",
       "\n",
       "                     system.softnet_stat|processed  \\\n",
       "time_idx                                             \n",
       "2020-12-17 22:07:18                            NaN   \n",
       "2020-12-17 22:07:19                       50.79238   \n",
       "2020-12-17 22:07:20                       30.05003   \n",
       "2020-12-17 22:07:21                       52.55451   \n",
       "2020-12-17 22:07:22                       88.53752   \n",
       "\n",
       "                     system.softnet_stat|received_rps  \\\n",
       "time_idx                                                \n",
       "2020-12-17 22:07:18                               NaN   \n",
       "2020-12-17 22:07:19                               0.0   \n",
       "2020-12-17 22:07:20                               0.0   \n",
       "2020-12-17 22:07:21                               0.0   \n",
       "2020-12-17 22:07:22                               0.0   \n",
       "\n",
       "                     system.softnet_stat|squeezed  system.uptime|uptime  \n",
       "time_idx                                                                 \n",
       "2020-12-17 22:07:18                           NaN                   NaN  \n",
       "2020-12-17 22:07:19                           0.0            67378840.0  \n",
       "2020-12-17 22:07:20                           0.0            67378840.0  \n",
       "2020-12-17 22:07:21                           0.0            67378850.0  \n",
       "2020-12-17 22:07:22                           0.0            67378850.0  \n",
       "\n",
       "[5 rows x 72 columns]"
      ],
      "text/html": "<div>\n<style scoped>\n    .dataframe tbody tr th:only-of-type {\n        vertical-align: middle;\n    }\n\n    .dataframe tbody tr th {\n        vertical-align: top;\n    }\n\n    .dataframe thead th {\n        text-align: right;\n    }\n</style>\n<table border=\"1\" class=\"dataframe\">\n  <thead>\n    <tr style=\"text-align: right;\">\n      <th></th>\n      <th>system.active_processes|active</th>\n      <th>system.cpu|guest</th>\n      <th>system.cpu|guest_nice</th>\n      <th>system.cpu|iowait</th>\n      <th>system.cpu|irq</th>\n      <th>system.cpu|nice</th>\n      <th>system.cpu|softirq</th>\n      <th>system.cpu|steal</th>\n      <th>system.cpu|system</th>\n      <th>system.cpu|user</th>\n      <th>...</th>\n      <th>system.softirqs|RCU</th>\n      <th>system.softirqs|SCHED</th>\n      <th>system.softirqs|TASKLET</th>\n      <th>system.softirqs|TIMER</th>\n      <th>system.softnet_stat|dropped</th>\n      <th>system.softnet_stat|flow_limit_count</th>\n      <th>system.softnet_stat|processed</th>\n      <th>system.softnet_stat|received_rps</th>\n      <th>system.softnet_stat|squeezed</th>\n      <th>system.uptime|uptime</th>\n    </tr>\n    <tr>\n      <th>time_idx</th>\n      <th></th>\n      <th></th>\n      <th></th>\n      <th></th>\n      <th></th>\n      <th></th>\n      <th></th>\n      <th></th>\n      <th></th>\n      <th></th>\n      <th></th>\n      <th></th>\n      <th></th>\n      <th></th>\n      <th></th>\n      <th></th>\n      <th></th>\n      <th></th>\n      <th></th>\n      <th></th>\n      <th></th>\n    </tr>\n  </thead>\n  <tbody>\n    <tr>\n      <th>2020-12-17 22:07:18</th>\n      <td>NaN</td>\n      <td>NaN</td>\n      <td>NaN</td>\n      <td>NaN</td>\n      <td>NaN</td>\n      <td>NaN</td>\n      <td>NaN</td>\n      <td>NaN</td>\n      <td>NaN</td>\n      <td>NaN</td>\n      <td>...</td>\n      <td>NaN</td>\n      <td>NaN</td>\n      <td>NaN</td>\n      <td>NaN</td>\n      <td>NaN</td>\n      <td>NaN</td>\n      <td>NaN</td>\n      <td>NaN</td>\n      <td>NaN</td>\n      <td>NaN</td>\n    </tr>\n    <tr>\n      <th>2020-12-17 22:07:19</th>\n      <td>210.0</td>\n      <td>0.0</td>\n      <td>0.0</td>\n      <td>0.0</td>\n      <td>0.0</td>\n      <td>0.0</td>\n      <td>0.000000</td>\n      <td>2.948403</td>\n      <td>1.228501</td>\n      <td>0.491401</td>\n      <td>...</td>\n      <td>102.84023</td>\n      <td>97.19177</td>\n      <td>18.223810</td>\n      <td>129.84048</td>\n      <td>0.0</td>\n      <td>0.0</td>\n      <td>50.79238</td>\n      <td>0.0</td>\n      <td>0.0</td>\n      <td>67378840.0</td>\n    </tr>\n    <tr>\n      <th>2020-12-17 22:07:20</th>\n      <td>210.0</td>\n      <td>0.0</td>\n      <td>0.0</td>\n      <td>0.0</td>\n      <td>0.0</td>\n      <td>0.0</td>\n      <td>0.000000</td>\n      <td>4.187192</td>\n      <td>1.231527</td>\n      <td>0.492611</td>\n      <td>...</td>\n      <td>87.77395</td>\n      <td>80.74703</td>\n      <td>10.683926</td>\n      <td>110.78337</td>\n      <td>0.0</td>\n      <td>0.0</td>\n      <td>30.05003</td>\n      <td>0.0</td>\n      <td>0.0</td>\n      <td>67378840.0</td>\n    </tr>\n    <tr>\n      <th>2020-12-17 22:07:21</th>\n      <td>210.0</td>\n      <td>0.0</td>\n      <td>0.0</td>\n      <td>0.0</td>\n      <td>0.0</td>\n      <td>0.0</td>\n      <td>0.240964</td>\n      <td>4.578313</td>\n      <td>1.686747</td>\n      <td>0.963855</td>\n      <td>...</td>\n      <td>89.84490</td>\n      <td>89.91068</td>\n      <td>19.429600</td>\n      <td>122.99334</td>\n      <td>0.0</td>\n      <td>0.0</td>\n      <td>52.55451</td>\n      <td>0.0</td>\n      <td>0.0</td>\n      <td>67378850.0</td>\n    </tr>\n    <tr>\n      <th>2020-12-17 22:07:22</th>\n      <td>210.0</td>\n      <td>0.0</td>\n      <td>0.0</td>\n      <td>0.0</td>\n      <td>0.0</td>\n      <td>0.0</td>\n      <td>0.000000</td>\n      <td>5.528846</td>\n      <td>1.923077</td>\n      <td>0.961538</td>\n      <td>...</td>\n      <td>129.03425</td>\n      <td>121.01417</td>\n      <td>31.174260</td>\n      <td>170.10780</td>\n      <td>0.0</td>\n      <td>0.0</td>\n      <td>88.53752</td>\n      <td>0.0</td>\n      <td>0.0</td>\n      <td>67378850.0</td>\n    </tr>\n  </tbody>\n</table>\n<p>5 rows × 72 columns</p>\n</div>"
     },
     "metadata": {},
     "execution_count": 4
    }
   ],
   "source": [
    "# get the data\n",
    "df_raw = get_data(hosts=hosts, charts_regex=charts_regex, after=after, before=before, index_as_datetime=True)\n",
    "print(df_raw.shape)\n",
    "df_raw.head()"
   ]
  },
  {
   "source": [
    "## Heatmaps!"
   ],
   "cell_type": "markdown",
   "metadata": {}
  },
  {
   "cell_type": "code",
   "execution_count": 5,
   "metadata": {},
   "outputs": [
    {
     "output_type": "stream",
     "name": "stdout",
     "text": [
      "(91, 46)\n"
     ]
    },
    {
     "output_type": "execute_result",
     "data": {
      "text/plain": [
       "                     system.processes|blocked  system.entropy|entropy  \\\n",
       "time_idx                                                                \n",
       "2020-12-17 22:07:10                       1.0                0.398070   \n",
       "2020-12-17 22:07:20                       1.0                0.417370   \n",
       "2020-12-17 22:07:30                       1.0                0.451950   \n",
       "2020-12-17 22:07:40                       1.0                0.486932   \n",
       "2020-12-17 22:07:50                       0.0                0.520306   \n",
       "2020-12-17 22:08:00                       1.0                0.554483   \n",
       "2020-12-17 22:08:10                       1.0                0.589867   \n",
       "2020-12-17 22:08:20                       1.0                0.625251   \n",
       "2020-12-17 22:08:30                       1.0                0.659429   \n",
       "2020-12-17 22:08:40                       1.0                0.694411   \n",
       "\n",
       "                     system.uptime|uptime  system.ram|cached  \\\n",
       "time_idx                                                       \n",
       "2020-12-17 22:07:10              0.000000           0.002811   \n",
       "2020-12-17 22:07:20              0.010012           0.000000   \n",
       "2020-12-17 22:07:30              0.021137           0.014857   \n",
       "2020-12-17 22:07:40              0.032262           0.027808   \n",
       "2020-12-17 22:07:50              0.043387           0.035136   \n",
       "2020-12-17 22:08:00              0.054512           0.046379   \n",
       "2020-12-17 22:08:10              0.065637           0.062040   \n",
       "2020-12-17 22:08:20              0.076761           0.070171   \n",
       "2020-12-17 22:08:30              0.087886           0.083121   \n",
       "2020-12-17 22:08:40              0.099011           0.101894   \n",
       "\n",
       "                     system.load|load15  system.load|load5  \\\n",
       "time_idx                                                     \n",
       "2020-12-17 22:07:10                 NaN                NaN   \n",
       "2020-12-17 22:07:20            0.000000           0.111111   \n",
       "2020-12-17 22:07:30            0.000000           0.101852   \n",
       "2020-12-17 22:07:40            0.250000           0.351852   \n",
       "2020-12-17 22:07:50            0.625000           0.675926   \n",
       "2020-12-17 22:08:00            0.760501           0.805630   \n",
       "2020-12-17 22:08:10            1.000000           1.000000   \n",
       "2020-12-17 22:08:20            1.000000           1.000000   \n",
       "2020-12-17 22:08:30            1.000000           0.944444   \n",
       "2020-12-17 22:08:40            0.968750           0.916667   \n",
       "\n",
       "                     system.ipv6|received  system.ram|free  system.cpu|iowait  \\\n",
       "time_idx                                                                        \n",
       "2020-12-17 22:07:10              0.947772         0.758362            0.00000   \n",
       "2020-12-17 22:07:20              0.545691         0.794608            0.00000   \n",
       "2020-12-17 22:07:30              0.779905         0.825930            0.00000   \n",
       "2020-12-17 22:07:40              0.580304         0.880786            0.47619   \n",
       "2020-12-17 22:07:50              0.599034         0.858671            0.00000   \n",
       "2020-12-17 22:08:00              0.687275         0.938077            0.00000   \n",
       "2020-12-17 22:08:10              0.620545         0.918101            0.00000   \n",
       "2020-12-17 22:08:20              0.672076         0.971821            0.00000   \n",
       "2020-12-17 22:08:30              0.600526         0.916961            0.00000   \n",
       "2020-12-17 22:08:40              0.705274         0.673038            0.00000   \n",
       "\n",
       "                     system.ram|used  ...  system.cpu|softirq  \\\n",
       "time_idx                              ...                       \n",
       "2020-12-17 22:07:10         0.366011  ...            0.000000   \n",
       "2020-12-17 22:07:20         0.335004  ...            0.177312   \n",
       "2020-12-17 22:07:30         0.305610  ...            0.271108   \n",
       "2020-12-17 22:07:40         0.256056  ...            0.360535   \n",
       "2020-12-17 22:07:50         0.273971  ...            0.183250   \n",
       "2020-12-17 22:08:00         0.203513  ...            0.275106   \n",
       "2020-12-17 22:08:10         0.218376  ...            0.090947   \n",
       "2020-12-17 22:08:20         0.170593  ...            0.182345   \n",
       "2020-12-17 22:08:30         0.215989  ...            0.183934   \n",
       "2020-12-17 22:08:40         0.424246  ...            0.184634   \n",
       "\n",
       "                     system.cpu|user  system.softirqs|TASKLET  system.io|out  \\\n",
       "time_idx                                                                       \n",
       "2020-12-17 22:07:10         0.000000                 0.000000       0.000000   \n",
       "2020-12-17 22:07:20         0.446098                 0.155188       0.746640   \n",
       "2020-12-17 22:07:30         0.566496                 0.105708       0.774806   \n",
       "2020-12-17 22:07:40         0.333687                 0.222729       0.802678   \n",
       "2020-12-17 22:07:50         0.500682                 0.242878       0.781630   \n",
       "2020-12-17 22:08:00         0.497418                 0.197121       0.550097   \n",
       "2020-12-17 22:08:10         0.619380                 0.156916       0.697436   \n",
       "2020-12-17 22:08:20         0.661136                 0.286272       0.844775   \n",
       "2020-12-17 22:08:30         0.693768                 0.130601       0.562653   \n",
       "2020-12-17 22:08:40         0.728137                 0.244595       0.684879   \n",
       "\n",
       "                     system.pgpgio|out  system.forks|started  \\\n",
       "time_idx                                                       \n",
       "2020-12-17 22:07:10           0.000000              0.000000   \n",
       "2020-12-17 22:07:20           0.747054              0.140145   \n",
       "2020-12-17 22:07:30           0.775360              0.306872   \n",
       "2020-12-17 22:07:40           0.802938              0.140201   \n",
       "2020-12-17 22:07:50           0.781944              0.028862   \n",
       "2020-12-17 22:08:00           0.551006              0.029749   \n",
       "2020-12-17 22:08:10           0.697966              0.029214   \n",
       "2020-12-17 22:08:20           0.844927              0.029217   \n",
       "2020-12-17 22:08:30           0.563147              0.029252   \n",
       "2020-12-17 22:08:40           0.685826              0.029303   \n",
       "\n",
       "                     system.interrupts|virtio0-input.0_25  system.ram|buffers  \\\n",
       "time_idx                                                                        \n",
       "2020-12-17 22:07:10                              0.000000                 1.0   \n",
       "2020-12-17 22:07:20                              0.156029                 0.0   \n",
       "2020-12-17 22:07:30                              0.100882                 0.0   \n",
       "2020-12-17 22:07:40                              0.223830                 0.0   \n",
       "2020-12-17 22:07:50                              0.231054                 0.0   \n",
       "2020-12-17 22:08:00                              0.194120                 0.0   \n",
       "2020-12-17 22:08:10                              0.155898                 0.0   \n",
       "2020-12-17 22:08:20                              0.288203                 0.0   \n",
       "2020-12-17 22:08:30                              0.124214                 0.0   \n",
       "2020-12-17 22:08:40                              0.241567                 0.0   \n",
       "\n",
       "                     system.net|received  system.softnet_stat|squeezed  \n",
       "time_idx                                                                \n",
       "2020-12-17 22:07:10             0.000000                           0.0  \n",
       "2020-12-17 22:07:20             0.689987                           0.0  \n",
       "2020-12-17 22:07:30             0.526903                           0.0  \n",
       "2020-12-17 22:07:40             0.640076                           0.2  \n",
       "2020-12-17 22:07:50             0.686508                           0.0  \n",
       "2020-12-17 22:08:00             0.707470                           0.2  \n",
       "2020-12-17 22:08:10             0.612646                           0.0  \n",
       "2020-12-17 22:08:20             0.795528                           0.0  \n",
       "2020-12-17 22:08:30             0.613098                           0.0  \n",
       "2020-12-17 22:08:40             0.811520                           0.0  \n",
       "\n",
       "[10 rows x 46 columns]"
      ],
      "text/html": "<div>\n<style scoped>\n    .dataframe tbody tr th:only-of-type {\n        vertical-align: middle;\n    }\n\n    .dataframe tbody tr th {\n        vertical-align: top;\n    }\n\n    .dataframe thead th {\n        text-align: right;\n    }\n</style>\n<table border=\"1\" class=\"dataframe\">\n  <thead>\n    <tr style=\"text-align: right;\">\n      <th></th>\n      <th>system.processes|blocked</th>\n      <th>system.entropy|entropy</th>\n      <th>system.uptime|uptime</th>\n      <th>system.ram|cached</th>\n      <th>system.load|load15</th>\n      <th>system.load|load5</th>\n      <th>system.ipv6|received</th>\n      <th>system.ram|free</th>\n      <th>system.cpu|iowait</th>\n      <th>system.ram|used</th>\n      <th>...</th>\n      <th>system.cpu|softirq</th>\n      <th>system.cpu|user</th>\n      <th>system.softirqs|TASKLET</th>\n      <th>system.io|out</th>\n      <th>system.pgpgio|out</th>\n      <th>system.forks|started</th>\n      <th>system.interrupts|virtio0-input.0_25</th>\n      <th>system.ram|buffers</th>\n      <th>system.net|received</th>\n      <th>system.softnet_stat|squeezed</th>\n    </tr>\n    <tr>\n      <th>time_idx</th>\n      <th></th>\n      <th></th>\n      <th></th>\n      <th></th>\n      <th></th>\n      <th></th>\n      <th></th>\n      <th></th>\n      <th></th>\n      <th></th>\n      <th></th>\n      <th></th>\n      <th></th>\n      <th></th>\n      <th></th>\n      <th></th>\n      <th></th>\n      <th></th>\n      <th></th>\n      <th></th>\n      <th></th>\n    </tr>\n  </thead>\n  <tbody>\n    <tr>\n      <th>2020-12-17 22:07:10</th>\n      <td>1.0</td>\n      <td>0.398070</td>\n      <td>0.000000</td>\n      <td>0.002811</td>\n      <td>NaN</td>\n      <td>NaN</td>\n      <td>0.947772</td>\n      <td>0.758362</td>\n      <td>0.00000</td>\n      <td>0.366011</td>\n      <td>...</td>\n      <td>0.000000</td>\n      <td>0.000000</td>\n      <td>0.000000</td>\n      <td>0.000000</td>\n      <td>0.000000</td>\n      <td>0.000000</td>\n      <td>0.000000</td>\n      <td>1.0</td>\n      <td>0.000000</td>\n      <td>0.0</td>\n    </tr>\n    <tr>\n      <th>2020-12-17 22:07:20</th>\n      <td>1.0</td>\n      <td>0.417370</td>\n      <td>0.010012</td>\n      <td>0.000000</td>\n      <td>0.000000</td>\n      <td>0.111111</td>\n      <td>0.545691</td>\n      <td>0.794608</td>\n      <td>0.00000</td>\n      <td>0.335004</td>\n      <td>...</td>\n      <td>0.177312</td>\n      <td>0.446098</td>\n      <td>0.155188</td>\n      <td>0.746640</td>\n      <td>0.747054</td>\n      <td>0.140145</td>\n      <td>0.156029</td>\n      <td>0.0</td>\n      <td>0.689987</td>\n      <td>0.0</td>\n    </tr>\n    <tr>\n      <th>2020-12-17 22:07:30</th>\n      <td>1.0</td>\n      <td>0.451950</td>\n      <td>0.021137</td>\n      <td>0.014857</td>\n      <td>0.000000</td>\n      <td>0.101852</td>\n      <td>0.779905</td>\n      <td>0.825930</td>\n      <td>0.00000</td>\n      <td>0.305610</td>\n      <td>...</td>\n      <td>0.271108</td>\n      <td>0.566496</td>\n      <td>0.105708</td>\n      <td>0.774806</td>\n      <td>0.775360</td>\n      <td>0.306872</td>\n      <td>0.100882</td>\n      <td>0.0</td>\n      <td>0.526903</td>\n      <td>0.0</td>\n    </tr>\n    <tr>\n      <th>2020-12-17 22:07:40</th>\n      <td>1.0</td>\n      <td>0.486932</td>\n      <td>0.032262</td>\n      <td>0.027808</td>\n      <td>0.250000</td>\n      <td>0.351852</td>\n      <td>0.580304</td>\n      <td>0.880786</td>\n      <td>0.47619</td>\n      <td>0.256056</td>\n      <td>...</td>\n      <td>0.360535</td>\n      <td>0.333687</td>\n      <td>0.222729</td>\n      <td>0.802678</td>\n      <td>0.802938</td>\n      <td>0.140201</td>\n      <td>0.223830</td>\n      <td>0.0</td>\n      <td>0.640076</td>\n      <td>0.2</td>\n    </tr>\n    <tr>\n      <th>2020-12-17 22:07:50</th>\n      <td>0.0</td>\n      <td>0.520306</td>\n      <td>0.043387</td>\n      <td>0.035136</td>\n      <td>0.625000</td>\n      <td>0.675926</td>\n      <td>0.599034</td>\n      <td>0.858671</td>\n      <td>0.00000</td>\n      <td>0.273971</td>\n      <td>...</td>\n      <td>0.183250</td>\n      <td>0.500682</td>\n      <td>0.242878</td>\n      <td>0.781630</td>\n      <td>0.781944</td>\n      <td>0.028862</td>\n      <td>0.231054</td>\n      <td>0.0</td>\n      <td>0.686508</td>\n      <td>0.0</td>\n    </tr>\n    <tr>\n      <th>2020-12-17 22:08:00</th>\n      <td>1.0</td>\n      <td>0.554483</td>\n      <td>0.054512</td>\n      <td>0.046379</td>\n      <td>0.760501</td>\n      <td>0.805630</td>\n      <td>0.687275</td>\n      <td>0.938077</td>\n      <td>0.00000</td>\n      <td>0.203513</td>\n      <td>...</td>\n      <td>0.275106</td>\n      <td>0.497418</td>\n      <td>0.197121</td>\n      <td>0.550097</td>\n      <td>0.551006</td>\n      <td>0.029749</td>\n      <td>0.194120</td>\n      <td>0.0</td>\n      <td>0.707470</td>\n      <td>0.2</td>\n    </tr>\n    <tr>\n      <th>2020-12-17 22:08:10</th>\n      <td>1.0</td>\n      <td>0.589867</td>\n      <td>0.065637</td>\n      <td>0.062040</td>\n      <td>1.000000</td>\n      <td>1.000000</td>\n      <td>0.620545</td>\n      <td>0.918101</td>\n      <td>0.00000</td>\n      <td>0.218376</td>\n      <td>...</td>\n      <td>0.090947</td>\n      <td>0.619380</td>\n      <td>0.156916</td>\n      <td>0.697436</td>\n      <td>0.697966</td>\n      <td>0.029214</td>\n      <td>0.155898</td>\n      <td>0.0</td>\n      <td>0.612646</td>\n      <td>0.0</td>\n    </tr>\n    <tr>\n      <th>2020-12-17 22:08:20</th>\n      <td>1.0</td>\n      <td>0.625251</td>\n      <td>0.076761</td>\n      <td>0.070171</td>\n      <td>1.000000</td>\n      <td>1.000000</td>\n      <td>0.672076</td>\n      <td>0.971821</td>\n      <td>0.00000</td>\n      <td>0.170593</td>\n      <td>...</td>\n      <td>0.182345</td>\n      <td>0.661136</td>\n      <td>0.286272</td>\n      <td>0.844775</td>\n      <td>0.844927</td>\n      <td>0.029217</td>\n      <td>0.288203</td>\n      <td>0.0</td>\n      <td>0.795528</td>\n      <td>0.0</td>\n    </tr>\n    <tr>\n      <th>2020-12-17 22:08:30</th>\n      <td>1.0</td>\n      <td>0.659429</td>\n      <td>0.087886</td>\n      <td>0.083121</td>\n      <td>1.000000</td>\n      <td>0.944444</td>\n      <td>0.600526</td>\n      <td>0.916961</td>\n      <td>0.00000</td>\n      <td>0.215989</td>\n      <td>...</td>\n      <td>0.183934</td>\n      <td>0.693768</td>\n      <td>0.130601</td>\n      <td>0.562653</td>\n      <td>0.563147</td>\n      <td>0.029252</td>\n      <td>0.124214</td>\n      <td>0.0</td>\n      <td>0.613098</td>\n      <td>0.0</td>\n    </tr>\n    <tr>\n      <th>2020-12-17 22:08:40</th>\n      <td>1.0</td>\n      <td>0.694411</td>\n      <td>0.099011</td>\n      <td>0.101894</td>\n      <td>0.968750</td>\n      <td>0.916667</td>\n      <td>0.705274</td>\n      <td>0.673038</td>\n      <td>0.00000</td>\n      <td>0.424246</td>\n      <td>...</td>\n      <td>0.184634</td>\n      <td>0.728137</td>\n      <td>0.244595</td>\n      <td>0.684879</td>\n      <td>0.685826</td>\n      <td>0.029303</td>\n      <td>0.241567</td>\n      <td>0.0</td>\n      <td>0.811520</td>\n      <td>0.0</td>\n    </tr>\n  </tbody>\n</table>\n<p>10 rows × 46 columns</p>\n</div>"
     },
     "metadata": {},
     "execution_count": 5
    }
   ],
   "source": [
    "# lets resample to 10 sec frequency\n",
    "df = df_raw.resample(resample_freq).mean()\n",
    "\n",
    "# lets min-max normalize our data so metrics can be compared on a heatmap\n",
    "df=(df-df.min())/(df.max()-df.min())\n",
    "\n",
    "# drop na cols\n",
    "df = df.dropna(how='all', axis=1)\n",
    "\n",
    "# lets sort cols by their std to try make heatmap prettier\n",
    "df = df[df.std().sort_values(ascending=False).index]\n",
    "\n",
    "print(df.shape)\n",
    "df.head(10)"
   ]
  },
  {
   "cell_type": "code",
   "execution_count": 6,
   "metadata": {},
   "outputs": [],
   "source": [
    "# lets cluster the columns to show similar metrics next to each other on the heatmap\n",
    "#clustering = KMeans(n_clusters=int(round(len(df.columns)*0.2,0))).fit(df.fillna(0).transpose().values)\n",
    "clustering = AgglomerativeClustering(n_clusters=int(round(len(df.columns)*0.2,0))).fit(df.fillna(0).transpose().values)\n",
    "\n",
    "# get order of cols from the cluster labels\n",
    "cols_sorted = pd.DataFrame(\n",
    "    zip(df.columns, clustering.labels_), \n",
    "    columns=['metric', 'cluster']\n",
    "    ).sort_values('cluster')['metric'].values.tolist()\n",
    "\n",
    "# re-order cols\n",
    "df = df[cols_sorted]"
   ]
  },
  {
   "cell_type": "code",
   "execution_count": 7,
   "metadata": {},
   "outputs": [
    {
     "output_type": "display_data",
     "data": {
      "image/svg+xml": "<svg class=\"main-svg\" xmlns=\"http://www.w3.org/2000/svg\" xmlns:xlink=\"http://www.w3.org/1999/xlink\" width=\"700\" height=\"450\" style=\"\" viewBox=\"0 0 700 450\"><rect x=\"0\" y=\"0\" width=\"700\" height=\"450\" style=\"fill: rgb(255, 255, 255); fill-opacity: 1;\"/><defs id=\"defs-d0157d\"><g class=\"clips\"><clipPath id=\"clipd0157dxyplot\" class=\"plotclip\"><rect width=\"415\" height=\"310\"/></clipPath><clipPath class=\"axesclip\" id=\"clipd0157dx\"><rect x=\"195\" y=\"0\" width=\"415\" height=\"450\"/></clipPath><clipPath class=\"axesclip\" id=\"clipd0157dy\"><rect x=\"0\" y=\"60\" width=\"700\" height=\"310\"/></clipPath><clipPath class=\"axesclip\" id=\"clipd0157dxy\"><rect x=\"195\" y=\"60\" width=\"415\" height=\"310\"/></clipPath></g><g class=\"gradients\"><linearGradient x1=\"0\" x2=\"0\" y1=\"1\" y2=\"0\" id=\"gd0157d-cbcoloraxis\"><stop offset=\"0%\" stop-color=\"rgb(13, 8, 135)\" stop-opacity=\"1\"/><stop offset=\"11.11111111111111%\" stop-color=\"rgb(70, 3, 159)\" stop-opacity=\"1\"/><stop offset=\"22.22222222222222%\" stop-color=\"rgb(114, 1, 168)\" stop-opacity=\"1\"/><stop offset=\"33.33333333333333%\" stop-color=\"rgb(156, 23, 158)\" stop-opacity=\"1\"/><stop offset=\"44.44444444444444%\" stop-color=\"rgb(189, 55, 134)\" stop-opacity=\"1\"/><stop offset=\"55.55555555555556%\" stop-color=\"rgb(216, 87, 107)\" stop-opacity=\"1\"/><stop offset=\"66.66666666666666%\" stop-color=\"rgb(237, 121, 83)\" stop-opacity=\"1\"/><stop offset=\"77.77777777777779%\" stop-color=\"rgb(251, 159, 58)\" stop-opacity=\"1\"/><stop offset=\"88.88888888888889%\" stop-color=\"rgb(253, 202, 38)\" stop-opacity=\"1\"/><stop offset=\"100%\" stop-color=\"rgb(240, 249, 33)\" stop-opacity=\"1\"/></linearGradient></g></defs><g class=\"bglayer\"><rect class=\"bg\" x=\"195\" y=\"60\" width=\"415\" height=\"310\" style=\"fill: rgb(229, 236, 246); fill-opacity: 1; stroke-width: 0;\"/></g><g class=\"layer-below\"><g class=\"imagelayer\"/><g class=\"shapelayer\"/></g><g class=\"cartesianlayer\"><g class=\"subplot xy\"><g class=\"layer-subplot\"><g class=\"shapelayer\"/><g class=\"imagelayer\"/></g><g class=\"gridlayer\"><g class=\"x\"><path class=\"xgrid crisp\" transform=\"translate(274.81,0)\" d=\"M0,60v310\" style=\"stroke: rgb(255, 255, 255); stroke-opacity: 1; stroke-width: 1px;\"/><path class=\"xgrid crisp\" transform=\"translate(411.62,0)\" d=\"M0,60v310\" style=\"stroke: rgb(255, 255, 255); stroke-opacity: 1; stroke-width: 1px;\"/><path class=\"xgrid crisp\" transform=\"translate(548.4300000000001,0)\" d=\"M0,60v310\" style=\"stroke: rgb(255, 255, 255); stroke-opacity: 1; stroke-width: 1px;\"/></g><g class=\"y\"><path class=\"ygrid crisp\" transform=\"translate(0,366.63)\" d=\"M195,0h415\" style=\"stroke: rgb(255, 255, 255); stroke-opacity: 1; stroke-width: 1px;\"/><path class=\"ygrid crisp\" transform=\"translate(0,346.41)\" d=\"M195,0h415\" style=\"stroke: rgb(255, 255, 255); stroke-opacity: 1; stroke-width: 1px;\"/><path class=\"ygrid crisp\" transform=\"translate(0,326.2)\" d=\"M195,0h415\" style=\"stroke: rgb(255, 255, 255); stroke-opacity: 1; stroke-width: 1px;\"/><path class=\"ygrid crisp\" transform=\"translate(0,305.98)\" d=\"M195,0h415\" style=\"stroke: rgb(255, 255, 255); stroke-opacity: 1; stroke-width: 1px;\"/><path class=\"ygrid crisp\" transform=\"translate(0,285.76)\" d=\"M195,0h415\" style=\"stroke: rgb(255, 255, 255); stroke-opacity: 1; stroke-width: 1px;\"/><path class=\"ygrid crisp\" transform=\"translate(0,265.53999999999996)\" d=\"M195,0h415\" style=\"stroke: rgb(255, 255, 255); stroke-opacity: 1; stroke-width: 1px;\"/><path class=\"ygrid crisp\" transform=\"translate(0,245.33)\" d=\"M195,0h415\" style=\"stroke: rgb(255, 255, 255); stroke-opacity: 1; stroke-width: 1px;\"/><path class=\"ygrid crisp\" transform=\"translate(0,225.11)\" d=\"M195,0h415\" style=\"stroke: rgb(255, 255, 255); stroke-opacity: 1; stroke-width: 1px;\"/><path class=\"ygrid crisp\" transform=\"translate(0,204.89)\" d=\"M195,0h415\" style=\"stroke: rgb(255, 255, 255); stroke-opacity: 1; stroke-width: 1px;\"/><path class=\"ygrid crisp\" transform=\"translate(0,184.67000000000002)\" d=\"M195,0h415\" style=\"stroke: rgb(255, 255, 255); stroke-opacity: 1; stroke-width: 1px;\"/><path class=\"ygrid crisp\" transform=\"translate(0,164.45999999999998)\" d=\"M195,0h415\" style=\"stroke: rgb(255, 255, 255); stroke-opacity: 1; stroke-width: 1px;\"/><path class=\"ygrid crisp\" transform=\"translate(0,144.24)\" d=\"M195,0h415\" style=\"stroke: rgb(255, 255, 255); stroke-opacity: 1; stroke-width: 1px;\"/><path class=\"ygrid crisp\" transform=\"translate(0,124.02)\" d=\"M195,0h415\" style=\"stroke: rgb(255, 255, 255); stroke-opacity: 1; stroke-width: 1px;\"/><path class=\"ygrid crisp\" transform=\"translate(0,103.8)\" d=\"M195,0h415\" style=\"stroke: rgb(255, 255, 255); stroke-opacity: 1; stroke-width: 1px;\"/><path class=\"ygrid crisp\" transform=\"translate(0,83.59)\" d=\"M195,0h415\" style=\"stroke: rgb(255, 255, 255); stroke-opacity: 1; stroke-width: 1px;\"/><path class=\"ygrid crisp\" transform=\"translate(0,63.37)\" d=\"M195,0h415\" style=\"stroke: rgb(255, 255, 255); stroke-opacity: 1; stroke-width: 1px;\"/></g></g><g class=\"zerolinelayer\"/><path class=\"xlines-below\"/><path class=\"ylines-below\"/><g class=\"overlines-below\"/><g class=\"xaxislayer-below\"/><g class=\"yaxislayer-below\"/><g class=\"overaxes-below\"/><g class=\"plot\" transform=\"translate(195,60)\" clip-path=\"url('#clipd0157dxyplot')\"><g class=\"heatmaplayer mlayer\"><g class=\"hm\"><image xmlns=\"http://www.w3.org/2000/svg\" preserveAspectRatio=\"none\" height=\"310\" width=\"415\" x=\"0\" y=\"0\" xlink:href=\"data:image/png;base64,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\" style=\"opacity: 1;\"/></g></g></g><g class=\"overplot\"/><path class=\"xlines-above crisp\" d=\"M0,0\" style=\"fill: none;\"/><path class=\"ylines-above crisp\" d=\"M0,0\" style=\"fill: none;\"/><g class=\"overlines-above\"/><g class=\"xaxislayer-above\"><g class=\"xtick\"><text text-anchor=\"middle\" x=\"0\" y=\"383\" transform=\"translate(274.81,0)\" style=\"font-family: 'Open Sans', verdana, arial, sans-serif; font-size: 12px; fill: rgb(42, 63, 95); fill-opacity: 1; white-space: pre;\"><tspan class=\"line\" dy=\"0em\" x=\"0\" y=\"383\">22:10</tspan><tspan class=\"line\" dy=\"1.3em\" x=\"0\" y=\"383\">Dec 17, 2020</tspan></text></g><g class=\"xtick\"><text text-anchor=\"middle\" x=\"0\" y=\"383\" transform=\"translate(411.62,0)\" style=\"font-family: 'Open Sans', verdana, arial, sans-serif; font-size: 12px; fill: rgb(42, 63, 95); fill-opacity: 1; white-space: pre;\">22:15</text></g><g class=\"xtick\"><text text-anchor=\"middle\" x=\"0\" y=\"383\" transform=\"translate(548.4300000000001,0)\" style=\"font-family: 'Open Sans', verdana, arial, sans-serif; font-size: 12px; fill: rgb(42, 63, 95); fill-opacity: 1; white-space: pre;\">22:20</text></g></g><g class=\"yaxislayer-above\"><g class=\"ytick\"><text text-anchor=\"end\" x=\"194\" y=\"4.199999999999999\" transform=\"translate(0,366.63)\" style=\"font-family: 'Open Sans', verdana, arial, sans-serif; font-size: 12px; fill: rgb(42, 63, 95); fill-opacity: 1; white-space: pre;\">system.net|sent</text></g><g class=\"ytick\"><text text-anchor=\"end\" x=\"194\" y=\"4.199999999999999\" transform=\"translate(0,346.41)\" style=\"font-family: 'Open Sans', verdana, arial, sans-serif; font-size: 12px; fill: rgb(42, 63, 95); fill-opacity: 1; white-space: pre;\">system.io|out</text></g><g class=\"ytick\"><text text-anchor=\"end\" x=\"194\" y=\"4.199999999999999\" transform=\"translate(0,326.2)\" style=\"font-family: 'Open Sans', verdana, arial, sans-serif; font-size: 12px; fill: rgb(42, 63, 95); fill-opacity: 1; white-space: pre;\">system.interrupts|qxl_11</text></g><g class=\"ytick\"><text text-anchor=\"end\" x=\"194\" y=\"4.199999999999999\" transform=\"translate(0,305.98)\" style=\"font-family: 'Open Sans', verdana, arial, sans-serif; font-size: 12px; fill: rgb(42, 63, 95); fill-opacity: 1; white-space: pre;\">system.ram|free</text></g><g class=\"ytick\"><text text-anchor=\"end\" x=\"194\" y=\"4.199999999999999\" transform=\"translate(0,285.76)\" style=\"font-family: 'Open Sans', verdana, arial, sans-serif; font-size: 12px; fill: rgb(42, 63, 95); fill-opacity: 1; white-space: pre;\">system.cpu|system</text></g><g class=\"ytick\"><text text-anchor=\"end\" x=\"194\" y=\"4.199999999999999\" transform=\"translate(0,265.53999999999996)\" style=\"font-family: 'Open Sans', verdana, arial, sans-serif; font-size: 12px; fill: rgb(42, 63, 95); fill-opacity: 1; white-space: pre;\">system.processes|blocked</text></g><g class=\"ytick\"><text text-anchor=\"end\" x=\"194\" y=\"4.199999999999999\" transform=\"translate(0,245.33)\" style=\"font-family: 'Open Sans', verdana, arial, sans-serif; font-size: 12px; fill: rgb(42, 63, 95); fill-opacity: 1; white-space: pre;\">system.softirqs|NET_TX</text></g><g class=\"ytick\"><text text-anchor=\"end\" x=\"194\" y=\"4.199999999999999\" transform=\"translate(0,225.11)\" style=\"font-family: 'Open Sans', verdana, arial, sans-serif; font-size: 12px; fill: rgb(42, 63, 95); fill-opacity: 1; white-space: pre;\">system.softirqs|NET_RX</text></g><g class=\"ytick\"><text text-anchor=\"end\" x=\"194\" y=\"4.199999999999999\" transform=\"translate(0,204.89)\" style=\"font-family: 'Open Sans', verdana, arial, sans-serif; font-size: 12px; fill: rgb(42, 63, 95); fill-opacity: 1; white-space: pre;\">system.softirqs|RCU</text></g><g class=\"ytick\"><text text-anchor=\"end\" x=\"194\" y=\"4.199999999999999\" transform=\"translate(0,184.67000000000002)\" style=\"font-family: 'Open Sans', verdana, arial, sans-serif; font-size: 12px; fill: rgb(42, 63, 95); fill-opacity: 1; white-space: pre;\">system.softirqs|TASKLET</text></g><g class=\"ytick\"><text text-anchor=\"end\" x=\"194\" y=\"4.199999999999999\" transform=\"translate(0,164.45999999999998)\" style=\"font-family: 'Open Sans', verdana, arial, sans-serif; font-size: 12px; fill: rgb(42, 63, 95); fill-opacity: 1; white-space: pre;\">system.softnet_stat|squeezed</text></g><g class=\"ytick\"><text text-anchor=\"end\" x=\"194\" y=\"4.199999999999999\" transform=\"translate(0,144.24)\" style=\"font-family: 'Open Sans', verdana, arial, sans-serif; font-size: 12px; fill: rgb(42, 63, 95); fill-opacity: 1; white-space: pre;\">system.ram|buffers</text></g><g class=\"ytick\"><text text-anchor=\"end\" x=\"194\" y=\"4.199999999999999\" transform=\"translate(0,124.02)\" style=\"font-family: 'Open Sans', verdana, arial, sans-serif; font-size: 12px; fill: rgb(42, 63, 95); fill-opacity: 1; white-space: pre;\">system.ipv6|received</text></g><g class=\"ytick\"><text text-anchor=\"end\" x=\"194\" y=\"4.199999999999999\" transform=\"translate(0,103.8)\" style=\"font-family: 'Open Sans', verdana, arial, sans-serif; font-size: 12px; fill: rgb(42, 63, 95); fill-opacity: 1; white-space: pre;\">system.ctxt|switches</text></g><g class=\"ytick\"><text text-anchor=\"end\" x=\"194\" y=\"4.199999999999999\" transform=\"translate(0,83.59)\" style=\"font-family: 'Open Sans', verdana, arial, sans-serif; font-size: 12px; fill: rgb(42, 63, 95); fill-opacity: 1; white-space: pre;\">system.interrupts|CAL</text></g><g class=\"ytick\"><text text-anchor=\"end\" x=\"194\" y=\"4.199999999999999\" transform=\"translate(0,63.37)\" style=\"font-family: 'Open Sans', verdana, arial, sans-serif; font-size: 12px; fill: rgb(42, 63, 95); fill-opacity: 1; white-space: pre;\">system.entropy|entropy</text></g></g><g class=\"overaxes-above\"/></g></g><g class=\"polarlayer\"/><g class=\"ternarylayer\"/><g class=\"geolayer\"/><g class=\"funnelarealayer\"/><g class=\"pielayer\"/><g class=\"treemaplayer\"/><g class=\"sunburstlayer\"/><g class=\"glimages\"/><defs id=\"topdefs-d0157d\"><g class=\"clips\"/></defs><g class=\"layer-above\"><g class=\"imagelayer\"/><g class=\"shapelayer\"/></g><g class=\"infolayer\"><g class=\"cbcoloraxis colorbar\" transform=\"translate(195,60)\"><rect class=\"cbbg\" x=\"423\" y=\"0\" width=\"70.015625\" height=\"310\" style=\"fill: rgb(0, 0, 0); fill-opacity: 0; stroke: rgb(68, 68, 68); stroke-opacity: 1; stroke-width: 0;\"/><g class=\"cbfills\" transform=\"translate(0,10)\"><rect class=\"cbfill\" x=\"433\" width=\"30\" y=\"0\" height=\"290\" style=\"fill: url('#gd0157d-cbcoloraxis');\"/></g><g class=\"cblines\" transform=\"translate(0,10)\"/><g class=\"cbaxis crisp\" transform=\"translate(0,-60)\"><g class=\"ycbcoloraxistick\"><text text-anchor=\"start\" x=\"465.9\" y=\"4.199999999999999\" transform=\"translate(0,360)\" style=\"font-family: 'Open Sans', verdana, arial, sans-serif; font-size: 12px; fill: rgb(42, 63, 95); fill-opacity: 1; white-space: pre;\">0</text></g><g class=\"ycbcoloraxistick\"><text text-anchor=\"start\" x=\"465.9\" y=\"4.199999999999999\" transform=\"translate(0,302)\" style=\"font-family: 'Open Sans', verdana, arial, sans-serif; font-size: 12px; fill: rgb(42, 63, 95); fill-opacity: 1; white-space: pre;\">0.2</text></g><g class=\"ycbcoloraxistick\"><text text-anchor=\"start\" x=\"465.9\" y=\"4.199999999999999\" transform=\"translate(0,244)\" style=\"font-family: 'Open Sans', verdana, arial, sans-serif; font-size: 12px; fill: rgb(42, 63, 95); fill-opacity: 1; white-space: pre;\">0.4</text></g><g class=\"ycbcoloraxistick\"><text text-anchor=\"start\" x=\"465.9\" y=\"4.199999999999999\" transform=\"translate(0,186)\" style=\"font-family: 'Open Sans', verdana, arial, sans-serif; font-size: 12px; fill: rgb(42, 63, 95); fill-opacity: 1; white-space: pre;\">0.6</text></g><g class=\"ycbcoloraxistick\"><text text-anchor=\"start\" x=\"465.9\" y=\"4.199999999999999\" transform=\"translate(0,127.99999999999999)\" style=\"font-family: 'Open Sans', verdana, arial, sans-serif; font-size: 12px; fill: rgb(42, 63, 95); fill-opacity: 1; white-space: pre;\">0.8</text></g><g class=\"ycbcoloraxistick\"><text text-anchor=\"start\" x=\"465.9\" y=\"4.199999999999999\" transform=\"translate(0,69.99999999999999)\" style=\"font-family: 'Open Sans', verdana, arial, sans-serif; font-size: 12px; fill: rgb(42, 63, 95); fill-opacity: 1; white-space: pre;\">1</text></g></g><g class=\"cbtitleunshift\" transform=\"translate(-195,-60)\"><g class=\"cbtitle\"/></g><rect class=\"cboutline\" x=\"433\" y=\"10\" width=\"30\" height=\"290\" style=\"stroke: rgb(68, 68, 68); stroke-opacity: 1; fill: none; stroke-width: 0;\"/></g><g class=\"g-gtitle\"/><g class=\"g-xtitle\"><text class=\"xtitle\" x=\"402.5\" y=\"426.409375\" text-anchor=\"middle\" style=\"font-family: 'Open Sans', verdana, arial, sans-serif; font-size: 14px; fill: rgb(42, 63, 95); opacity: 1; font-weight: normal; white-space: pre;\">time_idx</text></g><g class=\"g-ytitle\"/></g></svg>"
     },
     "metadata": {}
    }
   ],
   "source": [
    "# now plot our heatmap\n",
    "fig = px.imshow(df.transpose())\n",
    "fig.update_layout(\n",
    "    autosize=False,\n",
    "    width=1000,\n",
    "    height=1200)\n",
    "# fig.show() # for interactive\n",
    "fig.show(\"svg\") # static svg so can be displayed on github, best use above line"
   ]
  },
  {
   "cell_type": "code",
   "execution_count": 7,
   "metadata": {},
   "outputs": [],
   "source": [
    " \n"
   ]
  },
  {
   "cell_type": "code",
   "execution_count": null,
   "metadata": {},
   "outputs": [],
   "source": []
  },
  {
   "cell_type": "code",
   "execution_count": null,
   "metadata": {},
   "outputs": [],
   "source": []
  }
 ]
}