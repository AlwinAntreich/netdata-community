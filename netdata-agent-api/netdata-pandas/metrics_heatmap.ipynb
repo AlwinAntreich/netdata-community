{
 "metadata": {
  "language_info": {
   "codemirror_mode": {
    "name": "ipython",
    "version": 3
   },
   "file_extension": ".py",
   "mimetype": "text/x-python",
   "name": "python",
   "nbconvert_exporter": "python",
   "pygments_lexer": "ipython3",
   "version": "3.8.1-final"
  },
  "orig_nbformat": 2,
  "kernelspec": {
   "name": "python3",
   "display_name": "Python 3.8.1 64-bit ('venv')",
   "metadata": {
    "interpreter": {
     "hash": "f898777614c9e76283339cd3ad97bf2702d60cb6d5263ff41e85acecd6462b41"
    }
   }
  }
 },
 "nbformat": 4,
 "nbformat_minor": 2,
 "cells": [
  {
   "source": [
    "# Metrics Heatmap"
   ],
   "cell_type": "markdown",
   "metadata": {}
  },
  {
   "source": [
    "<a href=\"https://colab.research.google.com/github/netdata/netdata-community/blob/main/netdata-agent-api/netdata-pandas/metrics_heatmap.ipynb\" target=\"_blank\"><img src=\"https://colab.research.google.com/assets/colab-badge.svg\" alt=\"Open In Colab\"/></a>"
   ],
   "cell_type": "markdown",
   "metadata": {}
  },
  {
   "source": [
    "In this notebook we will use the [netdata-pandas](https://github.com/netdata/netdata-pandas) Python package to pull some data from some demo Netdata servers and make some pretty looking heatmaps, because we all love a good heatmap don't we. \n",
    "\n",
    "**Note**: you can click the \"Open in Colab\" button above to open this notebook in [Google Colab](https://colab.research.google.com/notebooks/intro.ipynb#recent=true) where you can just get going with it without having to set up python enviornments or any messy stuff like that."
   ],
   "cell_type": "markdown",
   "metadata": {}
  },
  {
   "cell_type": "code",
   "execution_count": 29,
   "metadata": {},
   "outputs": [],
   "source": [
    "# if you need to, uncomment below to install netdata-pandas and seaborn packages\n",
    "#!pip install plotly==4.14.1 netdata-pandas==0.0.33 scikit-learn==0.23.2"
   ]
  },
  {
   "cell_type": "code",
   "execution_count": 30,
   "metadata": {},
   "outputs": [],
   "source": [
    "import numpy as np\n",
    "import pandas as pd\n",
    "from netdata_pandas.data import get_data\n",
    "import plotly.express as px\n",
    "from sklearn.cluster import KMeans, AgglomerativeClustering"
   ]
  },
  {
   "source": [
    "Lets pull some data for the last 30 minutes."
   ],
   "cell_type": "markdown",
   "metadata": {}
  },
  {
   "cell_type": "code",
   "execution_count": 31,
   "metadata": {},
   "outputs": [],
   "source": [
    "# inputs\n",
    "hosts = ['london.my-netdata.io']\n",
    "charts_regex = 'system.*'\n",
    "before = 0\n",
    "after = -60*30\n",
    "resample_freq = '30s'"
   ]
  },
  {
   "cell_type": "code",
   "execution_count": 32,
   "metadata": {},
   "outputs": [
    {
     "output_type": "stream",
     "name": "stdout",
     "text": [
      "(1801, 72)\n"
     ]
    },
    {
     "output_type": "execute_result",
     "data": {
      "text/plain": [
       "                     system.active_processes|active  system.cpu|guest  \\\n",
       "time_idx                                                                \n",
       "2020-12-17 21:54:16                             NaN               NaN   \n",
       "2020-12-17 21:54:17                           210.0               0.0   \n",
       "2020-12-17 21:54:18                           210.0               0.0   \n",
       "2020-12-17 21:54:19                           210.0               0.0   \n",
       "2020-12-17 21:54:20                           210.0               0.0   \n",
       "\n",
       "                     system.cpu|guest_nice  system.cpu|iowait  system.cpu|irq  \\\n",
       "time_idx                                                                        \n",
       "2020-12-17 21:54:16                    NaN                NaN             NaN   \n",
       "2020-12-17 21:54:17                    0.0                0.0             0.0   \n",
       "2020-12-17 21:54:18                    0.0                0.0             0.0   \n",
       "2020-12-17 21:54:19                    0.0                0.0             0.0   \n",
       "2020-12-17 21:54:20                    0.0                0.0             0.0   \n",
       "\n",
       "                     system.cpu|nice  system.cpu|softirq  system.cpu|steal  \\\n",
       "time_idx                                                                     \n",
       "2020-12-17 21:54:16              NaN                 NaN               NaN   \n",
       "2020-12-17 21:54:17              0.0            0.250627          1.002506   \n",
       "2020-12-17 21:54:18              0.0            0.000000          0.250627   \n",
       "2020-12-17 21:54:19              0.0            0.000000          0.250000   \n",
       "2020-12-17 21:54:20              0.0            0.000000          0.501253   \n",
       "\n",
       "                     system.cpu|system  system.cpu|user  ...  \\\n",
       "time_idx                                                 ...   \n",
       "2020-12-17 21:54:16                NaN              NaN  ...   \n",
       "2020-12-17 21:54:17           1.002506         1.754386  ...   \n",
       "2020-12-17 21:54:18           1.002506         0.751880  ...   \n",
       "2020-12-17 21:54:19           1.000000         0.750000  ...   \n",
       "2020-12-17 21:54:20           1.503759         1.002506  ...   \n",
       "\n",
       "                     system.softirqs|RCU  system.softirqs|SCHED  \\\n",
       "time_idx                                                          \n",
       "2020-12-17 21:54:16                  NaN                    NaN   \n",
       "2020-12-17 21:54:17            122.56554              114.71497   \n",
       "2020-12-17 21:54:18            104.62007               99.73855   \n",
       "2020-12-17 21:54:19             76.19649               77.19627   \n",
       "2020-12-17 21:54:20             82.36922               88.73796   \n",
       "\n",
       "                     system.softirqs|TASKLET  system.softirqs|TIMER  \\\n",
       "time_idx                                                              \n",
       "2020-12-17 21:54:16                      NaN                    NaN   \n",
       "2020-12-17 21:54:17                 65.09960              168.03260   \n",
       "2020-12-17 21:54:18                 29.23807              134.20365   \n",
       "2020-12-17 21:54:19                 24.65036              104.53456   \n",
       "2020-12-17 21:54:20                 36.73365              119.40057   \n",
       "\n",
       "                     system.softnet_stat|dropped  \\\n",
       "time_idx                                           \n",
       "2020-12-17 21:54:16                          NaN   \n",
       "2020-12-17 21:54:17                          0.0   \n",
       "2020-12-17 21:54:18                          0.0   \n",
       "2020-12-17 21:54:19                          0.0   \n",
       "2020-12-17 21:54:20                          0.0   \n",
       "\n",
       "                     system.softnet_stat|flow_limit_count  \\\n",
       "time_idx                                                    \n",
       "2020-12-17 21:54:16                                   NaN   \n",
       "2020-12-17 21:54:17                                   0.0   \n",
       "2020-12-17 21:54:18                                   0.0   \n",
       "2020-12-17 21:54:19                                   0.0   \n",
       "2020-12-17 21:54:20                                   0.0   \n",
       "\n",
       "                     system.softnet_stat|processed  \\\n",
       "time_idx                                             \n",
       "2020-12-17 21:54:16                            NaN   \n",
       "2020-12-17 21:54:17                      189.94660   \n",
       "2020-12-17 21:54:18                       77.52924   \n",
       "2020-12-17 21:54:19                       66.60806   \n",
       "2020-12-17 21:54:20                      109.55576   \n",
       "\n",
       "                     system.softnet_stat|received_rps  \\\n",
       "time_idx                                                \n",
       "2020-12-17 21:54:16                               NaN   \n",
       "2020-12-17 21:54:17                               0.0   \n",
       "2020-12-17 21:54:18                               0.0   \n",
       "2020-12-17 21:54:19                               0.0   \n",
       "2020-12-17 21:54:20                               0.0   \n",
       "\n",
       "                     system.softnet_stat|squeezed  system.uptime|uptime  \n",
       "time_idx                                                                 \n",
       "2020-12-17 21:54:16                           NaN                   NaN  \n",
       "2020-12-17 21:54:17                           0.0            67378060.0  \n",
       "2020-12-17 21:54:18                           0.0            67378060.0  \n",
       "2020-12-17 21:54:19                           0.0            67378060.0  \n",
       "2020-12-17 21:54:20                           0.0            67378060.0  \n",
       "\n",
       "[5 rows x 72 columns]"
      ],
      "text/html": "<div>\n<style scoped>\n    .dataframe tbody tr th:only-of-type {\n        vertical-align: middle;\n    }\n\n    .dataframe tbody tr th {\n        vertical-align: top;\n    }\n\n    .dataframe thead th {\n        text-align: right;\n    }\n</style>\n<table border=\"1\" class=\"dataframe\">\n  <thead>\n    <tr style=\"text-align: right;\">\n      <th></th>\n      <th>system.active_processes|active</th>\n      <th>system.cpu|guest</th>\n      <th>system.cpu|guest_nice</th>\n      <th>system.cpu|iowait</th>\n      <th>system.cpu|irq</th>\n      <th>system.cpu|nice</th>\n      <th>system.cpu|softirq</th>\n      <th>system.cpu|steal</th>\n      <th>system.cpu|system</th>\n      <th>system.cpu|user</th>\n      <th>...</th>\n      <th>system.softirqs|RCU</th>\n      <th>system.softirqs|SCHED</th>\n      <th>system.softirqs|TASKLET</th>\n      <th>system.softirqs|TIMER</th>\n      <th>system.softnet_stat|dropped</th>\n      <th>system.softnet_stat|flow_limit_count</th>\n      <th>system.softnet_stat|processed</th>\n      <th>system.softnet_stat|received_rps</th>\n      <th>system.softnet_stat|squeezed</th>\n      <th>system.uptime|uptime</th>\n    </tr>\n    <tr>\n      <th>time_idx</th>\n      <th></th>\n      <th></th>\n      <th></th>\n      <th></th>\n      <th></th>\n      <th></th>\n      <th></th>\n      <th></th>\n      <th></th>\n      <th></th>\n      <th></th>\n      <th></th>\n      <th></th>\n      <th></th>\n      <th></th>\n      <th></th>\n      <th></th>\n      <th></th>\n      <th></th>\n      <th></th>\n      <th></th>\n    </tr>\n  </thead>\n  <tbody>\n    <tr>\n      <th>2020-12-17 21:54:16</th>\n      <td>NaN</td>\n      <td>NaN</td>\n      <td>NaN</td>\n      <td>NaN</td>\n      <td>NaN</td>\n      <td>NaN</td>\n      <td>NaN</td>\n      <td>NaN</td>\n      <td>NaN</td>\n      <td>NaN</td>\n      <td>...</td>\n      <td>NaN</td>\n      <td>NaN</td>\n      <td>NaN</td>\n      <td>NaN</td>\n      <td>NaN</td>\n      <td>NaN</td>\n      <td>NaN</td>\n      <td>NaN</td>\n      <td>NaN</td>\n      <td>NaN</td>\n    </tr>\n    <tr>\n      <th>2020-12-17 21:54:17</th>\n      <td>210.0</td>\n      <td>0.0</td>\n      <td>0.0</td>\n      <td>0.0</td>\n      <td>0.0</td>\n      <td>0.0</td>\n      <td>0.250627</td>\n      <td>1.002506</td>\n      <td>1.002506</td>\n      <td>1.754386</td>\n      <td>...</td>\n      <td>122.56554</td>\n      <td>114.71497</td>\n      <td>65.09960</td>\n      <td>168.03260</td>\n      <td>0.0</td>\n      <td>0.0</td>\n      <td>189.94660</td>\n      <td>0.0</td>\n      <td>0.0</td>\n      <td>67378060.0</td>\n    </tr>\n    <tr>\n      <th>2020-12-17 21:54:18</th>\n      <td>210.0</td>\n      <td>0.0</td>\n      <td>0.0</td>\n      <td>0.0</td>\n      <td>0.0</td>\n      <td>0.0</td>\n      <td>0.000000</td>\n      <td>0.250627</td>\n      <td>1.002506</td>\n      <td>0.751880</td>\n      <td>...</td>\n      <td>104.62007</td>\n      <td>99.73855</td>\n      <td>29.23807</td>\n      <td>134.20365</td>\n      <td>0.0</td>\n      <td>0.0</td>\n      <td>77.52924</td>\n      <td>0.0</td>\n      <td>0.0</td>\n      <td>67378060.0</td>\n    </tr>\n    <tr>\n      <th>2020-12-17 21:54:19</th>\n      <td>210.0</td>\n      <td>0.0</td>\n      <td>0.0</td>\n      <td>0.0</td>\n      <td>0.0</td>\n      <td>0.0</td>\n      <td>0.000000</td>\n      <td>0.250000</td>\n      <td>1.000000</td>\n      <td>0.750000</td>\n      <td>...</td>\n      <td>76.19649</td>\n      <td>77.19627</td>\n      <td>24.65036</td>\n      <td>104.53456</td>\n      <td>0.0</td>\n      <td>0.0</td>\n      <td>66.60806</td>\n      <td>0.0</td>\n      <td>0.0</td>\n      <td>67378060.0</td>\n    </tr>\n    <tr>\n      <th>2020-12-17 21:54:20</th>\n      <td>210.0</td>\n      <td>0.0</td>\n      <td>0.0</td>\n      <td>0.0</td>\n      <td>0.0</td>\n      <td>0.0</td>\n      <td>0.000000</td>\n      <td>0.501253</td>\n      <td>1.503759</td>\n      <td>1.002506</td>\n      <td>...</td>\n      <td>82.36922</td>\n      <td>88.73796</td>\n      <td>36.73365</td>\n      <td>119.40057</td>\n      <td>0.0</td>\n      <td>0.0</td>\n      <td>109.55576</td>\n      <td>0.0</td>\n      <td>0.0</td>\n      <td>67378060.0</td>\n    </tr>\n  </tbody>\n</table>\n<p>5 rows × 72 columns</p>\n</div>"
     },
     "metadata": {},
     "execution_count": 32
    }
   ],
   "source": [
    "# get the data\n",
    "df_raw = get_data(hosts=hosts, charts_regex=charts_regex, after=after, before=before, index_as_datetime=True)\n",
    "print(df_raw.shape)\n",
    "df_raw.head()"
   ]
  },
  {
   "source": [
    "## Heatmaps!"
   ],
   "cell_type": "markdown",
   "metadata": {}
  },
  {
   "cell_type": "code",
   "execution_count": 33,
   "metadata": {},
   "outputs": [
    {
     "output_type": "stream",
     "name": "stdout",
     "text": [
      "(61, 48)\n"
     ]
    },
    {
     "output_type": "execute_result",
     "data": {
      "text/plain": [
       "                     system.cpu|steal  system.entropy|entropy  \\\n",
       "time_idx                                                        \n",
       "2020-12-17 21:54:00          0.192904                0.911319   \n",
       "2020-12-17 21:54:30          0.038331                0.995182   \n",
       "2020-12-17 21:55:00          0.222574                0.983504   \n",
       "2020-12-17 21:55:30          0.087554                0.084234   \n",
       "2020-12-17 21:56:00          0.378078                0.198540   \n",
       "2020-12-17 21:56:30          0.396085                0.307299   \n",
       "2020-12-17 21:57:00          0.687260                0.415182   \n",
       "2020-12-17 21:57:30          0.029581                0.521168   \n",
       "2020-12-17 21:58:00          0.076275                0.635182   \n",
       "2020-12-17 21:58:30          0.234837                0.754745   \n",
       "\n",
       "                     system.interrupts|qxl_11  system.ctxt|switches  \\\n",
       "time_idx                                                              \n",
       "2020-12-17 21:54:00                  0.475524              0.905318   \n",
       "2020-12-17 21:54:30                  0.772727              0.964808   \n",
       "2020-12-17 21:55:00                  0.000000              0.807816   \n",
       "2020-12-17 21:55:30                  0.772727              0.867975   \n",
       "2020-12-17 21:56:00                  0.520810              0.550063   \n",
       "2020-12-17 21:56:30                  0.251918              0.564800   \n",
       "2020-12-17 21:57:00                  0.772727              0.323184   \n",
       "2020-12-17 21:57:30                  0.000000              0.930842   \n",
       "2020-12-17 21:58:00                  0.772727              0.717451   \n",
       "2020-12-17 21:58:30                  0.520335              0.711628   \n",
       "\n",
       "                     system.uptime|uptime  system.interrupts|TLB  \\\n",
       "time_idx                                                           \n",
       "2020-12-17 21:54:00              0.000000               0.724154   \n",
       "2020-12-17 21:54:30              0.012361               0.935599   \n",
       "2020-12-17 21:55:00              0.029158               0.666969   \n",
       "2020-12-17 21:55:30              0.045955               0.847968   \n",
       "2020-12-17 21:56:00              0.062752               0.380655   \n",
       "2020-12-17 21:56:30              0.079550               0.387496   \n",
       "2020-12-17 21:57:00              0.096347               0.329303   \n",
       "2020-12-17 21:57:30              0.113144               0.864195   \n",
       "2020-12-17 21:58:00              0.129941               0.505091   \n",
       "2020-12-17 21:58:30              0.146738               0.476352   \n",
       "\n",
       "                     system.ram|cached  system.intr|interrupts  \\\n",
       "time_idx                                                         \n",
       "2020-12-17 21:54:00           0.000000                0.885560   \n",
       "2020-12-17 21:54:30           0.014404                0.915483   \n",
       "2020-12-17 21:55:00           0.039211                0.756294   \n",
       "2020-12-17 21:55:30           0.050446                0.826571   \n",
       "2020-12-17 21:56:00           0.079717                0.466751   \n",
       "2020-12-17 21:56:30           0.092007                0.521437   \n",
       "2020-12-17 21:57:00           0.110028                0.335555   \n",
       "2020-12-17 21:57:30           0.127302                0.867495   \n",
       "2020-12-17 21:58:00           0.142368                0.677252   \n",
       "2020-12-17 21:58:30           0.160421                0.711761   \n",
       "\n",
       "                     system.interrupts|RES  system.idlejitter|average  ...  \\\n",
       "time_idx                                                               ...   \n",
       "2020-12-17 21:54:00               0.838390                   0.190863  ...   \n",
       "2020-12-17 21:54:30               0.892846                   0.068550  ...   \n",
       "2020-12-17 21:55:00               0.730444                   0.172490  ...   \n",
       "2020-12-17 21:55:30               0.815922                   0.121355  ...   \n",
       "2020-12-17 21:56:00               0.479479                   0.413721  ...   \n",
       "2020-12-17 21:56:30               0.444300                   0.349800  ...   \n",
       "2020-12-17 21:57:00               0.264216                   0.586346  ...   \n",
       "2020-12-17 21:57:30               0.846815                   0.065381  ...   \n",
       "2020-12-17 21:58:00               0.631775                   0.093603  ...   \n",
       "2020-12-17 21:58:30               0.535099                   0.271709  ...   \n",
       "\n",
       "                     system.softirqs|TIMER  system.ram|buffers  \\\n",
       "time_idx                                                         \n",
       "2020-12-17 21:54:00               0.250224                 1.0   \n",
       "2020-12-17 21:54:30               0.299089                 0.0   \n",
       "2020-12-17 21:55:00               0.260579                 0.0   \n",
       "2020-12-17 21:55:30               0.371792                 0.0   \n",
       "2020-12-17 21:56:00               0.186091                 0.0   \n",
       "2020-12-17 21:56:30               0.324453                 0.0   \n",
       "2020-12-17 21:57:00               0.426827                 0.0   \n",
       "2020-12-17 21:57:30               0.152057                 0.0   \n",
       "2020-12-17 21:58:00               0.108420                 0.0   \n",
       "2020-12-17 21:58:30               0.334765                 0.0   \n",
       "\n",
       "                     system.cpu|softirq  system.softnet_stat|processed  \\\n",
       "time_idx                                                                 \n",
       "2020-12-17 21:54:00            0.544939                       0.474950   \n",
       "2020-12-17 21:54:30            0.205077                       0.157147   \n",
       "2020-12-17 21:55:00            0.353530                       0.271254   \n",
       "2020-12-17 21:55:30            0.407064                       0.333994   \n",
       "2020-12-17 21:56:00            0.400833                       0.148356   \n",
       "2020-12-17 21:56:30            0.153454                       0.228352   \n",
       "2020-12-17 21:57:00            0.399676                       0.341456   \n",
       "2020-12-17 21:57:30            0.104740                       0.125202   \n",
       "2020-12-17 21:58:00            0.305172                       0.256175   \n",
       "2020-12-17 21:58:30            0.303536                       0.300076   \n",
       "\n",
       "                     system.softirqs|NET_RX  system.softirqs|TASKLET  \\\n",
       "time_idx                                                               \n",
       "2020-12-17 21:54:00                0.483451                 0.462360   \n",
       "2020-12-17 21:54:30                0.184178                 0.172590   \n",
       "2020-12-17 21:55:00                0.305197                 0.250110   \n",
       "2020-12-17 21:55:30                0.387389                 0.312999   \n",
       "2020-12-17 21:56:00                0.198073                 0.158191   \n",
       "2020-12-17 21:56:30                0.249885                 0.241310   \n",
       "2020-12-17 21:57:00                0.262346                 0.233902   \n",
       "2020-12-17 21:57:30                0.148650                 0.123046   \n",
       "2020-12-17 21:58:00                0.228951                 0.221009   \n",
       "2020-12-17 21:58:30                0.259544                 0.268532   \n",
       "\n",
       "                     system.softnet_stat|squeezed  \\\n",
       "time_idx                                            \n",
       "2020-12-17 21:54:00                           0.0   \n",
       "2020-12-17 21:54:30                           0.0   \n",
       "2020-12-17 21:55:00                           0.0   \n",
       "2020-12-17 21:55:30                           0.0   \n",
       "2020-12-17 21:56:00                           0.4   \n",
       "2020-12-17 21:56:30                           0.0   \n",
       "2020-12-17 21:57:00                           0.2   \n",
       "2020-12-17 21:57:30                           0.0   \n",
       "2020-12-17 21:58:00                           0.0   \n",
       "2020-12-17 21:58:30                           0.0   \n",
       "\n",
       "                     system.interrupts|virtio0-input.0_25  system.ipv6|sent  \\\n",
       "time_idx                                                                      \n",
       "2020-12-17 21:54:00                              0.391792               1.0   \n",
       "2020-12-17 21:54:30                              0.168087               1.0   \n",
       "2020-12-17 21:55:00                              0.224691               1.0   \n",
       "2020-12-17 21:55:30                              0.297184               1.0   \n",
       "2020-12-17 21:56:00                              0.161296               1.0   \n",
       "2020-12-17 21:56:30                              0.224634               1.0   \n",
       "2020-12-17 21:57:00                              0.187124               1.0   \n",
       "2020-12-17 21:57:30                              0.120252               1.0   \n",
       "2020-12-17 21:58:00                              0.175892               1.0   \n",
       "2020-12-17 21:58:30                              0.209690               1.0   \n",
       "\n",
       "                     system.interrupts|virtio0-output.0_26  \n",
       "time_idx                                                    \n",
       "2020-12-17 21:54:00                                    0.0  \n",
       "2020-12-17 21:54:30                                    0.0  \n",
       "2020-12-17 21:55:00                                    0.0  \n",
       "2020-12-17 21:55:30                                    0.0  \n",
       "2020-12-17 21:56:00                                    0.0  \n",
       "2020-12-17 21:56:30                                    0.0  \n",
       "2020-12-17 21:57:00                                    0.0  \n",
       "2020-12-17 21:57:30                                    0.0  \n",
       "2020-12-17 21:58:00                                    0.0  \n",
       "2020-12-17 21:58:30                                    0.0  \n",
       "\n",
       "[10 rows x 48 columns]"
      ],
      "text/html": "<div>\n<style scoped>\n    .dataframe tbody tr th:only-of-type {\n        vertical-align: middle;\n    }\n\n    .dataframe tbody tr th {\n        vertical-align: top;\n    }\n\n    .dataframe thead th {\n        text-align: right;\n    }\n</style>\n<table border=\"1\" class=\"dataframe\">\n  <thead>\n    <tr style=\"text-align: right;\">\n      <th></th>\n      <th>system.cpu|steal</th>\n      <th>system.entropy|entropy</th>\n      <th>system.interrupts|qxl_11</th>\n      <th>system.ctxt|switches</th>\n      <th>system.uptime|uptime</th>\n      <th>system.interrupts|TLB</th>\n      <th>system.ram|cached</th>\n      <th>system.intr|interrupts</th>\n      <th>system.interrupts|RES</th>\n      <th>system.idlejitter|average</th>\n      <th>...</th>\n      <th>system.softirqs|TIMER</th>\n      <th>system.ram|buffers</th>\n      <th>system.cpu|softirq</th>\n      <th>system.softnet_stat|processed</th>\n      <th>system.softirqs|NET_RX</th>\n      <th>system.softirqs|TASKLET</th>\n      <th>system.softnet_stat|squeezed</th>\n      <th>system.interrupts|virtio0-input.0_25</th>\n      <th>system.ipv6|sent</th>\n      <th>system.interrupts|virtio0-output.0_26</th>\n    </tr>\n    <tr>\n      <th>time_idx</th>\n      <th></th>\n      <th></th>\n      <th></th>\n      <th></th>\n      <th></th>\n      <th></th>\n      <th></th>\n      <th></th>\n      <th></th>\n      <th></th>\n      <th></th>\n      <th></th>\n      <th></th>\n      <th></th>\n      <th></th>\n      <th></th>\n      <th></th>\n      <th></th>\n      <th></th>\n      <th></th>\n      <th></th>\n    </tr>\n  </thead>\n  <tbody>\n    <tr>\n      <th>2020-12-17 21:54:00</th>\n      <td>0.192904</td>\n      <td>0.911319</td>\n      <td>0.475524</td>\n      <td>0.905318</td>\n      <td>0.000000</td>\n      <td>0.724154</td>\n      <td>0.000000</td>\n      <td>0.885560</td>\n      <td>0.838390</td>\n      <td>0.190863</td>\n      <td>...</td>\n      <td>0.250224</td>\n      <td>1.0</td>\n      <td>0.544939</td>\n      <td>0.474950</td>\n      <td>0.483451</td>\n      <td>0.462360</td>\n      <td>0.0</td>\n      <td>0.391792</td>\n      <td>1.0</td>\n      <td>0.0</td>\n    </tr>\n    <tr>\n      <th>2020-12-17 21:54:30</th>\n      <td>0.038331</td>\n      <td>0.995182</td>\n      <td>0.772727</td>\n      <td>0.964808</td>\n      <td>0.012361</td>\n      <td>0.935599</td>\n      <td>0.014404</td>\n      <td>0.915483</td>\n      <td>0.892846</td>\n      <td>0.068550</td>\n      <td>...</td>\n      <td>0.299089</td>\n      <td>0.0</td>\n      <td>0.205077</td>\n      <td>0.157147</td>\n      <td>0.184178</td>\n      <td>0.172590</td>\n      <td>0.0</td>\n      <td>0.168087</td>\n      <td>1.0</td>\n      <td>0.0</td>\n    </tr>\n    <tr>\n      <th>2020-12-17 21:55:00</th>\n      <td>0.222574</td>\n      <td>0.983504</td>\n      <td>0.000000</td>\n      <td>0.807816</td>\n      <td>0.029158</td>\n      <td>0.666969</td>\n      <td>0.039211</td>\n      <td>0.756294</td>\n      <td>0.730444</td>\n      <td>0.172490</td>\n      <td>...</td>\n      <td>0.260579</td>\n      <td>0.0</td>\n      <td>0.353530</td>\n      <td>0.271254</td>\n      <td>0.305197</td>\n      <td>0.250110</td>\n      <td>0.0</td>\n      <td>0.224691</td>\n      <td>1.0</td>\n      <td>0.0</td>\n    </tr>\n    <tr>\n      <th>2020-12-17 21:55:30</th>\n      <td>0.087554</td>\n      <td>0.084234</td>\n      <td>0.772727</td>\n      <td>0.867975</td>\n      <td>0.045955</td>\n      <td>0.847968</td>\n      <td>0.050446</td>\n      <td>0.826571</td>\n      <td>0.815922</td>\n      <td>0.121355</td>\n      <td>...</td>\n      <td>0.371792</td>\n      <td>0.0</td>\n      <td>0.407064</td>\n      <td>0.333994</td>\n      <td>0.387389</td>\n      <td>0.312999</td>\n      <td>0.0</td>\n      <td>0.297184</td>\n      <td>1.0</td>\n      <td>0.0</td>\n    </tr>\n    <tr>\n      <th>2020-12-17 21:56:00</th>\n      <td>0.378078</td>\n      <td>0.198540</td>\n      <td>0.520810</td>\n      <td>0.550063</td>\n      <td>0.062752</td>\n      <td>0.380655</td>\n      <td>0.079717</td>\n      <td>0.466751</td>\n      <td>0.479479</td>\n      <td>0.413721</td>\n      <td>...</td>\n      <td>0.186091</td>\n      <td>0.0</td>\n      <td>0.400833</td>\n      <td>0.148356</td>\n      <td>0.198073</td>\n      <td>0.158191</td>\n      <td>0.4</td>\n      <td>0.161296</td>\n      <td>1.0</td>\n      <td>0.0</td>\n    </tr>\n    <tr>\n      <th>2020-12-17 21:56:30</th>\n      <td>0.396085</td>\n      <td>0.307299</td>\n      <td>0.251918</td>\n      <td>0.564800</td>\n      <td>0.079550</td>\n      <td>0.387496</td>\n      <td>0.092007</td>\n      <td>0.521437</td>\n      <td>0.444300</td>\n      <td>0.349800</td>\n      <td>...</td>\n      <td>0.324453</td>\n      <td>0.0</td>\n      <td>0.153454</td>\n      <td>0.228352</td>\n      <td>0.249885</td>\n      <td>0.241310</td>\n      <td>0.0</td>\n      <td>0.224634</td>\n      <td>1.0</td>\n      <td>0.0</td>\n    </tr>\n    <tr>\n      <th>2020-12-17 21:57:00</th>\n      <td>0.687260</td>\n      <td>0.415182</td>\n      <td>0.772727</td>\n      <td>0.323184</td>\n      <td>0.096347</td>\n      <td>0.329303</td>\n      <td>0.110028</td>\n      <td>0.335555</td>\n      <td>0.264216</td>\n      <td>0.586346</td>\n      <td>...</td>\n      <td>0.426827</td>\n      <td>0.0</td>\n      <td>0.399676</td>\n      <td>0.341456</td>\n      <td>0.262346</td>\n      <td>0.233902</td>\n      <td>0.2</td>\n      <td>0.187124</td>\n      <td>1.0</td>\n      <td>0.0</td>\n    </tr>\n    <tr>\n      <th>2020-12-17 21:57:30</th>\n      <td>0.029581</td>\n      <td>0.521168</td>\n      <td>0.000000</td>\n      <td>0.930842</td>\n      <td>0.113144</td>\n      <td>0.864195</td>\n      <td>0.127302</td>\n      <td>0.867495</td>\n      <td>0.846815</td>\n      <td>0.065381</td>\n      <td>...</td>\n      <td>0.152057</td>\n      <td>0.0</td>\n      <td>0.104740</td>\n      <td>0.125202</td>\n      <td>0.148650</td>\n      <td>0.123046</td>\n      <td>0.0</td>\n      <td>0.120252</td>\n      <td>1.0</td>\n      <td>0.0</td>\n    </tr>\n    <tr>\n      <th>2020-12-17 21:58:00</th>\n      <td>0.076275</td>\n      <td>0.635182</td>\n      <td>0.772727</td>\n      <td>0.717451</td>\n      <td>0.129941</td>\n      <td>0.505091</td>\n      <td>0.142368</td>\n      <td>0.677252</td>\n      <td>0.631775</td>\n      <td>0.093603</td>\n      <td>...</td>\n      <td>0.108420</td>\n      <td>0.0</td>\n      <td>0.305172</td>\n      <td>0.256175</td>\n      <td>0.228951</td>\n      <td>0.221009</td>\n      <td>0.0</td>\n      <td>0.175892</td>\n      <td>1.0</td>\n      <td>0.0</td>\n    </tr>\n    <tr>\n      <th>2020-12-17 21:58:30</th>\n      <td>0.234837</td>\n      <td>0.754745</td>\n      <td>0.520335</td>\n      <td>0.711628</td>\n      <td>0.146738</td>\n      <td>0.476352</td>\n      <td>0.160421</td>\n      <td>0.711761</td>\n      <td>0.535099</td>\n      <td>0.271709</td>\n      <td>...</td>\n      <td>0.334765</td>\n      <td>0.0</td>\n      <td>0.303536</td>\n      <td>0.300076</td>\n      <td>0.259544</td>\n      <td>0.268532</td>\n      <td>0.0</td>\n      <td>0.209690</td>\n      <td>1.0</td>\n      <td>0.0</td>\n    </tr>\n  </tbody>\n</table>\n<p>10 rows × 48 columns</p>\n</div>"
     },
     "metadata": {},
     "execution_count": 33
    }
   ],
   "source": [
    "# lets resample to 10 sec frequency\n",
    "df = df_raw.resample(resample_freq).mean()\n",
    "\n",
    "# lets min-max normalize our data so metrics can be compared on a heatmap\n",
    "df=(df-df.min())/(df.max()-df.min())\n",
    "\n",
    "# drop na cols\n",
    "df = df.dropna(how='all', axis=1)\n",
    "\n",
    "# lets sort cols by their std to try make heatmap prettier\n",
    "df = df[df.std().sort_values(ascending=False).index]\n",
    "\n",
    "print(df.shape)\n",
    "df.head(10)"
   ]
  },
  {
   "cell_type": "code",
   "execution_count": 34,
   "metadata": {},
   "outputs": [],
   "source": [
    "# lets cluster the columns to show similar metrics next to each other on the heatmap\n",
    "#clustering = KMeans(n_clusters=int(round(len(df.columns)*0.2,0))).fit(df.fillna(0).transpose().values)\n",
    "clustering = AgglomerativeClustering(n_clusters=int(round(len(df.columns)*0.2,0))).fit(df.fillna(0).transpose().values)\n",
    "\n",
    "# get order of cols from the cluster labels\n",
    "cols_sorted = pd.DataFrame(\n",
    "    zip(df.columns, clustering.labels_), \n",
    "    columns=['metric', 'cluster']\n",
    "    ).sort_values('cluster')['metric'].values.tolist()\n",
    "\n",
    "# re-order cols\n",
    "df = df[cols_sorted]"
   ]
  },
  {
   "cell_type": "code",
   "execution_count": 35,
   "metadata": {},
   "outputs": [
    {
     "output_type": "display_data",
     "data": {
      "image/svg+xml": "<svg class=\"main-svg\" xmlns=\"http://www.w3.org/2000/svg\" xmlns:xlink=\"http://www.w3.org/1999/xlink\" width=\"700\" height=\"450\" style=\"\" viewBox=\"0 0 700 450\"><rect x=\"0\" y=\"0\" width=\"700\" height=\"450\" style=\"fill: rgb(255, 255, 255); fill-opacity: 1;\"/><defs id=\"defs-46697e\"><g class=\"clips\"><clipPath id=\"clip46697exyplot\" class=\"plotclip\"><rect width=\"375\" height=\"310\"/></clipPath><clipPath class=\"axesclip\" id=\"clip46697ex\"><rect x=\"235\" y=\"0\" width=\"375\" height=\"450\"/></clipPath><clipPath class=\"axesclip\" id=\"clip46697ey\"><rect x=\"0\" y=\"60\" width=\"700\" height=\"310\"/></clipPath><clipPath class=\"axesclip\" id=\"clip46697exy\"><rect x=\"235\" y=\"60\" width=\"375\" height=\"310\"/></clipPath></g><g class=\"gradients\"><linearGradient x1=\"0\" x2=\"0\" y1=\"1\" y2=\"0\" id=\"g46697e-cbcoloraxis\"><stop offset=\"0%\" stop-color=\"rgb(13, 8, 135)\" stop-opacity=\"1\"/><stop offset=\"11.11111111111111%\" stop-color=\"rgb(70, 3, 159)\" stop-opacity=\"1\"/><stop offset=\"22.22222222222222%\" stop-color=\"rgb(114, 1, 168)\" stop-opacity=\"1\"/><stop offset=\"33.33333333333333%\" stop-color=\"rgb(156, 23, 158)\" stop-opacity=\"1\"/><stop offset=\"44.44444444444444%\" stop-color=\"rgb(189, 55, 134)\" stop-opacity=\"1\"/><stop offset=\"55.55555555555556%\" stop-color=\"rgb(216, 87, 107)\" stop-opacity=\"1\"/><stop offset=\"66.66666666666666%\" stop-color=\"rgb(237, 121, 83)\" stop-opacity=\"1\"/><stop offset=\"77.77777777777779%\" stop-color=\"rgb(251, 159, 58)\" stop-opacity=\"1\"/><stop offset=\"88.88888888888889%\" stop-color=\"rgb(253, 202, 38)\" stop-opacity=\"1\"/><stop offset=\"100%\" stop-color=\"rgb(240, 249, 33)\" stop-opacity=\"1\"/></linearGradient></g></defs><g class=\"bglayer\"><rect class=\"bg\" x=\"235\" y=\"60\" width=\"375\" height=\"310\" style=\"fill: rgb(229, 236, 246); fill-opacity: 1; stroke-width: 0;\"/></g><g class=\"layer-below\"><g class=\"imagelayer\"/><g class=\"shapelayer\"/></g><g class=\"cartesianlayer\"><g class=\"subplot xy\"><g class=\"layer-subplot\"><g class=\"shapelayer\"/><g class=\"imagelayer\"/></g><g class=\"gridlayer\"><g class=\"x\"><path class=\"xgrid crisp\" transform=\"translate(311.84000000000003,0)\" d=\"M0,60v310\" style=\"stroke: rgb(255, 255, 255); stroke-opacity: 1; stroke-width: 1px;\"/><path class=\"xgrid crisp\" transform=\"translate(434.8,0)\" d=\"M0,60v310\" style=\"stroke: rgb(255, 255, 255); stroke-opacity: 1; stroke-width: 1px;\"/><path class=\"xgrid crisp\" transform=\"translate(557.75,0)\" d=\"M0,60v310\" style=\"stroke: rgb(255, 255, 255); stroke-opacity: 1; stroke-width: 1px;\"/></g><g class=\"y\"><path class=\"ygrid crisp\" transform=\"translate(0,353.85)\" d=\"M235,0h375\" style=\"stroke: rgb(255, 255, 255); stroke-opacity: 1; stroke-width: 1px;\"/><path class=\"ygrid crisp\" transform=\"translate(0,334.48)\" d=\"M235,0h375\" style=\"stroke: rgb(255, 255, 255); stroke-opacity: 1; stroke-width: 1px;\"/><path class=\"ygrid crisp\" transform=\"translate(0,315.1)\" d=\"M235,0h375\" style=\"stroke: rgb(255, 255, 255); stroke-opacity: 1; stroke-width: 1px;\"/><path class=\"ygrid crisp\" transform=\"translate(0,295.73)\" d=\"M235,0h375\" style=\"stroke: rgb(255, 255, 255); stroke-opacity: 1; stroke-width: 1px;\"/><path class=\"ygrid crisp\" transform=\"translate(0,276.35)\" d=\"M235,0h375\" style=\"stroke: rgb(255, 255, 255); stroke-opacity: 1; stroke-width: 1px;\"/><path class=\"ygrid crisp\" transform=\"translate(0,256.98)\" d=\"M235,0h375\" style=\"stroke: rgb(255, 255, 255); stroke-opacity: 1; stroke-width: 1px;\"/><path class=\"ygrid crisp\" transform=\"translate(0,237.6)\" d=\"M235,0h375\" style=\"stroke: rgb(255, 255, 255); stroke-opacity: 1; stroke-width: 1px;\"/><path class=\"ygrid crisp\" transform=\"translate(0,218.23)\" d=\"M235,0h375\" style=\"stroke: rgb(255, 255, 255); stroke-opacity: 1; stroke-width: 1px;\"/><path class=\"ygrid crisp\" transform=\"translate(0,198.85)\" d=\"M235,0h375\" style=\"stroke: rgb(255, 255, 255); stroke-opacity: 1; stroke-width: 1px;\"/><path class=\"ygrid crisp\" transform=\"translate(0,179.48000000000002)\" d=\"M235,0h375\" style=\"stroke: rgb(255, 255, 255); stroke-opacity: 1; stroke-width: 1px;\"/><path class=\"ygrid crisp\" transform=\"translate(0,160.1)\" d=\"M235,0h375\" style=\"stroke: rgb(255, 255, 255); stroke-opacity: 1; stroke-width: 1px;\"/><path class=\"ygrid crisp\" transform=\"translate(0,140.73000000000002)\" d=\"M235,0h375\" style=\"stroke: rgb(255, 255, 255); stroke-opacity: 1; stroke-width: 1px;\"/><path class=\"ygrid crisp\" transform=\"translate(0,121.35)\" d=\"M235,0h375\" style=\"stroke: rgb(255, 255, 255); stroke-opacity: 1; stroke-width: 1px;\"/><path class=\"ygrid crisp\" transform=\"translate(0,101.97999999999999)\" d=\"M235,0h375\" style=\"stroke: rgb(255, 255, 255); stroke-opacity: 1; stroke-width: 1px;\"/><path class=\"ygrid crisp\" transform=\"translate(0,82.6)\" d=\"M235,0h375\" style=\"stroke: rgb(255, 255, 255); stroke-opacity: 1; stroke-width: 1px;\"/><path class=\"ygrid crisp\" transform=\"translate(0,63.23)\" d=\"M235,0h375\" style=\"stroke: rgb(255, 255, 255); stroke-opacity: 1; stroke-width: 1px;\"/></g></g><g class=\"zerolinelayer\"/><path class=\"xlines-below\"/><path class=\"ylines-below\"/><g class=\"overlines-below\"/><g class=\"xaxislayer-below\"/><g class=\"yaxislayer-below\"/><g class=\"overaxes-below\"/><g class=\"plot\" transform=\"translate(235,60)\" clip-path=\"url('#clip46697exyplot')\"><g class=\"heatmaplayer mlayer\"><g class=\"hm\"><image xmlns=\"http://www.w3.org/2000/svg\" preserveAspectRatio=\"none\" height=\"310\" width=\"375\" x=\"0\" y=\"0\" xlink:href=\"data:image/png;base64,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\" style=\"opacity: 1;\"/></g></g></g><g class=\"overplot\"/><path class=\"xlines-above crisp\" d=\"M0,0\" style=\"fill: none;\"/><path class=\"ylines-above crisp\" d=\"M0,0\" style=\"fill: none;\"/><g class=\"overlines-above\"/><g class=\"xaxislayer-above\"><g class=\"xtick\"><text text-anchor=\"middle\" x=\"0\" y=\"383\" transform=\"translate(311.84000000000003,0)\" style=\"font-family: 'Open Sans', verdana, arial, sans-serif; font-size: 12px; fill: rgb(42, 63, 95); fill-opacity: 1; white-space: pre;\"><tspan class=\"line\" dy=\"0em\" x=\"0\" y=\"383\">22:00</tspan><tspan class=\"line\" dy=\"1.3em\" x=\"0\" y=\"383\">Dec 17, 2020</tspan></text></g><g class=\"xtick\"><text text-anchor=\"middle\" x=\"0\" y=\"383\" transform=\"translate(434.8,0)\" style=\"font-family: 'Open Sans', verdana, arial, sans-serif; font-size: 12px; fill: rgb(42, 63, 95); fill-opacity: 1; white-space: pre;\">22:10</text></g><g class=\"xtick\"><text text-anchor=\"middle\" x=\"0\" y=\"383\" transform=\"translate(557.75,0)\" style=\"font-family: 'Open Sans', verdana, arial, sans-serif; font-size: 12px; fill: rgb(42, 63, 95); fill-opacity: 1; white-space: pre;\">22:20</text></g></g><g class=\"yaxislayer-above\"><g class=\"ytick\"><text text-anchor=\"end\" x=\"234\" y=\"4.199999999999999\" transform=\"translate(0,353.85)\" style=\"font-family: 'Open Sans', verdana, arial, sans-serif; font-size: 12px; fill: rgb(42, 63, 95); fill-opacity: 1; white-space: pre;\">system.net|sent</text></g><g class=\"ytick\"><text text-anchor=\"end\" x=\"234\" y=\"4.199999999999999\" transform=\"translate(0,334.48)\" style=\"font-family: 'Open Sans', verdana, arial, sans-serif; font-size: 12px; fill: rgb(42, 63, 95); fill-opacity: 1; white-space: pre;\">system.ctxt|switches</text></g><g class=\"ytick\"><text text-anchor=\"end\" x=\"234\" y=\"4.199999999999999\" transform=\"translate(0,315.1)\" style=\"font-family: 'Open Sans', verdana, arial, sans-serif; font-size: 12px; fill: rgb(42, 63, 95); fill-opacity: 1; white-space: pre;\">system.interrupts|CAL</text></g><g class=\"ytick\"><text text-anchor=\"end\" x=\"234\" y=\"4.199999999999999\" transform=\"translate(0,295.73)\" style=\"font-family: 'Open Sans', verdana, arial, sans-serif; font-size: 12px; fill: rgb(42, 63, 95); fill-opacity: 1; white-space: pre;\">system.ipv6|sent</text></g><g class=\"ytick\"><text text-anchor=\"end\" x=\"234\" y=\"4.199999999999999\" transform=\"translate(0,276.35)\" style=\"font-family: 'Open Sans', verdana, arial, sans-serif; font-size: 12px; fill: rgb(42, 63, 95); fill-opacity: 1; white-space: pre;\">system.idlejitter|average</text></g><g class=\"ytick\"><text text-anchor=\"end\" x=\"234\" y=\"4.199999999999999\" transform=\"translate(0,256.98)\" style=\"font-family: 'Open Sans', verdana, arial, sans-serif; font-size: 12px; fill: rgb(42, 63, 95); fill-opacity: 1; white-space: pre;\">system.cpu|system</text></g><g class=\"ytick\"><text text-anchor=\"end\" x=\"234\" y=\"4.199999999999999\" transform=\"translate(0,237.6)\" style=\"font-family: 'Open Sans', verdana, arial, sans-serif; font-size: 12px; fill: rgb(42, 63, 95); fill-opacity: 1; white-space: pre;\">system.io|out</text></g><g class=\"ytick\"><text text-anchor=\"end\" x=\"234\" y=\"4.199999999999999\" transform=\"translate(0,218.23)\" style=\"font-family: 'Open Sans', verdana, arial, sans-serif; font-size: 12px; fill: rgb(42, 63, 95); fill-opacity: 1; white-space: pre;\">system.pgpgio|out</text></g><g class=\"ytick\"><text text-anchor=\"end\" x=\"234\" y=\"4.199999999999999\" transform=\"translate(0,198.85)\" style=\"font-family: 'Open Sans', verdana, arial, sans-serif; font-size: 12px; fill: rgb(42, 63, 95); fill-opacity: 1; white-space: pre;\">system.softnet_stat|squeezed</text></g><g class=\"ytick\"><text text-anchor=\"end\" x=\"234\" y=\"4.199999999999999\" transform=\"translate(0,179.48000000000002)\" style=\"font-family: 'Open Sans', verdana, arial, sans-serif; font-size: 12px; fill: rgb(42, 63, 95); fill-opacity: 1; white-space: pre;\">system.interrupts|virtio0-input.0_25</text></g><g class=\"ytick\"><text text-anchor=\"end\" x=\"234\" y=\"4.199999999999999\" transform=\"translate(0,160.1)\" style=\"font-family: 'Open Sans', verdana, arial, sans-serif; font-size: 12px; fill: rgb(42, 63, 95); fill-opacity: 1; white-space: pre;\">system.softnet_stat|processed</text></g><g class=\"ytick\"><text text-anchor=\"end\" x=\"234\" y=\"4.199999999999999\" transform=\"translate(0,140.73000000000002)\" style=\"font-family: 'Open Sans', verdana, arial, sans-serif; font-size: 12px; fill: rgb(42, 63, 95); fill-opacity: 1; white-space: pre;\">system.processes|running</text></g><g class=\"ytick\"><text text-anchor=\"end\" x=\"234\" y=\"4.199999999999999\" transform=\"translate(0,121.35)\" style=\"font-family: 'Open Sans', verdana, arial, sans-serif; font-size: 12px; fill: rgb(42, 63, 95); fill-opacity: 1; white-space: pre;\">system.cpu|iowait</text></g><g class=\"ytick\"><text text-anchor=\"end\" x=\"234\" y=\"4.199999999999999\" transform=\"translate(0,101.97999999999999)\" style=\"font-family: 'Open Sans', verdana, arial, sans-serif; font-size: 12px; fill: rgb(42, 63, 95); fill-opacity: 1; white-space: pre;\">system.ip|received</text></g><g class=\"ytick\"><text text-anchor=\"end\" x=\"234\" y=\"4.199999999999999\" transform=\"translate(0,82.6)\" style=\"font-family: 'Open Sans', verdana, arial, sans-serif; font-size: 12px; fill: rgb(42, 63, 95); fill-opacity: 1; white-space: pre;\">system.ram|free</text></g><g class=\"ytick\"><text text-anchor=\"end\" x=\"234\" y=\"4.199999999999999\" transform=\"translate(0,63.23)\" style=\"font-family: 'Open Sans', verdana, arial, sans-serif; font-size: 12px; fill: rgb(42, 63, 95); fill-opacity: 1; white-space: pre;\">system.entropy|entropy</text></g></g><g class=\"overaxes-above\"/></g></g><g class=\"polarlayer\"/><g class=\"ternarylayer\"/><g class=\"geolayer\"/><g class=\"funnelarealayer\"/><g class=\"pielayer\"/><g class=\"treemaplayer\"/><g class=\"sunburstlayer\"/><g class=\"glimages\"/><defs id=\"topdefs-46697e\"><g class=\"clips\"/></defs><g class=\"layer-above\"><g class=\"imagelayer\"/><g class=\"shapelayer\"/></g><g class=\"infolayer\"><g class=\"cbcoloraxis colorbar\" transform=\"translate(235,60)\"><rect class=\"cbbg\" x=\"383\" y=\"0\" width=\"70.015625\" height=\"310\" style=\"fill: rgb(0, 0, 0); fill-opacity: 0; stroke: rgb(68, 68, 68); stroke-opacity: 1; stroke-width: 0;\"/><g class=\"cbfills\" transform=\"translate(0,10)\"><rect class=\"cbfill\" x=\"393\" width=\"30\" y=\"0\" height=\"290\" style=\"fill: url('#g46697e-cbcoloraxis');\"/></g><g class=\"cblines\" transform=\"translate(0,10)\"/><g class=\"cbaxis crisp\" transform=\"translate(0,-60)\"><g class=\"ycbcoloraxistick\"><text text-anchor=\"start\" x=\"425.9\" y=\"4.199999999999999\" transform=\"translate(0,360)\" style=\"font-family: 'Open Sans', verdana, arial, sans-serif; font-size: 12px; fill: rgb(42, 63, 95); fill-opacity: 1; white-space: pre;\">0</text></g><g class=\"ycbcoloraxistick\"><text text-anchor=\"start\" x=\"425.9\" y=\"4.199999999999999\" transform=\"translate(0,302)\" style=\"font-family: 'Open Sans', verdana, arial, sans-serif; font-size: 12px; fill: rgb(42, 63, 95); fill-opacity: 1; white-space: pre;\">0.2</text></g><g class=\"ycbcoloraxistick\"><text text-anchor=\"start\" x=\"425.9\" y=\"4.199999999999999\" transform=\"translate(0,244)\" style=\"font-family: 'Open Sans', verdana, arial, sans-serif; font-size: 12px; fill: rgb(42, 63, 95); fill-opacity: 1; white-space: pre;\">0.4</text></g><g class=\"ycbcoloraxistick\"><text text-anchor=\"start\" x=\"425.9\" y=\"4.199999999999999\" transform=\"translate(0,186)\" style=\"font-family: 'Open Sans', verdana, arial, sans-serif; font-size: 12px; fill: rgb(42, 63, 95); fill-opacity: 1; white-space: pre;\">0.6</text></g><g class=\"ycbcoloraxistick\"><text text-anchor=\"start\" x=\"425.9\" y=\"4.199999999999999\" transform=\"translate(0,127.99999999999999)\" style=\"font-family: 'Open Sans', verdana, arial, sans-serif; font-size: 12px; fill: rgb(42, 63, 95); fill-opacity: 1; white-space: pre;\">0.8</text></g><g class=\"ycbcoloraxistick\"><text text-anchor=\"start\" x=\"425.9\" y=\"4.199999999999999\" transform=\"translate(0,69.99999999999999)\" style=\"font-family: 'Open Sans', verdana, arial, sans-serif; font-size: 12px; fill: rgb(42, 63, 95); fill-opacity: 1; white-space: pre;\">1</text></g></g><g class=\"cbtitleunshift\" transform=\"translate(-235,-60)\"><g class=\"cbtitle\"/></g><rect class=\"cboutline\" x=\"393\" y=\"10\" width=\"30\" height=\"290\" style=\"stroke: rgb(68, 68, 68); stroke-opacity: 1; fill: none; stroke-width: 0;\"/></g><g class=\"g-gtitle\"/><g class=\"g-xtitle\"><text class=\"xtitle\" x=\"422.5\" y=\"426.409375\" text-anchor=\"middle\" style=\"font-family: 'Open Sans', verdana, arial, sans-serif; font-size: 14px; fill: rgb(42, 63, 95); opacity: 1; font-weight: normal; white-space: pre;\">time_idx</text></g><g class=\"g-ytitle\"/></g></svg>"
     },
     "metadata": {}
    }
   ],
   "source": [
    "# now plot our heatmap\n",
    "fig = px.imshow(df.transpose())\n",
    "fig.update_layout(\n",
    "    autosize=False,\n",
    "    width=1000,\n",
    "    height=1200)\n",
    "# fig.show() # for interactive\n",
    "fig.show(\"svg\") # static svg so can be displayed on github, best use above line"
   ]
  },
  {
   "cell_type": "code",
   "execution_count": 35,
   "metadata": {},
   "outputs": [],
   "source": [
    " \n"
   ]
  },
  {
   "cell_type": "code",
   "execution_count": null,
   "metadata": {},
   "outputs": [],
   "source": []
  },
  {
   "cell_type": "code",
   "execution_count": null,
   "metadata": {},
   "outputs": [],
   "source": []
  }
 ]
}