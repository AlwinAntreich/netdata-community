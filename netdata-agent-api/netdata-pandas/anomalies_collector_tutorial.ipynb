{
 "metadata": {
  "language_info": {
   "codemirror_mode": {
    "name": "ipython",
    "version": 3
   },
   "file_extension": ".py",
   "mimetype": "text/x-python",
   "name": "python",
   "nbconvert_exporter": "python",
   "pygments_lexer": "ipython3",
   "version": "3.8.1-final"
  },
  "orig_nbformat": 2,
  "kernelspec": {
   "name": "Python 3.8.1 64-bit",
   "display_name": "Python 3.8.1 64-bit",
   "metadata": {
    "interpreter": {
     "hash": "c7a650d791d0a1d035b66682f8967f04fed3045153a1ba3c3bfeefd2541b18a6"
    }
   }
  }
 },
 "nbformat": 4,
 "nbformat_minor": 2,
 "cells": [
  {
   "source": [
    "# Anomalies collector - step by step tutorial"
   ],
   "cell_type": "markdown",
   "metadata": {}
  },
  {
   "source": [
    "<a href=\"https://colab.research.google.com/github/netdata/netdata-community/blob/main/netdata-agent-api/netdata-pandas/anomalies_collector_tutorial.ipynb\" target=\"_blank\"><img src=\"https://colab.research.google.com/assets/colab-badge.svg\" alt=\"Open In Colab\"/></a>"
   ],
   "cell_type": "markdown",
   "metadata": {}
  },
  {
   "source": [
    "This notebook will walk through, step by step, a worked example of how the [netdata anomalies collector](https://github.com/andrewm4894/netdata/tree/anomalies-collector/collectors/python.d.plugin/anomalies) works under the hood. \n",
    "\n",
    "**Note**: you can click the \"Open in Colab\" button above to open this notebook in [Google Colab](https://colab.research.google.com/notebooks/intro.ipynb#recent=true) where you can just get going with it without having to set up python enviornments or any messy stuff like that."
   ],
   "cell_type": "markdown",
   "metadata": {}
  },
  {
   "cell_type": "code",
   "execution_count": 166,
   "metadata": {},
   "outputs": [],
   "source": [
    "# uncomment the below line to install required packages if needed.\n",
    "#!pip install netdata-pandas==0.0.28 numba==0.50.1 scikit-learn==0.23.2 pyod==0.8.3"
   ]
  },
  {
   "source": [
    "## Overview"
   ],
   "cell_type": "markdown",
   "metadata": {}
  },
  {
   "source": [
    "There are three main functions in the anomalies collector that do most of the work:\n",
    "\n",
    "- make_features(): a function to take raw data and create our feature vector used in the models.\n",
    "- train(): a function to take our training data and train our models, one for each chart. \n",
    "- predict(): a function to take the most recent data and run it through the trained model's predict() method to get our anomsly probability and anomaly flag.  "
   ],
   "cell_type": "markdown",
   "metadata": {}
  },
  {
   "cell_type": "code",
   "execution_count": 167,
   "metadata": {},
   "outputs": [],
   "source": [
    "import time\n",
    "from datetime import datetime\n",
    "import re\n",
    "\n",
    "from IPython.display import display, Markdown\n",
    "import numpy as np\n",
    "import pandas as pd\n",
    "from netdata_pandas.data import get_data, get_allmetrics\n",
    "from pyod.models.hbos import HBOS\n",
    "from pyod.models.pca import PCA\n",
    "\n",
    "\n",
    "def make_features(df, lags_n, diffs_n, smooth_n):\n",
    "    \"\"\"Given a pandas dataframe preprocess it to take differences, add smoothing, and lags as specified. \n",
    "    \"\"\"\n",
    "    if diffs_n >= 1:\n",
    "        df = df.diff(diffs_n).dropna()\n",
    "    if smooth_n >= 2:\n",
    "        df = df.rolling(smooth_n).mean().dropna()\n",
    "    if lags_n >= 1:\n",
    "        df_columns_new = [f'{col}_lag{n}' for n in range(lags_n+1) for col in df.columns]\n",
    "        df = pd.concat([df.shift(n) for n in range(lags_n + 1)], axis=1).dropna()\n",
    "        df.columns = df_columns_new\n",
    "    # sort columns to have lagged values next to each other for clarity\n",
    "    df = df.reindex(sorted(df.columns), axis=1)\n",
    "    return df"
   ]
  },
  {
   "source": [
    "In the next cell we will define all the inputs we will use in this tutorial. Feel free to play with them once you are familiar with how it all hangs together. "
   ],
   "cell_type": "markdown",
   "metadata": {}
  },
  {
   "cell_type": "code",
   "execution_count": 168,
   "metadata": {},
   "outputs": [],
   "source": [
    "# inputs\n",
    "host = 'london.my-netdata.io'\n",
    "charts_in_scope = ['system.cpu', 'system.load'] # for this tutorial we will just use two charts, and so two models\n",
    "model = 'pca'\n",
    "train_n_secs = 14400\n",
    "contamination = 0.001\n",
    "offset_n_secs = 0\n",
    "lags_n = 5\n",
    "smooth_n = 3\n",
    "diffs_n = 1\n",
    "n_prediction_steps = 20"
   ]
  },
  {
   "cell_type": "code",
   "execution_count": 169,
   "metadata": {},
   "outputs": [],
   "source": [
    "# initialize a model for each chart\n",
    "if model == 'pca':\n",
    "    models = {c: PCA(contamination=contamination) for c in charts_in_scope}\n",
    "else:\n",
    "    models = {c: HBOS(contamination=contamination) for c in charts_in_scope}"
   ]
  },
  {
   "source": [
    "## Get training data"
   ],
   "cell_type": "markdown",
   "metadata": {}
  },
  {
   "source": [
    "The first thing we need to do is get our raw training data for each chart we want to build a mnodel for."
   ],
   "cell_type": "markdown",
   "metadata": {}
  },
  {
   "cell_type": "code",
   "execution_count": 170,
   "metadata": {},
   "outputs": [
    {
     "output_type": "stream",
     "name": "stdout",
     "text": [
      "(14400, 12)\n"
     ]
    },
    {
     "output_type": "execute_result",
     "data": {
      "text/plain": [
       "            system.cpu|guest  system.cpu|guest_nice  system.cpu|iowait  \\\n",
       "time_idx                                                                 \n",
       "1603824118               0.0                    0.0                0.0   \n",
       "1603824119               0.0                    0.0                0.0   \n",
       "1603824120               0.0                    0.0                0.0   \n",
       "1603824121               0.0                    0.0                0.0   \n",
       "1603824122               0.0                    0.0                0.0   \n",
       "\n",
       "            system.cpu|irq  system.cpu|nice  system.cpu|softirq  \\\n",
       "time_idx                                                          \n",
       "1603824118             0.0              0.0                0.00   \n",
       "1603824119             0.0              0.0                0.00   \n",
       "1603824120             0.0              0.0                0.25   \n",
       "1603824121             0.0              0.0                0.00   \n",
       "1603824122             0.0              0.0                0.00   \n",
       "\n",
       "            system.cpu|steal  system.cpu|system  system.cpu|user  \\\n",
       "time_idx                                                           \n",
       "1603824118              0.00           0.501253         0.501253   \n",
       "1603824119              0.00           1.005025         0.502513   \n",
       "1603824120              0.25           0.500000         0.500000   \n",
       "1603824121              0.00           0.755668         0.251889   \n",
       "1603824122              0.00           0.750000         1.250000   \n",
       "\n",
       "            system.load|load1  system.load|load15  system.load|load5  \n",
       "time_idx                                                              \n",
       "1603824118                NaN                 NaN                NaN  \n",
       "1603824119                NaN                 NaN                NaN  \n",
       "1603824120               0.03                0.04               0.09  \n",
       "1603824121               0.03                0.04               0.09  \n",
       "1603824122               0.03                0.04               0.09  "
      ],
      "text/html": "<div>\n<style scoped>\n    .dataframe tbody tr th:only-of-type {\n        vertical-align: middle;\n    }\n\n    .dataframe tbody tr th {\n        vertical-align: top;\n    }\n\n    .dataframe thead th {\n        text-align: right;\n    }\n</style>\n<table border=\"1\" class=\"dataframe\">\n  <thead>\n    <tr style=\"text-align: right;\">\n      <th></th>\n      <th>system.cpu|guest</th>\n      <th>system.cpu|guest_nice</th>\n      <th>system.cpu|iowait</th>\n      <th>system.cpu|irq</th>\n      <th>system.cpu|nice</th>\n      <th>system.cpu|softirq</th>\n      <th>system.cpu|steal</th>\n      <th>system.cpu|system</th>\n      <th>system.cpu|user</th>\n      <th>system.load|load1</th>\n      <th>system.load|load15</th>\n      <th>system.load|load5</th>\n    </tr>\n    <tr>\n      <th>time_idx</th>\n      <th></th>\n      <th></th>\n      <th></th>\n      <th></th>\n      <th></th>\n      <th></th>\n      <th></th>\n      <th></th>\n      <th></th>\n      <th></th>\n      <th></th>\n      <th></th>\n    </tr>\n  </thead>\n  <tbody>\n    <tr>\n      <th>1603824118</th>\n      <td>0.0</td>\n      <td>0.0</td>\n      <td>0.0</td>\n      <td>0.0</td>\n      <td>0.0</td>\n      <td>0.00</td>\n      <td>0.00</td>\n      <td>0.501253</td>\n      <td>0.501253</td>\n      <td>NaN</td>\n      <td>NaN</td>\n      <td>NaN</td>\n    </tr>\n    <tr>\n      <th>1603824119</th>\n      <td>0.0</td>\n      <td>0.0</td>\n      <td>0.0</td>\n      <td>0.0</td>\n      <td>0.0</td>\n      <td>0.00</td>\n      <td>0.00</td>\n      <td>1.005025</td>\n      <td>0.502513</td>\n      <td>NaN</td>\n      <td>NaN</td>\n      <td>NaN</td>\n    </tr>\n    <tr>\n      <th>1603824120</th>\n      <td>0.0</td>\n      <td>0.0</td>\n      <td>0.0</td>\n      <td>0.0</td>\n      <td>0.0</td>\n      <td>0.25</td>\n      <td>0.25</td>\n      <td>0.500000</td>\n      <td>0.500000</td>\n      <td>0.03</td>\n      <td>0.04</td>\n      <td>0.09</td>\n    </tr>\n    <tr>\n      <th>1603824121</th>\n      <td>0.0</td>\n      <td>0.0</td>\n      <td>0.0</td>\n      <td>0.0</td>\n      <td>0.0</td>\n      <td>0.00</td>\n      <td>0.00</td>\n      <td>0.755668</td>\n      <td>0.251889</td>\n      <td>0.03</td>\n      <td>0.04</td>\n      <td>0.09</td>\n    </tr>\n    <tr>\n      <th>1603824122</th>\n      <td>0.0</td>\n      <td>0.0</td>\n      <td>0.0</td>\n      <td>0.0</td>\n      <td>0.0</td>\n      <td>0.00</td>\n      <td>0.00</td>\n      <td>0.750000</td>\n      <td>1.250000</td>\n      <td>0.03</td>\n      <td>0.04</td>\n      <td>0.09</td>\n    </tr>\n  </tbody>\n</table>\n</div>"
     },
     "metadata": {},
     "execution_count": 170
    }
   ],
   "source": [
    "# define the window for the training data to pull\n",
    "before = int(datetime.now().timestamp()) - offset_n_secs\n",
    "after =  before - train_n_secs\n",
    "\n",
    "# get the training data\n",
    "df_train = get_data(hosts=host, charts=charts_in_scope, after=after, before=before, sort_cols=True, numeric_only=True)\n",
    "print(df_train.shape)\n",
    "df_train.head()"
   ]
  },
  {
   "source": [
    "Above we can see our raw training data is just a pandas `DataFrame` with a timestamp index and a column for each metric from our `charts_in_scope` list. "
   ],
   "cell_type": "markdown",
   "metadata": {}
  },
  {
   "source": [
    "## Preprocess training data"
   ],
   "cell_type": "markdown",
   "metadata": {}
  },
  {
   "source": [
    "Before we train our model we will first do some preprocessing to the raw data to create a \"feature vector\" to try and encode a more flexible and powerful representation for the model to work with as opposed to just looking at the most recently observed values in isolation. The idea here is to give the model some extra information so that it may spot more complex and interesting anomalies as opposed to just spikes where one metric is a very high or very low value.   "
   ],
   "cell_type": "markdown",
   "metadata": {}
  },
  {
   "cell_type": "code",
   "execution_count": 171,
   "metadata": {},
   "outputs": [
    {
     "output_type": "stream",
     "name": "stdout",
     "text": [
      "(14390, 72)\n"
     ]
    },
    {
     "output_type": "execute_result",
     "data": {
      "text/plain": [
       "            system.cpu|guest_lag0  system.cpu|guest_lag1  \\\n",
       "time_idx                                                   \n",
       "1603824128                    0.0                    0.0   \n",
       "1603824129                    0.0                    0.0   \n",
       "1603824130                    0.0                    0.0   \n",
       "1603824131                    0.0                    0.0   \n",
       "1603824132                    0.0                    0.0   \n",
       "\n",
       "            system.cpu|guest_lag2  system.cpu|guest_lag3  \\\n",
       "time_idx                                                   \n",
       "1603824128                    0.0                    0.0   \n",
       "1603824129                    0.0                    0.0   \n",
       "1603824130                    0.0                    0.0   \n",
       "1603824131                    0.0                    0.0   \n",
       "1603824132                    0.0                    0.0   \n",
       "\n",
       "            system.cpu|guest_lag4  system.cpu|guest_lag5  \\\n",
       "time_idx                                                   \n",
       "1603824128                    0.0                    0.0   \n",
       "1603824129                    0.0                    0.0   \n",
       "1603824130                    0.0                    0.0   \n",
       "1603824131                    0.0                    0.0   \n",
       "1603824132                    0.0                    0.0   \n",
       "\n",
       "            system.cpu|guest_nice_lag0  system.cpu|guest_nice_lag1  \\\n",
       "time_idx                                                             \n",
       "1603824128                         0.0                         0.0   \n",
       "1603824129                         0.0                         0.0   \n",
       "1603824130                         0.0                         0.0   \n",
       "1603824131                         0.0                         0.0   \n",
       "1603824132                         0.0                         0.0   \n",
       "\n",
       "            system.cpu|guest_nice_lag2  system.cpu|guest_nice_lag3  ...  \\\n",
       "time_idx                                                            ...   \n",
       "1603824128                         0.0                         0.0  ...   \n",
       "1603824129                         0.0                         0.0  ...   \n",
       "1603824130                         0.0                         0.0  ...   \n",
       "1603824131                         0.0                         0.0  ...   \n",
       "1603824132                         0.0                         0.0  ...   \n",
       "\n",
       "            system.load|load1_lag2  system.load|load1_lag3  \\\n",
       "time_idx                                                     \n",
       "1603824128                     0.0                     0.0   \n",
       "1603824129                     0.0                     0.0   \n",
       "1603824130                     0.0                     0.0   \n",
       "1603824131                     0.0                     0.0   \n",
       "1603824132                     0.0                     0.0   \n",
       "\n",
       "            system.load|load1_lag4  system.load|load1_lag5  \\\n",
       "time_idx                                                     \n",
       "1603824128                     0.0                     0.0   \n",
       "1603824129                     0.0                     0.0   \n",
       "1603824130                     0.0                     0.0   \n",
       "1603824131                     0.0                     0.0   \n",
       "1603824132                     0.0                     0.0   \n",
       "\n",
       "            system.load|load5_lag0  system.load|load5_lag1  \\\n",
       "time_idx                                                     \n",
       "1603824128                     0.0                     0.0   \n",
       "1603824129                     0.0                     0.0   \n",
       "1603824130                     0.0                     0.0   \n",
       "1603824131                     0.0                     0.0   \n",
       "1603824132                     0.0                     0.0   \n",
       "\n",
       "            system.load|load5_lag2  system.load|load5_lag3  \\\n",
       "time_idx                                                     \n",
       "1603824128                     0.0                     0.0   \n",
       "1603824129                     0.0                     0.0   \n",
       "1603824130                     0.0                     0.0   \n",
       "1603824131                     0.0                     0.0   \n",
       "1603824132                     0.0                     0.0   \n",
       "\n",
       "            system.load|load5_lag4  system.load|load5_lag5  \n",
       "time_idx                                                    \n",
       "1603824128                     0.0                     0.0  \n",
       "1603824129                     0.0                     0.0  \n",
       "1603824130                     0.0                     0.0  \n",
       "1603824131                     0.0                     0.0  \n",
       "1603824132                     0.0                     0.0  \n",
       "\n",
       "[5 rows x 72 columns]"
      ],
      "text/html": "<div>\n<style scoped>\n    .dataframe tbody tr th:only-of-type {\n        vertical-align: middle;\n    }\n\n    .dataframe tbody tr th {\n        vertical-align: top;\n    }\n\n    .dataframe thead th {\n        text-align: right;\n    }\n</style>\n<table border=\"1\" class=\"dataframe\">\n  <thead>\n    <tr style=\"text-align: right;\">\n      <th></th>\n      <th>system.cpu|guest_lag0</th>\n      <th>system.cpu|guest_lag1</th>\n      <th>system.cpu|guest_lag2</th>\n      <th>system.cpu|guest_lag3</th>\n      <th>system.cpu|guest_lag4</th>\n      <th>system.cpu|guest_lag5</th>\n      <th>system.cpu|guest_nice_lag0</th>\n      <th>system.cpu|guest_nice_lag1</th>\n      <th>system.cpu|guest_nice_lag2</th>\n      <th>system.cpu|guest_nice_lag3</th>\n      <th>...</th>\n      <th>system.load|load1_lag2</th>\n      <th>system.load|load1_lag3</th>\n      <th>system.load|load1_lag4</th>\n      <th>system.load|load1_lag5</th>\n      <th>system.load|load5_lag0</th>\n      <th>system.load|load5_lag1</th>\n      <th>system.load|load5_lag2</th>\n      <th>system.load|load5_lag3</th>\n      <th>system.load|load5_lag4</th>\n      <th>system.load|load5_lag5</th>\n    </tr>\n    <tr>\n      <th>time_idx</th>\n      <th></th>\n      <th></th>\n      <th></th>\n      <th></th>\n      <th></th>\n      <th></th>\n      <th></th>\n      <th></th>\n      <th></th>\n      <th></th>\n      <th></th>\n      <th></th>\n      <th></th>\n      <th></th>\n      <th></th>\n      <th></th>\n      <th></th>\n      <th></th>\n      <th></th>\n      <th></th>\n      <th></th>\n    </tr>\n  </thead>\n  <tbody>\n    <tr>\n      <th>1603824128</th>\n      <td>0.0</td>\n      <td>0.0</td>\n      <td>0.0</td>\n      <td>0.0</td>\n      <td>0.0</td>\n      <td>0.0</td>\n      <td>0.0</td>\n      <td>0.0</td>\n      <td>0.0</td>\n      <td>0.0</td>\n      <td>...</td>\n      <td>0.0</td>\n      <td>0.0</td>\n      <td>0.0</td>\n      <td>0.0</td>\n      <td>0.0</td>\n      <td>0.0</td>\n      <td>0.0</td>\n      <td>0.0</td>\n      <td>0.0</td>\n      <td>0.0</td>\n    </tr>\n    <tr>\n      <th>1603824129</th>\n      <td>0.0</td>\n      <td>0.0</td>\n      <td>0.0</td>\n      <td>0.0</td>\n      <td>0.0</td>\n      <td>0.0</td>\n      <td>0.0</td>\n      <td>0.0</td>\n      <td>0.0</td>\n      <td>0.0</td>\n      <td>...</td>\n      <td>0.0</td>\n      <td>0.0</td>\n      <td>0.0</td>\n      <td>0.0</td>\n      <td>0.0</td>\n      <td>0.0</td>\n      <td>0.0</td>\n      <td>0.0</td>\n      <td>0.0</td>\n      <td>0.0</td>\n    </tr>\n    <tr>\n      <th>1603824130</th>\n      <td>0.0</td>\n      <td>0.0</td>\n      <td>0.0</td>\n      <td>0.0</td>\n      <td>0.0</td>\n      <td>0.0</td>\n      <td>0.0</td>\n      <td>0.0</td>\n      <td>0.0</td>\n      <td>0.0</td>\n      <td>...</td>\n      <td>0.0</td>\n      <td>0.0</td>\n      <td>0.0</td>\n      <td>0.0</td>\n      <td>0.0</td>\n      <td>0.0</td>\n      <td>0.0</td>\n      <td>0.0</td>\n      <td>0.0</td>\n      <td>0.0</td>\n    </tr>\n    <tr>\n      <th>1603824131</th>\n      <td>0.0</td>\n      <td>0.0</td>\n      <td>0.0</td>\n      <td>0.0</td>\n      <td>0.0</td>\n      <td>0.0</td>\n      <td>0.0</td>\n      <td>0.0</td>\n      <td>0.0</td>\n      <td>0.0</td>\n      <td>...</td>\n      <td>0.0</td>\n      <td>0.0</td>\n      <td>0.0</td>\n      <td>0.0</td>\n      <td>0.0</td>\n      <td>0.0</td>\n      <td>0.0</td>\n      <td>0.0</td>\n      <td>0.0</td>\n      <td>0.0</td>\n    </tr>\n    <tr>\n      <th>1603824132</th>\n      <td>0.0</td>\n      <td>0.0</td>\n      <td>0.0</td>\n      <td>0.0</td>\n      <td>0.0</td>\n      <td>0.0</td>\n      <td>0.0</td>\n      <td>0.0</td>\n      <td>0.0</td>\n      <td>0.0</td>\n      <td>...</td>\n      <td>0.0</td>\n      <td>0.0</td>\n      <td>0.0</td>\n      <td>0.0</td>\n      <td>0.0</td>\n      <td>0.0</td>\n      <td>0.0</td>\n      <td>0.0</td>\n      <td>0.0</td>\n      <td>0.0</td>\n    </tr>\n  </tbody>\n</table>\n<p>5 rows × 72 columns</p>\n</div>"
     },
     "metadata": {},
     "execution_count": 171
    }
   ],
   "source": [
    "df_train_processed = make_features(df_train, lags_n, diffs_n, smooth_n)\n",
    "print(df_train_processed.shape)\n",
    "df_train_processed.head()"
   ]
  },
  {
   "cell_type": "code",
   "execution_count": 172,
   "metadata": {},
   "outputs": [
    {
     "output_type": "stream",
     "name": "stdout",
     "text": [
      "df_train shape is (14400, 12)\ndf_train_processed is (14390, 72)\nmake_features has added 60 new columns, one for each lags_n (12*5=60)\n"
     ]
    }
   ],
   "source": [
    "# Lets look at how the shape of our data has changed due to preprocessing\n",
    "print(f'df_train shape is {df_train.shape}')\n",
    "print(f'df_train_processed is {df_train_processed.shape}')\n",
    "n_cols_added = len(df_train_processed.columns)-len(df_train.columns)\n",
    "print(f'make_features has added {n_cols_added} new columns, one for each lags_n ({df_train.shape[1]}*{lags_n}={n_cols_added})')"
   ]
  },
  {
   "source": [
    "So as you can see from the above output, our preprocessing has added a new column for each `lags_n` specified. And we have lost a few rows due to `smooth_n` and `diffs_n`"
   ],
   "cell_type": "markdown",
   "metadata": {}
  },
  {
   "source": [
    "To be super clear lets look at the first few rows of training data for a specific metric before and after preprocessing. "
   ],
   "cell_type": "markdown",
   "metadata": {}
  },
  {
   "cell_type": "code",
   "execution_count": 173,
   "metadata": {},
   "outputs": [
    {
     "output_type": "stream",
     "name": "stdout",
     "text": [
      "raw data\n"
     ]
    },
    {
     "output_type": "display_data",
     "data": {
      "text/plain": "            system.cpu|user\ntime_idx                   \n1603824118         0.501253\n1603824119         0.502513\n1603824120         0.500000\n1603824121         0.251889\n1603824122         1.250000\n1603824123         0.503778\n1603824124         0.755668\n1603824125         1.005025\n1603824126         0.751880\n1603824127         1.259446",
      "text/html": "<div>\n<style scoped>\n    .dataframe tbody tr th:only-of-type {\n        vertical-align: middle;\n    }\n\n    .dataframe tbody tr th {\n        vertical-align: top;\n    }\n\n    .dataframe thead th {\n        text-align: right;\n    }\n</style>\n<table border=\"1\" class=\"dataframe\">\n  <thead>\n    <tr style=\"text-align: right;\">\n      <th></th>\n      <th>system.cpu|user</th>\n    </tr>\n    <tr>\n      <th>time_idx</th>\n      <th></th>\n    </tr>\n  </thead>\n  <tbody>\n    <tr>\n      <th>1603824118</th>\n      <td>0.501253</td>\n    </tr>\n    <tr>\n      <th>1603824119</th>\n      <td>0.502513</td>\n    </tr>\n    <tr>\n      <th>1603824120</th>\n      <td>0.500000</td>\n    </tr>\n    <tr>\n      <th>1603824121</th>\n      <td>0.251889</td>\n    </tr>\n    <tr>\n      <th>1603824122</th>\n      <td>1.250000</td>\n    </tr>\n    <tr>\n      <th>1603824123</th>\n      <td>0.503778</td>\n    </tr>\n    <tr>\n      <th>1603824124</th>\n      <td>0.755668</td>\n    </tr>\n    <tr>\n      <th>1603824125</th>\n      <td>1.005025</td>\n    </tr>\n    <tr>\n      <th>1603824126</th>\n      <td>0.751880</td>\n    </tr>\n    <tr>\n      <th>1603824127</th>\n      <td>1.259446</td>\n    </tr>\n  </tbody>\n</table>\n</div>"
     },
     "metadata": {}
    },
    {
     "output_type": "stream",
     "name": "stdout",
     "text": [
      "processed data\n"
     ]
    },
    {
     "output_type": "display_data",
     "data": {
      "text/plain": "            system.cpu|user_lag0  system.cpu|user_lag1  system.cpu|user_lag2  \\\ntime_idx                                                                       \n1603824128             -0.085632              0.167926                0.0827   \n\n            system.cpu|user_lag3  system.cpu|user_lag4  system.cpu|user_lag5  \ntime_idx                                                                      \n1603824128             -0.081658              0.167926              0.001259  ",
      "text/html": "<div>\n<style scoped>\n    .dataframe tbody tr th:only-of-type {\n        vertical-align: middle;\n    }\n\n    .dataframe tbody tr th {\n        vertical-align: top;\n    }\n\n    .dataframe thead th {\n        text-align: right;\n    }\n</style>\n<table border=\"1\" class=\"dataframe\">\n  <thead>\n    <tr style=\"text-align: right;\">\n      <th></th>\n      <th>system.cpu|user_lag0</th>\n      <th>system.cpu|user_lag1</th>\n      <th>system.cpu|user_lag2</th>\n      <th>system.cpu|user_lag3</th>\n      <th>system.cpu|user_lag4</th>\n      <th>system.cpu|user_lag5</th>\n    </tr>\n    <tr>\n      <th>time_idx</th>\n      <th></th>\n      <th></th>\n      <th></th>\n      <th></th>\n      <th></th>\n      <th></th>\n    </tr>\n  </thead>\n  <tbody>\n    <tr>\n      <th>1603824128</th>\n      <td>-0.085632</td>\n      <td>0.167926</td>\n      <td>0.0827</td>\n      <td>-0.081658</td>\n      <td>0.167926</td>\n      <td>0.001259</td>\n    </tr>\n  </tbody>\n</table>\n</div>"
     },
     "metadata": {}
    },
    {
     "output_type": "stream",
     "name": "stdout",
     "text": [
      "manualy calculated\n"
     ]
    },
    {
     "output_type": "display_data",
     "data": {
      "text/plain": "            system.cpu|user\ntime_idx                   \n1603824128        -0.085632",
      "text/html": "<div>\n<style scoped>\n    .dataframe tbody tr th:only-of-type {\n        vertical-align: middle;\n    }\n\n    .dataframe tbody tr th {\n        vertical-align: top;\n    }\n\n    .dataframe thead th {\n        text-align: right;\n    }\n</style>\n<table border=\"1\" class=\"dataframe\">\n  <thead>\n    <tr style=\"text-align: right;\">\n      <th></th>\n      <th>system.cpu|user</th>\n    </tr>\n    <tr>\n      <th>time_idx</th>\n      <th></th>\n    </tr>\n  </thead>\n  <tbody>\n    <tr>\n      <th>1603824128</th>\n      <td>-0.085632</td>\n    </tr>\n  </tbody>\n</table>\n</div>"
     },
     "metadata": {}
    }
   ],
   "source": [
    "metric = 'system.cpu|user'\n",
    "print('raw data')\n",
    "display(df_train[df_train.columns[df_train.columns.str.startswith(metric)]].head(1 + lags_n + smooth_n + diffs_n))\n",
    "print('processed data')\n",
    "display(df_train_processed[df_train_processed.columns[df_train_processed.columns.str.startswith(metric)]].head(1))\n",
    "print('manualy calculated')\n",
    "display(df_train[df_train.columns[df_train.columns.str.startswith(metric)]].diff(diffs_n).dropna().rolling(smooth_n).mean().head(1 + lags_n + smooth_n + diffs_n).tail(1))"
   ]
  },
  {
   "source": [
    "Above you can see how one raw metric value is now being preprocessed to be a vector of `lags_n` differenced and smoothed values. It is this matrix of smoothed differences that the model will use for both training and during a predict step. "
   ],
   "cell_type": "markdown",
   "metadata": {}
  },
  {
   "source": [
    "## Train models"
   ],
   "cell_type": "markdown",
   "metadata": {}
  },
  {
   "source": [
    "Now that we have our preprocessed training data we will train a model for each chart using this preprocessed feature represnetation that represents each time step for each chart as a lagged, smoothed metrix of differences for each chart.  "
   ],
   "cell_type": "markdown",
   "metadata": {}
  },
  {
   "cell_type": "code",
   "execution_count": 174,
   "metadata": {},
   "outputs": [
    {
     "output_type": "stream",
     "name": "stdout",
     "text": [
      "train model for system.cpu using X_train of (14390, 54)\n",
      "train model for system.load using X_train of (14390, 18)\n"
     ]
    }
   ],
   "source": [
    "# loop over each chart in scope and train a model for each\n",
    "for chart in charts_in_scope:\n",
    "    X_train = df_train_processed[df_train_processed.columns[df_train_processed.columns.str.startswith(chart)]].values\n",
    "    print(f'train model for {chart} using X_train of {X_train.shape}')\n",
    "    models[chart] = models[chart].fit(X_train)"
   ]
  },
  {
   "source": [
    "So we have now trained our models, one for each chart based on our preprocessed training data. To be concrete we will look at some example obvervations our model has been trained on. "
   ],
   "cell_type": "markdown",
   "metadata": {}
  },
  {
   "cell_type": "code",
   "execution_count": 175,
   "metadata": {},
   "outputs": [
    {
     "output_type": "stream",
     "name": "stdout",
     "text": [
      "timestamp=1603824128\n",
      "feature vector for 0th training observation:\n",
      "[ 0.          0.          0.          0.          0.          0.\n",
      "  0.          0.          0.          0.          0.          0.\n",
      "  0.          0.          0.          0.          0.          0.\n",
      "  0.          0.          0.          0.          0.          0.\n",
      "  0.          0.          0.          0.          0.          0.\n",
      " -0.00062657  0.          0.          0.0837521   0.         -0.08333333\n",
      "  0.08312553  0.          0.          0.          0.         -0.08333333\n",
      " -0.0018797  -0.16792613 -0.0012626   0.00125627  0.08396307  0.0852225\n",
      " -0.0856318   0.1679261   0.08270047 -0.0816583   0.1679261   0.00125943]\n"
     ]
    }
   ],
   "source": [
    "# lets look at the first matrix or \"feature vector\" for our first chart\n",
    "obs_n = 0\n",
    "print(f'timestamp={df_train_processed[df_train_processed.columns[df_train_processed.columns.str.startswith(charts_in_scope[0])]].index[obs_n]}')\n",
    "print(f'feature vector for {obs_n}th training observation:')\n",
    "print(df_train_processed[df_train_processed.columns[df_train_processed.columns.str.startswith(charts_in_scope[0])]].values[obs_n]) "
   ]
  },
  {
   "cell_type": "code",
   "execution_count": 176,
   "metadata": {},
   "outputs": [
    {
     "output_type": "stream",
     "name": "stdout",
     "text": [
      "timestamp=1603824129\nfeature vector for 1th training observation:\n[ 0.          0.          0.          0.          0.          0.\n  0.          0.          0.          0.          0.          0.\n  0.          0.          0.          0.          0.          0.\n  0.          0.          0.          0.          0.          0.\n  0.          0.          0.          0.          0.          0.\n  0.         -0.00062657  0.          0.          0.0837521   0.\n  0.          0.08312553  0.          0.          0.          0.\n  0.         -0.0018797  -0.16792613 -0.0012626   0.00125627  0.08396307\n -0.0835422  -0.0856318   0.1679261   0.08270047 -0.0816583   0.1679261 ]\n"
     ]
    }
   ],
   "source": [
    "# and the next one\n",
    "obs_n = 1\n",
    "print(f'timestamp={df_train_processed[df_train_processed.columns[df_train_processed.columns.str.startswith(charts_in_scope[0])]].index[obs_n]}')\n",
    "print(f'feature vector for {obs_n}th training observation:')\n",
    "print(df_train_processed[df_train_processed.columns[df_train_processed.columns.str.startswith(charts_in_scope[0])]].values[obs_n]) "
   ]
  },
  {
   "source": [
    "If you look close enough at the above two cells you will see the same values be shifted for each lag."
   ],
   "cell_type": "markdown",
   "metadata": {}
  },
  {
   "source": [
    "Each matrix of numbers above is the representation we give to our model of each timestep. This is how the model views each chart - a matrix (or \"feature vector\" if you want to sound fancy) or floating point numbers encoding some differenced and smoothed information about the last `lags_n` observations for each dimension in the specific chart we are modelling. "
   ],
   "cell_type": "markdown",
   "metadata": {}
  },
  {
   "source": [
    "## Get pediction data"
   ],
   "cell_type": "markdown",
   "metadata": {}
  },
  {
   "source": [
    "Now that we have our trained models for each chart we can use them in looking at incoming obsevarions and 'ask' the trained models how 'unusual' it thinks they are. "
   ],
   "cell_type": "markdown",
   "metadata": {}
  },
  {
   "cell_type": "code",
   "execution_count": 177,
   "metadata": {},
   "outputs": [
    {
     "output_type": "stream",
     "name": "stdout",
     "text": [
      "we now have 10 recent preprocessed feature vectors to predict on.\n"
     ]
    }
   ],
   "source": [
    "# define a empty dataframe we can store enough recent data into to generate our feature vector for recent data on\n",
    "df_recent = pd.DataFrame()\n",
    "times = []\n",
    "# simulate n_prediction_steps of getting latest data, making feature vecotr and getting predicitons\n",
    "for prediction_step in range(n_prediction_steps):\n",
    "    time.sleep(1)\n",
    "    df_latest = get_allmetrics(host=host, charts=charts_in_scope, wide=True)[df_train.columns]\n",
    "    df_latest['time_idx'] = int(time.time())\n",
    "    df_latest = df_latest.set_index('time_idx')\n",
    "    # just keep enough recent data to generate each feature vector\n",
    "    df_recent = df_recent.append(df_latest).tail((lags_n + smooth_n + diffs_n) * 2)\n",
    "    df_predict_processed = make_features(df_recent, lags_n, diffs_n, smooth_n)\n",
    "print(f'we now have {df_predict_processed.shape[0]} recent preprocessed feature vectors to predict on.')"
   ]
  },
  {
   "cell_type": "code",
   "execution_count": 178,
   "metadata": {},
   "outputs": [
    {
     "output_type": "stream",
     "name": "stdout",
     "text": [
      "(10, 72)\n"
     ]
    },
    {
     "output_type": "execute_result",
     "data": {
      "text/plain": [
       "            system.cpu|guest_lag0  system.cpu|guest_lag1  \\\n",
       "time_idx                                                   \n",
       "1603838531                    0.0                    0.0   \n",
       "1603838532                    0.0                    0.0   \n",
       "1603838533                    0.0                    0.0   \n",
       "1603838535                    0.0                    0.0   \n",
       "1603838536                    0.0                    0.0   \n",
       "\n",
       "            system.cpu|guest_lag2  system.cpu|guest_lag3  \\\n",
       "time_idx                                                   \n",
       "1603838531                    0.0                    0.0   \n",
       "1603838532                    0.0                    0.0   \n",
       "1603838533                    0.0                    0.0   \n",
       "1603838535                    0.0                    0.0   \n",
       "1603838536                    0.0                    0.0   \n",
       "\n",
       "            system.cpu|guest_lag4  system.cpu|guest_lag5  \\\n",
       "time_idx                                                   \n",
       "1603838531                    0.0                    0.0   \n",
       "1603838532                    0.0                    0.0   \n",
       "1603838533                    0.0                    0.0   \n",
       "1603838535                    0.0                    0.0   \n",
       "1603838536                    0.0                    0.0   \n",
       "\n",
       "            system.cpu|guest_nice_lag0  system.cpu|guest_nice_lag1  \\\n",
       "time_idx                                                             \n",
       "1603838531                         0.0                         0.0   \n",
       "1603838532                         0.0                         0.0   \n",
       "1603838533                         0.0                         0.0   \n",
       "1603838535                         0.0                         0.0   \n",
       "1603838536                         0.0                         0.0   \n",
       "\n",
       "            system.cpu|guest_nice_lag2  system.cpu|guest_nice_lag3  ...  \\\n",
       "time_idx                                                            ...   \n",
       "1603838531                         0.0                         0.0  ...   \n",
       "1603838532                         0.0                         0.0  ...   \n",
       "1603838533                         0.0                         0.0  ...   \n",
       "1603838535                         0.0                         0.0  ...   \n",
       "1603838536                         0.0                         0.0  ...   \n",
       "\n",
       "            system.load|load1_lag2  system.load|load1_lag3  \\\n",
       "time_idx                                                     \n",
       "1603838531                     0.0                     0.0   \n",
       "1603838532                     0.0                     0.0   \n",
       "1603838533                     0.0                     0.0   \n",
       "1603838535                     0.0                     0.0   \n",
       "1603838536                     0.0                     0.0   \n",
       "\n",
       "            system.load|load1_lag4  system.load|load1_lag5  \\\n",
       "time_idx                                                     \n",
       "1603838531                     0.0                     0.0   \n",
       "1603838532                     0.0                     0.0   \n",
       "1603838533                     0.0                     0.0   \n",
       "1603838535                     0.0                     0.0   \n",
       "1603838536                     0.0                     0.0   \n",
       "\n",
       "            system.load|load5_lag0  system.load|load5_lag1  \\\n",
       "time_idx                                                     \n",
       "1603838531                0.000000                     0.0   \n",
       "1603838532                0.000000                     0.0   \n",
       "1603838533                0.000000                     0.0   \n",
       "1603838535                0.000000                     0.0   \n",
       "1603838536               -0.003333                     0.0   \n",
       "\n",
       "            system.load|load5_lag2  system.load|load5_lag3  \\\n",
       "time_idx                                                     \n",
       "1603838531                     0.0                     0.0   \n",
       "1603838532                     0.0                     0.0   \n",
       "1603838533                     0.0                     0.0   \n",
       "1603838535                     0.0                     0.0   \n",
       "1603838536                     0.0                     0.0   \n",
       "\n",
       "            system.load|load5_lag4  system.load|load5_lag5  \n",
       "time_idx                                                    \n",
       "1603838531                     0.0                     0.0  \n",
       "1603838532                     0.0                     0.0  \n",
       "1603838533                     0.0                     0.0  \n",
       "1603838535                     0.0                     0.0  \n",
       "1603838536                     0.0                     0.0  \n",
       "\n",
       "[5 rows x 72 columns]"
      ],
      "text/html": "<div>\n<style scoped>\n    .dataframe tbody tr th:only-of-type {\n        vertical-align: middle;\n    }\n\n    .dataframe tbody tr th {\n        vertical-align: top;\n    }\n\n    .dataframe thead th {\n        text-align: right;\n    }\n</style>\n<table border=\"1\" class=\"dataframe\">\n  <thead>\n    <tr style=\"text-align: right;\">\n      <th></th>\n      <th>system.cpu|guest_lag0</th>\n      <th>system.cpu|guest_lag1</th>\n      <th>system.cpu|guest_lag2</th>\n      <th>system.cpu|guest_lag3</th>\n      <th>system.cpu|guest_lag4</th>\n      <th>system.cpu|guest_lag5</th>\n      <th>system.cpu|guest_nice_lag0</th>\n      <th>system.cpu|guest_nice_lag1</th>\n      <th>system.cpu|guest_nice_lag2</th>\n      <th>system.cpu|guest_nice_lag3</th>\n      <th>...</th>\n      <th>system.load|load1_lag2</th>\n      <th>system.load|load1_lag3</th>\n      <th>system.load|load1_lag4</th>\n      <th>system.load|load1_lag5</th>\n      <th>system.load|load5_lag0</th>\n      <th>system.load|load5_lag1</th>\n      <th>system.load|load5_lag2</th>\n      <th>system.load|load5_lag3</th>\n      <th>system.load|load5_lag4</th>\n      <th>system.load|load5_lag5</th>\n    </tr>\n    <tr>\n      <th>time_idx</th>\n      <th></th>\n      <th></th>\n      <th></th>\n      <th></th>\n      <th></th>\n      <th></th>\n      <th></th>\n      <th></th>\n      <th></th>\n      <th></th>\n      <th></th>\n      <th></th>\n      <th></th>\n      <th></th>\n      <th></th>\n      <th></th>\n      <th></th>\n      <th></th>\n      <th></th>\n      <th></th>\n      <th></th>\n    </tr>\n  </thead>\n  <tbody>\n    <tr>\n      <th>1603838531</th>\n      <td>0.0</td>\n      <td>0.0</td>\n      <td>0.0</td>\n      <td>0.0</td>\n      <td>0.0</td>\n      <td>0.0</td>\n      <td>0.0</td>\n      <td>0.0</td>\n      <td>0.0</td>\n      <td>0.0</td>\n      <td>...</td>\n      <td>0.0</td>\n      <td>0.0</td>\n      <td>0.0</td>\n      <td>0.0</td>\n      <td>0.000000</td>\n      <td>0.0</td>\n      <td>0.0</td>\n      <td>0.0</td>\n      <td>0.0</td>\n      <td>0.0</td>\n    </tr>\n    <tr>\n      <th>1603838532</th>\n      <td>0.0</td>\n      <td>0.0</td>\n      <td>0.0</td>\n      <td>0.0</td>\n      <td>0.0</td>\n      <td>0.0</td>\n      <td>0.0</td>\n      <td>0.0</td>\n      <td>0.0</td>\n      <td>0.0</td>\n      <td>...</td>\n      <td>0.0</td>\n      <td>0.0</td>\n      <td>0.0</td>\n      <td>0.0</td>\n      <td>0.000000</td>\n      <td>0.0</td>\n      <td>0.0</td>\n      <td>0.0</td>\n      <td>0.0</td>\n      <td>0.0</td>\n    </tr>\n    <tr>\n      <th>1603838533</th>\n      <td>0.0</td>\n      <td>0.0</td>\n      <td>0.0</td>\n      <td>0.0</td>\n      <td>0.0</td>\n      <td>0.0</td>\n      <td>0.0</td>\n      <td>0.0</td>\n      <td>0.0</td>\n      <td>0.0</td>\n      <td>...</td>\n      <td>0.0</td>\n      <td>0.0</td>\n      <td>0.0</td>\n      <td>0.0</td>\n      <td>0.000000</td>\n      <td>0.0</td>\n      <td>0.0</td>\n      <td>0.0</td>\n      <td>0.0</td>\n      <td>0.0</td>\n    </tr>\n    <tr>\n      <th>1603838535</th>\n      <td>0.0</td>\n      <td>0.0</td>\n      <td>0.0</td>\n      <td>0.0</td>\n      <td>0.0</td>\n      <td>0.0</td>\n      <td>0.0</td>\n      <td>0.0</td>\n      <td>0.0</td>\n      <td>0.0</td>\n      <td>...</td>\n      <td>0.0</td>\n      <td>0.0</td>\n      <td>0.0</td>\n      <td>0.0</td>\n      <td>0.000000</td>\n      <td>0.0</td>\n      <td>0.0</td>\n      <td>0.0</td>\n      <td>0.0</td>\n      <td>0.0</td>\n    </tr>\n    <tr>\n      <th>1603838536</th>\n      <td>0.0</td>\n      <td>0.0</td>\n      <td>0.0</td>\n      <td>0.0</td>\n      <td>0.0</td>\n      <td>0.0</td>\n      <td>0.0</td>\n      <td>0.0</td>\n      <td>0.0</td>\n      <td>0.0</td>\n      <td>...</td>\n      <td>0.0</td>\n      <td>0.0</td>\n      <td>0.0</td>\n      <td>0.0</td>\n      <td>-0.003333</td>\n      <td>0.0</td>\n      <td>0.0</td>\n      <td>0.0</td>\n      <td>0.0</td>\n      <td>0.0</td>\n    </tr>\n  </tbody>\n</table>\n<p>5 rows × 72 columns</p>\n</div>"
     },
     "metadata": {},
     "execution_count": 178
    }
   ],
   "source": [
    "print(df_predict_processed.shape)\n",
    "df_predict_processed.head()"
   ]
  },
  {
   "source": [
    "## Get predictions"
   ],
   "cell_type": "markdown",
   "metadata": {}
  },
  {
   "cell_type": "code",
   "execution_count": 179,
   "metadata": {},
   "outputs": [
    {
     "output_type": "stream",
     "name": "stdout",
     "text": [
      "\npredictions for time 1603838531\n\nmodel=system.cpu, anomaly_probability=0.0591, anomaly_flag=0\nmodel=system.load, anomaly_probability=0.0, anomaly_flag=0\n\npredictions for time 1603838532\n\nmodel=system.cpu, anomaly_probability=0.0588, anomaly_flag=0\nmodel=system.load, anomaly_probability=0.0, anomaly_flag=0\n\npredictions for time 1603838533\n\nmodel=system.cpu, anomaly_probability=0.0683, anomaly_flag=0\nmodel=system.load, anomaly_probability=0.0, anomaly_flag=0\n\npredictions for time 1603838535\n\nmodel=system.cpu, anomaly_probability=0.0699, anomaly_flag=0\nmodel=system.load, anomaly_probability=0.0, anomaly_flag=0\n\npredictions for time 1603838536\n\nmodel=system.cpu, anomaly_probability=0.0717, anomaly_flag=0\nmodel=system.load, anomaly_probability=0.0173, anomaly_flag=0\n\npredictions for time 1603838537\n\nmodel=system.cpu, anomaly_probability=0.093, anomaly_flag=0\nmodel=system.load, anomaly_probability=0.0309, anomaly_flag=0\n\npredictions for time 1603838538\n\nmodel=system.cpu, anomaly_probability=0.0821, anomaly_flag=0\nmodel=system.load, anomaly_probability=0.0402, anomaly_flag=0\n\npredictions for time 1603838539\n\nmodel=system.cpu, anomaly_probability=0.0837, anomaly_flag=0\nmodel=system.load, anomaly_probability=0.0399, anomaly_flag=0\n\npredictions for time 1603838540\n\nmodel=system.cpu, anomaly_probability=0.097, anomaly_flag=0\nmodel=system.load, anomaly_probability=0.0395, anomaly_flag=0\n\npredictions for time 1603838542\n\nmodel=system.cpu, anomaly_probability=0.1117, anomaly_flag=0\nmodel=system.load, anomaly_probability=0.0398, anomaly_flag=0\n"
     ]
    }
   ],
   "source": [
    "# for each recent feature vector, get a prediction\n",
    "for time_idx, row in df_predict_processed.iterrows():\n",
    "    print(f'\\npredictions for time {time_idx}\\n')\n",
    "    df_tmp = row.to_frame().transpose()\n",
    "    for model in models:\n",
    "        X_predict = df_tmp[df_tmp.columns[df_tmp.columns.str.startswith(model)]].values\n",
    "        anomaly_probability = round(models[model].predict_proba(X_predict)[-1][1],4)\n",
    "        anomaly_flag = models[model].predict(X_predict)[-1]\n",
    "        print(f'model={model}, anomaly_probability={anomaly_probability}, anomaly_flag={anomaly_flag}')"
   ]
  },
  {
   "cell_type": "code",
   "execution_count": null,
   "metadata": {},
   "outputs": [],
   "source": []
  },
  {
   "cell_type": "code",
   "execution_count": null,
   "metadata": {},
   "outputs": [],
   "source": []
  },
  {
   "cell_type": "code",
   "execution_count": null,
   "metadata": {},
   "outputs": [],
   "source": []
  },
  {
   "cell_type": "code",
   "execution_count": null,
   "metadata": {},
   "outputs": [],
   "source": []
  },
  {
   "cell_type": "code",
   "execution_count": null,
   "metadata": {},
   "outputs": [],
   "source": []
  }
 ]
}